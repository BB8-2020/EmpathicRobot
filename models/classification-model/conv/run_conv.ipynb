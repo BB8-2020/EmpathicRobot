{
 "cells": [
  {
   "cell_type": "markdown",
   "metadata": {},
   "source": [
    "# Analyse and run the model"
   ]
  },
  {
   "cell_type": "markdown",
   "metadata": {},
   "source": [
    "In this notebook we are going to build, test, analyze and compare the model with the previous versions. This is followed by improvements to the model and the data. We run this cycle a few times until we achieve realistic and nice results."
   ]
  },
  {
   "cell_type": "markdown",
   "metadata": {},
   "source": [
    "But first, let's start by importing the necessary libraries and files, as follows:"
   ]
  },
  {
   "cell_type": "code",
   "execution_count": 1,
   "metadata": {},
   "outputs": [],
   "source": [
    "# To read the data \n",
    "import pickle\n",
    "import os\n",
    "import _pickle as cPickle\n",
    "import bz2\n",
    "\n",
    "# Import the file with the model functions\n",
    "import sys\n",
    "sys.path.append('/Users/marya/PycharmProjects/EmpathicRobot')\n",
    "from conv_model import *\n",
    "from models.functions import *"
   ]
  },
  {
   "cell_type": "markdown",
   "metadata": {},
   "source": [
    "The structure of the models can still be found [here](https://github.com/BB8-2020/EmpathicRobot/blob/classification-model/models/classification-model/conv/conv_model.py)."
   ]
  },
  {
   "cell_type": "markdown",
   "metadata": {},
   "source": [
    "## Read data"
   ]
  },
  {
   "cell_type": "markdown",
   "metadata": {},
   "source": [
    "As we have done before, our data is ready to use. In this section we will use **ferPlus** to train the model. This data has already been read, prepared and stored in **hier linkje zetten** this file. \n",
    "For now, our data is in a pickel file that we will read as follows:"
   ]
  },
  {
   "cell_type": "markdown",
   "metadata": {},
   "source": [
    "For simplicity, we set up the path to the data as follows, you can also set it to your own path."
   ]
  },
  {
   "cell_type": "code",
   "execution_count": 2,
   "metadata": {},
   "outputs": [],
   "source": [
    "os.chdir(os.getcwd() + '/data/')"
   ]
  },
  {
   "cell_type": "markdown",
   "metadata": {},
   "source": [
    "We immediately split the data into train, test and validation set."
   ]
  },
  {
   "cell_type": "code",
   "execution_count": 3,
   "metadata": {},
   "outputs": [],
   "source": [
    "x_train, y_train, x_val, y_val, x_test, y_test = cPickle.load(bz2.BZ2File('ferPlus_processed', 'rb'))"
   ]
  },
  {
   "cell_type": "markdown",
   "metadata": {},
   "source": [
    "As we see, the data consists of train set that contains 80% of the data. The validation and the test set are equal in size 20% and are used to subsequently test the model.\n",
    "\n",
    "This data has already been cleaned and normalized so we don't have to do anything with the data anymore.\n",
    "\n"
   ]
  },
  {
   "cell_type": "code",
   "execution_count": 4,
   "metadata": {},
   "outputs": [
    {
     "name": "stdout",
     "output_type": "stream",
     "text": [
      "Train set:\n",
      "X_train shape:(28390, 48, 48, 1)\n",
      "Y_train shape:(28390, 7)\n",
      "\n",
      "Test set:\n",
      "X_test shape:(3549, 48, 48, 1)\n",
      "Y_test shape:(3549, 7)\n",
      "\n",
      "Validation set:\n",
      "X_val shape:(3549, 48, 48, 1)\n",
      "Y_val shape:(3549, 7)\n"
     ]
    }
   ],
   "source": [
    "print(f\"Train set:\\nX_train shape:{x_train.shape}\\nY_train shape:{y_train.shape}\\n\")\n",
    "\n",
    "print(f\"Test set:\\nX_test shape:{x_test.shape}\\nY_test shape:{y_test.shape}\\n\")\n",
    "\n",
    "print(f\"Validation set:\\nX_val shape:{x_val.shape}\\nY_val shape:{y_val.shape}\")"
   ]
  },
  {
   "cell_type": "markdown",
   "metadata": {},
   "source": [
    "## Model version 1"
   ]
  },
  {
   "cell_type": "markdown",
   "metadata": {},
   "source": [
    "### Build model"
   ]
  },
  {
   "cell_type": "markdown",
   "metadata": {},
   "source": [
    "Now it is finally time to start working on the model.\n",
    "We are going to start with the following model:\n",
    "\n",
    "### Creat model\n",
    "\n",
    "__1. Conv Layer__\n",
    "\n",
    "The first layer consists of 64 3x3 filters with ReLU. We set the input of this layer equal to the shape of the train data, which is (48, 48, 1).\n",
    "We leave the stride and padding at the default value. We do add a Batch normalization. The output of this layer (the activation \n",
    "map) is (46, 46, 64).\n",
    "As laste we add a dropout of 0.5. That brings us to a result of (46, 46, 64)\n",
    "\n",
    "__2. Conv Layer__\n",
    "\n",
    "\n",
    "The second layer consists of 64 filters of 3x3 and here we apply relu as well. The output of this layer woudld be (44, 44, 64). we also apply a max pooling of (2,2) and strides od (2,2) that produces an output shape of (44, 44, 64).\n",
    "\n",
    "__3. Conv Layer__\n",
    "\n",
    "\n",
    "This layer consists of 128 filter of 3x3 we also apply relu here. The output of this layer would be (20, 20, 128). We do add  Batch normalization. The output of this layer is (20, 20, 128).\n",
    "\n",
    "__4. Conv Layer__\n",
    "\n",
    "\n",
    "This layer consists of 128 filter of 3x3 we also apply relu here. The output of this layer would be (18, 18, 128). We also apply a max pooling of (2,2) and strides od (2,2) that produces an output shape of (9, 9, 128).\n",
    "\n",
    "__5. Conv Layer__ \n",
    "\n",
    "\n",
    "The last layer consists of 256 fliter of 3x3 and we apply reule. The output would be (7, 7, 256). We apply here also a max pooling of (2,2) and strides od (2,2) that produces an output shape of (7, 7, 256).\n",
    "To this layer we add a flatten option, that means the output shape of this layer would be (12544)\n",
    "\n",
    "__3. Fully connected layer__\n",
    "\n",
    "\n",
    "This layer takes (12544) as input. We apply a droupout of 0.2. The next dense layer teaks (1024) as input. After applying the drouput for the last time the output shape of this layer is the probability of 7 classes."
   ]
  },
  {
   "cell_type": "code",
   "execution_count": 5,
   "metadata": {},
   "outputs": [],
   "source": [
    "# We create all the models that we got \n",
    "models = build_models(input_shape=(48, 48, 1), num_classes=7)"
   ]
  },
  {
   "cell_type": "code",
   "execution_count": 6,
   "metadata": {},
   "outputs": [],
   "source": [
    "# Build the sequential model version 1\n",
    "model1 = Sequential(models[0]['layers'], name = models[0]['name'])"
   ]
  },
  {
   "cell_type": "markdown",
   "metadata": {},
   "source": [
    "Let's check the summary out:"
   ]
  },
  {
   "cell_type": "code",
   "execution_count": 7,
   "metadata": {},
   "outputs": [
    {
     "name": "stdout",
     "output_type": "stream",
     "text": [
      "Model: \"Version_1\"\n",
      "_________________________________________________________________\n",
      "Layer (type)                 Output Shape              Param #   \n",
      "=================================================================\n",
      "conv2d (Conv2D)              (None, 46, 46, 64)        640       \n",
      "_________________________________________________________________\n",
      "batch_normalization (BatchNo (None, 46, 46, 64)        256       \n",
      "_________________________________________________________________\n",
      "dropout (Dropout)            (None, 46, 46, 64)        0         \n",
      "_________________________________________________________________\n",
      "conv2d_1 (Conv2D)            (None, 44, 44, 64)        36928     \n",
      "_________________________________________________________________\n",
      "max_pooling2d (MaxPooling2D) (None, 22, 22, 64)        0         \n",
      "_________________________________________________________________\n",
      "conv2d_2 (Conv2D)            (None, 20, 20, 128)       73856     \n",
      "_________________________________________________________________\n",
      "batch_normalization_1 (Batch (None, 20, 20, 128)       512       \n",
      "_________________________________________________________________\n",
      "conv2d_3 (Conv2D)            (None, 18, 18, 128)       147584    \n",
      "_________________________________________________________________\n",
      "max_pooling2d_1 (MaxPooling2 (None, 9, 9, 128)         0         \n",
      "_________________________________________________________________\n",
      "conv2d_4 (Conv2D)            (None, 7, 7, 256)         295168    \n",
      "_________________________________________________________________\n",
      "batch_normalization_2 (Batch (None, 7, 7, 256)         1024      \n",
      "_________________________________________________________________\n",
      "flatten (Flatten)            (None, 12544)             0         \n",
      "_________________________________________________________________\n",
      "dense (Dense)                (None, 1024)              12846080  \n",
      "_________________________________________________________________\n",
      "dropout_1 (Dropout)          (None, 1024)              0         \n",
      "_________________________________________________________________\n",
      "dense_1 (Dense)              (None, 1024)              1049600   \n",
      "_________________________________________________________________\n",
      "dropout_2 (Dropout)          (None, 1024)              0         \n",
      "_________________________________________________________________\n",
      "dense_2 (Dense)              (None, 7)                 7175      \n",
      "=================================================================\n",
      "Total params: 14,458,823\n",
      "Trainable params: 14,457,927\n",
      "Non-trainable params: 896\n",
      "_________________________________________________________________\n"
     ]
    }
   ],
   "source": [
    "model1.summary()"
   ]
  },
  {
   "cell_type": "markdown",
   "metadata": {},
   "source": [
    "Looks good, time to compile!\n"
   ]
  },
  {
   "cell_type": "markdown",
   "metadata": {},
   "source": [
    "### Model compile and train\n"
   ]
  },
  {
   "cell_type": "markdown",
   "metadata": {},
   "source": [
    "To compile the model we use Adam optimaizer and binary crossentropy as los function. Let us now train the model."
   ]
  },
  {
   "cell_type": "code",
   "execution_count": 8,
   "metadata": {},
   "outputs": [],
   "source": [
    "# compile the model\n",
    "model1.compile(optimizer=tf.keras.optimizers.Adam(lr=0.0001), loss='binary_crossentropy', metrics=['accuracy'])"
   ]
  },
  {
   "cell_type": "markdown",
   "metadata": {},
   "source": [
    "We set the epochs to 100 and the batch size tot 64."
   ]
  },
  {
   "cell_type": "code",
   "execution_count": 9,
   "metadata": {},
   "outputs": [],
   "source": [
    "# TODO: train het model voor 100 epoches \n",
    "epochs = 1\n",
    "batch_size = 64"
   ]
  },
  {
   "cell_type": "markdown",
   "metadata": {},
   "source": [
    "Let's train the model! "
   ]
  },
  {
   "cell_type": "code",
   "execution_count": 10,
   "metadata": {},
   "outputs": [
    {
     "name": "stdout",
     "output_type": "stream",
     "text": [
      "443/443 - 501s - loss: 0.3198 - accuracy: 0.5211 - val_loss: 0.3783 - val_accuracy: 0.4046\n"
     ]
    }
   ],
   "source": [
    "history1 = model1.fit(x_train, y_train, batch_size=batch_size, epochs=epochs,\n",
    "                        steps_per_epoch=len(x_train) // batch_size,\n",
    "                        validation_data=(x_val, y_val), verbose=2)"
   ]
  },
  {
   "cell_type": "markdown",
   "metadata": {},
   "source": [
    "Now we're going to test our model using the test set for the model.\n",
    "\n"
   ]
  },
  {
   "cell_type": "code",
   "execution_count": 11,
   "metadata": {},
   "outputs": [
    {
     "name": "stdout",
     "output_type": "stream",
     "text": [
      "56/56 [==============================] - 14s 258ms/step - loss: 0.3738 - accuracy: 0.4046\n",
      "Test loss: 0.3738\n",
      "Test accuracy: 0.4046\n"
     ]
    }
   ],
   "source": [
    "test_loss, test_acc = model1.evaluate(x_test, y_test, batch_size=batch_size)\n",
    "print(f\"Test loss: {test_loss:.4f}\")\n",
    "print(f\"Test accuracy: {test_acc:.4f}\")"
   ]
  },
  {
   "cell_type": "markdown",
   "metadata": {},
   "source": [
    "## Results \n",
    "\n",
    "Let's discuss the results of the model."
   ]
  },
  {
   "cell_type": "code",
   "execution_count": 12,
   "metadata": {},
   "outputs": [],
   "source": [
    "# TODO: BESPREKK DE RESULTATEN!!!! MAAR EERST MOET HET MODEL GETRAIEND WORDEN"
   ]
  },
  {
   "cell_type": "code",
   "execution_count": 13,
   "metadata": {},
   "outputs": [
    {
     "data": {
      "image/png": "[encoded data removed]",
      "text/plain": [
       "<Figure size 432x288 with 1 Axes>"
      ]
     },
     "metadata": {
      "needs_background": "light"
     },
     "output_type": "display_data"
    },
    {
     "data": {
      "image/png": "[encoded data removed]",
      "text/plain": [
       "<Figure size 432x288 with 1 Axes>"
      ]
     },
     "metadata": {
      "needs_background": "light"
     },
     "output_type": "display_data"
    }
   ],
   "source": [
    "plot_acc_loss(history1)"
   ]
  },
  {
   "cell_type": "code",
   "execution_count": 14,
   "metadata": {},
   "outputs": [
    {
     "name": "stdout",
     "output_type": "stream",
     "text": [
      "INFO:tensorflow:Assets written to: saved_all_model4046\\assets\n",
      "Model is saved in a file.\n"
     ]
    }
   ],
   "source": [
    "save_all_model(model1, test_acc)"
   ]
  },
  {
   "cell_type": "markdown",
   "metadata": {},
   "source": [
    "As we saw above, the results are not too great. Therefore we will now try to adjust the settings of the model ."
   ]
  },
  {
   "cell_type": "markdown",
   "metadata": {},
   "source": [
    "## Model version 2"
   ]
  },
  {
   "cell_type": "code",
   "execution_count": null,
   "metadata": {},
   "outputs": [],
   "source": [
    "# TODO, fix wat hieronder staat!!!"
   ]
  },
  {
   "cell_type": "markdown",
   "metadata": {},
   "source": [
    "### Build model\n",
    "\n",
    "#### Create model\n",
    "\n",
    "__1. Conv Layer__\n",
    "\n",
    "The first layer consists of 64 3x3 filters with ReLU. We set the input of this layer equal to the shape of the train data, which is (48, 48, 1).\n",
    "We leave the stride and padding at the default value. We do add a Batch normalization. The output of this layer (the activation \n",
    "map) is (46, 46, 64).\n",
    "As laste we add a dropout of 0.5. That brings us to a result of (46, 46, 64)\n",
    "\n",
    "__2. Conv Layer__\n",
    "\n",
    "\n",
    "The second layer consists of 64 filters of 3x3 and here we apply relu as well. The output of this layer woudld be (44, 44, 64). we also apply a max pooling of (2,2) and strides od (2,2) that produces an output shape of (44, 44, 64).\n",
    "\n",
    "__3. Conv Layer__\n",
    "\n",
    "\n",
    "This layer consists of 128 filter of 3x3 we also apply relu here. The output of this layer would be (20, 20, 128). We do add  Batch normalization. The output of this layer is (20, 20, 128).\n",
    "\n",
    "__4. Conv Layer__\n",
    "\n",
    "\n",
    "This layer consists of 128 filter of 3x3 we also apply relu here. The output of this layer would be (18, 18, 128). We also apply a max pooling of (2,2) and strides od (2,2) that produces an output shape of (9, 9, 128).\n",
    "\n",
    "__5. Conv Layer__ \n",
    "\n",
    "\n",
    "The last layer consists of 256 fliter of 3x3 and we apply reule. The output would be (7, 7, 256). We apply here also a max pooling of (2,2) and strides od (2,2) that produces an output shape of (7, 7, 256).\n",
    "To this layer we add a flatten option, that means the output shape of this layer would be (12544)\n",
    "\n",
    "__3. Fully connected layer__\n",
    "\n",
    "\n",
    "This layer takes (12544) as input. We apply a droupout of 0.2. The next dense layer teaks (1024) as input. After applying the drouput for the last time the output shape of this layer is the probability of 7 classes."
   ]
  },
  {
   "cell_type": "code",
   "execution_count": 15,
   "metadata": {},
   "outputs": [],
   "source": [
    "model2 = Sequential(models[1]['layers'], name = models[1]['name'])"
   ]
  },
  {
   "cell_type": "code",
   "execution_count": 16,
   "metadata": {},
   "outputs": [
    {
     "name": "stdout",
     "output_type": "stream",
     "text": [
      "Model: \"Version_2\"\n",
      "_________________________________________________________________\n",
      "Layer (type)                 Output Shape              Param #   \n",
      "=================================================================\n",
      "conv2d_5 (Conv2D)            (None, 46, 46, 64)        640       \n",
      "_________________________________________________________________\n",
      "batch_normalization_3 (Batch (None, 46, 46, 64)        256       \n",
      "_________________________________________________________________\n",
      "conv2d_6 (Conv2D)            (None, 44, 44, 64)        36928     \n",
      "_________________________________________________________________\n",
      "batch_normalization_4 (Batch (None, 44, 44, 64)        256       \n",
      "_________________________________________________________________\n",
      "dropout_3 (Dropout)          (None, 44, 44, 64)        0         \n",
      "_________________________________________________________________\n",
      "conv2d_7 (Conv2D)            (None, 42, 42, 64)        36928     \n",
      "_________________________________________________________________\n",
      "conv2d_8 (Conv2D)            (None, 40, 40, 64)        36928     \n",
      "_________________________________________________________________\n",
      "max_pooling2d_2 (MaxPooling2 (None, 20, 20, 64)        0         \n",
      "_________________________________________________________________\n",
      "conv2d_9 (Conv2D)            (None, 18, 18, 128)       73856     \n",
      "_________________________________________________________________\n",
      "batch_normalization_5 (Batch (None, 18, 18, 128)       512       \n",
      "_________________________________________________________________\n",
      "conv2d_10 (Conv2D)           (None, 16, 16, 128)       147584    \n",
      "_________________________________________________________________\n",
      "batch_normalization_6 (Batch (None, 16, 16, 128)       512       \n",
      "_________________________________________________________________\n",
      "conv2d_11 (Conv2D)           (None, 14, 14, 128)       147584    \n",
      "_________________________________________________________________\n",
      "conv2d_12 (Conv2D)           (None, 12, 12, 128)       147584    \n",
      "_________________________________________________________________\n",
      "max_pooling2d_3 (MaxPooling2 (None, 6, 6, 128)         0         \n",
      "_________________________________________________________________\n",
      "conv2d_13 (Conv2D)           (None, 4, 4, 256)         295168    \n",
      "_________________________________________________________________\n",
      "batch_normalization_7 (Batch (None, 4, 4, 256)         1024      \n",
      "_________________________________________________________________\n",
      "conv2d_14 (Conv2D)           (None, 2, 2, 256)         590080    \n",
      "_________________________________________________________________\n",
      "batch_normalization_8 (Batch (None, 2, 2, 256)         1024      \n",
      "_________________________________________________________________\n",
      "flatten_1 (Flatten)          (None, 1024)              0         \n",
      "_________________________________________________________________\n",
      "dense_3 (Dense)              (None, 1024)              1049600   \n",
      "_________________________________________________________________\n",
      "dropout_4 (Dropout)          (None, 1024)              0         \n",
      "_________________________________________________________________\n",
      "dense_4 (Dense)              (None, 1024)              1049600   \n",
      "_________________________________________________________________\n",
      "dropout_5 (Dropout)          (None, 1024)              0         \n",
      "_________________________________________________________________\n",
      "dense_5 (Dense)              (None, 7)                 7175      \n",
      "=================================================================\n",
      "Total params: 3,623,239\n",
      "Trainable params: 3,621,447\n",
      "Non-trainable params: 1,792\n",
      "_________________________________________________________________\n"
     ]
    }
   ],
   "source": [
    "model2.summary()"
   ]
  },
  {
   "cell_type": "code",
   "execution_count": 17,
   "metadata": {},
   "outputs": [],
   "source": [
    "model2.compile(optimizer=tf.keras.optimizers.Adam(lr=0.0001), loss='binary_crossentropy', metrics=['accuracy'])"
   ]
  },
  {
   "cell_type": "code",
   "execution_count": null,
   "metadata": {},
   "outputs": [],
   "source": [
    "history2 = model2.fit(x_train, y_train, batch_size=batch_size, epochs=epochs,\n",
    "                        steps_per_epoch=len(x_train) // batch_size,\n",
    "                        validation_data=(x_val, y_val), verbose=2)"
   ]
  },
  {
   "cell_type": "code",
   "execution_count": null,
   "metadata": {},
   "outputs": [],
   "source": [
    "test_loss, test_acc = model1.evaluate(x_test, y_test, batch_size=batch_size)\n",
    "print(f\"Test loss: {test_loss:.4f}\")\n",
    "print(f\"Test accuracy: {test_acc:.4f}\")"
   ]
  },
  {
   "cell_type": "code",
   "execution_count": null,
   "metadata": {},
   "outputs": [],
   "source": [
    "## Results "
   ]
  },
  {
   "cell_type": "code",
   "execution_count": null,
   "metadata": {},
   "outputs": [],
   "source": [
    "plot_acc_loss(history2)"
   ]
  },
  {
   "cell_type": "code",
   "execution_count": null,
   "metadata": {},
   "outputs": [],
   "source": [
    "save_all_model(model2, test_acc)"
   ]
  },
  {
   "cell_type": "code",
   "execution_count": null,
   "metadata": {},
   "outputs": [],
   "source": []
  }
 ],
 "metadata": {
  "kernelspec": {
   "display_name": "Python 3",
   "language": "python",
   "name": "python3"
  },
  "language_info": {
   "codemirror_mode": {
    "name": "ipython",
    "version": 3
   },
   "file_extension": ".py",
   "mimetype": "text/x-python",
   "name": "python",
   "nbconvert_exporter": "python",
   "pygments_lexer": "ipython3",
   "version": "3.8.5"
  }
 },
 "nbformat": 4,
 "nbformat_minor": 1
}
