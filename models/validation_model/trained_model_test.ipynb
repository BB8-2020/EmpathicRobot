{
 "cells": [
  {
   "cell_type": "markdown",
   "metadata": {},
   "source": [
    "# Validation set validation\n",
    "\n",
    "We want to import our photo's from our json file and calculate how good our photo's are. We will do this by running al our photo's in an allready trained model and see how many times the model can guess the correct emotion.\n",
    "\n",
    "To make this code work, you have to download our validation photo set from our OneDrive. The filename is 'validation_set'. Download it manually to your PC and insert it in the 'data' file under 'EmpathicRobot'. Check the link to the download page of the author [here](https://hogeschoolutrecht-my.sharepoint.com/:f:/g/personal/maria_dukmak_student_hu_nl/EtpPbPXZ7kVHuYmQMip52psBByaVWhvuRTOaQtt7_n0FIg?e=yU7BfW). \n",
    "\n",
    "And one more thing. In the cell underneath this one, we have set a path. You need to change this path to where you saved the 'EmpathicRobot' on your pc. "
   ]
  },
  {
   "cell_type": "code",
   "execution_count": null,
   "metadata": {},
   "outputs": [],
   "source": [
    "import sys\n",
    "# Change path to the correct directory. \n",
    "sys.path.append('/Users/famil/PycharmProjects/EmpathicRobot')\n",
    "\n",
    "import numpy as np\n",
    "import json\n",
    "import pandas as pd\n",
    "from detector_accuracy import calculate_accuracy\n",
    "import os"
   ]
  },
  {
   "cell_type": "markdown",
   "metadata": {},
   "source": [
    "### Preparation \n",
    "To prepare for the calculations, we first need to grab our validationset (which we stored as a json file). We will go to the directory we stored it and will read it in. "
   ]
  },
  {
   "cell_type": "code",
   "execution_count": null,
   "metadata": {},
   "outputs": [],
   "source": [
    "os.chdir('validation_set_data')"
   ]
  },
  {
   "cell_type": "code",
   "execution_count": null,
   "metadata": {},
   "outputs": [],
   "source": [
    "validationset = pd.read_json('validation_set.json')"
   ]
  },
  {
   "cell_type": "code",
   "execution_count": null,
   "metadata": {},
   "outputs": [],
   "source": [
    "# Get the right data in the right variables.\n",
    "photos = np.array(validationset['Photo'].values.tolist())\n",
    "emotions = validationset['Correct_emotion'].values.tolist()"
   ]
  },
  {
   "cell_type": "markdown",
   "metadata": {},
   "source": [
    "### Calculations\n",
    "We imported an function named 'calculate_accuracy'. We are going to put our photo's and emotions into this function and it will calculate the accuracy of the emotion detector on our photo's."
   ]
  },
  {
   "cell_type": "code",
   "execution_count": null,
   "metadata": {},
   "outputs": [],
   "source": [
    "correct = calculate_accuracy(photos, emotions)"
   ]
  },
  {
   "cell_type": "markdown",
   "metadata": {},
   "source": [
    "The purpose of this file was to find out whether or not the photo's in the validation set are of good quality. We have run our photo's through a pretrained emotion detector and we have calculated its accuracy on our validation set. By 'accuracy' I mean, the percentage of photo's that the detector has correctly guessed the emotion that is depicted by the person in the image. The cell below will show you the accuracy."
   ]
  },
  {
   "cell_type": "code",
   "execution_count": null,
   "metadata": {},
   "outputs": [],
   "source": [
    "'{}% of guesses by the emotion detector were correct.'.format(correct)"
   ]
  }
 ],
 "metadata": {
  "kernelspec": {
   "display_name": "Python 3",
   "language": "python",
   "name": "python3"
  },
  "language_info": {
   "codemirror_mode": {
    "name": "ipython",
    "version": 3
   },
   "file_extension": ".py",
   "mimetype": "text/x-python",
   "name": "python",
   "nbconvert_exporter": "python",
   "pygments_lexer": "ipython3",
   "version": "3.8.3"
  }
 },
 "nbformat": 4,
 "nbformat_minor": 4
}
