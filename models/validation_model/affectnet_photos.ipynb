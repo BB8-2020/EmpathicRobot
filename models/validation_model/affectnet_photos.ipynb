{
 "cells": [
  {
   "cell_type": "markdown",
   "metadata": {},
   "source": [
    "# Validator validation\n",
    "\n",
    "In this document we want to know how accurate our detector is. We will do that by importing the affectnet dataset and having the detector go through a given amount of images of this dataset. Then we will calculate the average accuracy of our detector. This average accuracy will be used as a baseline. \n",
    "\n",
    "To make this code work, you have to download our validation photo set from our OneDrive. The filename is 'validation_set'. Download it manually to your PC and insert it in the 'data' file under 'EmpathicRobot'. Check the link to the download page of the author [here](https://hogeschoolutrecht-my.sharepoint.com/:f:/g/personal/maria_dukmak_student_hu_nl/EtpPbPXZ7kVHuYmQMip52psBByaVWhvuRTOaQtt7_n0FIg?e=yU7BfW). \n",
    "\n",
    "And one more thing. In the cell underneath this one, we have set a path. You need to change this path to where you saved the 'EmpathicRobot' on your pc."
   ]
  },
  {
   "cell_type": "code",
   "execution_count": 1,
   "metadata": {},
   "outputs": [
    {
     "name": "stdout",
     "output_type": "stream",
     "text": [
      "WARNING:tensorflow:From C:\\ProgramData\\Anaconda3\\lib\\site-packages\\tensorflow\\python\\compat\\v2_compat.py:96: disable_resource_variables (from tensorflow.python.ops.variable_scope) is deprecated and will be removed in a future version.\n",
      "Instructions for updating:\n",
      "non-resource variables are not supported in the long term\n"
     ]
    }
   ],
   "source": [
    "# We first need to set this path so we can import 'calculate_accuracy'.\n",
    "import sys\n",
    "sys.path.append('/Users/famil/PycharmProjects/EmpathicRobot')\n",
    "\n",
    "import bz2\n",
    "import _pickle as cPickle\n",
    "import pandas as pd\n",
    "from detector_accuracy import calculate_accuracy\n",
    "from affect_accuracy import aff_accuracy \n",
    "import os"
   ]
  },
  {
   "cell_type": "markdown",
   "metadata": {},
   "source": [
    "### Preparation\n",
    "Before we can do any calculations, we need to get our dataset. To do this, we first need to go to the directory where this dataset is stored. Then we will read it in. And finally we will define how many photo's we want to get from the dataset."
   ]
  },
  {
   "cell_type": "code",
   "execution_count": 2,
   "metadata": {},
   "outputs": [],
   "source": [
    "os.chdir('validation_set_data')"
   ]
  },
  {
   "cell_type": "code",
   "execution_count": 3,
   "metadata": {},
   "outputs": [],
   "source": [
    "data = cPickle.load(bz2.BZ2File(os.getcwd() + '/affectNet_processed', 'rb'))"
   ]
  },
  {
   "cell_type": "code",
   "execution_count": 4,
   "metadata": {},
   "outputs": [],
   "source": [
    "start = 0  # Which row do we start in.\n",
    "photo_amount = 50  # How many photo's do we want to use."
   ]
  },
  {
   "cell_type": "code",
   "execution_count": 5,
   "metadata": {},
   "outputs": [],
   "source": [
    "from PIL import Image\n",
    "import numpy as np\n",
    "\n",
    "il = Image.fromarray((data[0][0] * 255).astype(np.uint8))\n",
    "il.show()"
   ]
  },
  {
   "cell_type": "markdown",
   "metadata": {},
   "source": [
    "### Calculations\n",
    "We imported a function named 'aff_accuracy'. We will give it the dataset and tell it which photo's we want to use. It will calculate the accuracy of the emotion detector on the photo's from our dataset."
   ]
  },
  {
   "cell_type": "code",
   "execution_count": null,
   "metadata": {},
   "outputs": [],
   "source": [
    "accuracy = aff_accuracy(start, start + photo_amount, data)"
   ]
  },
  {
   "cell_type": "markdown",
   "metadata": {},
   "source": [
    "We just calculated the accuracy of our model. We did this by calculating what percentage of the images, from the affectnet dataset, were correctly calculated by the emotion detector. We know the images from this dataset are good. So this accuracy we just calculated, should be pretty good by the detectors standards. And that's why we will view this accuracy as it's baseline accuracy."
   ]
  },
  {
   "cell_type": "code",
   "execution_count": 7,
   "metadata": {},
   "outputs": [
    {
     "data": {
      "text/plain": [
       "\"The detector has an average of 58.0% accuracy with photo's from the Affectnet dataset.\""
      ]
     },
     "execution_count": 7,
     "metadata": {},
     "output_type": "execute_result"
    }
   ],
   "source": [
    "\"The detector has an average of {}% accuracy with photo's from the Affectnet dataset.\".format(accuracy)"
   ]
  }
 ],
 "metadata": {
  "kernelspec": {
   "display_name": "Python 3",
   "language": "python",
   "name": "python3"
  },
  "language_info": {
   "codemirror_mode": {
    "name": "ipython",
    "version": 3
   },
   "file_extension": ".py",
   "mimetype": "text/x-python",
   "name": "python",
   "nbconvert_exporter": "python",
   "pygments_lexer": "ipython3",
   "version": "3.8.3"
  }
 },
 "nbformat": 4,
 "nbformat_minor": 4
}
