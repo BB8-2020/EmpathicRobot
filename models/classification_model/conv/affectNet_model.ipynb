{
 "cells": [
  {
   "cell_type": "markdown",
   "metadata": {},
   "source": [
    "# Analyse and run models using AffectNet dataset"
   ]
  },
  {
   "cell_type": "markdown",
   "metadata": {},
   "source": [
    "In this notebook we are going to build, test, analyze and compare the model with the previous versions. This is followed by improvements to the model and the data. We run this cycle a few times until we achieve realistic and nice results.\n",
    "\n",
    "This model has been build in [this](https://github.com/BB8-2020/EmpathicRobot/tree/main/models/classification_model) file. \n",
    "\n",
    "If you have any quesentions about this notebook, send us a mail at maria.dukmak@student.hu.nl"
   ]
  },
  {
   "cell_type": "code",
   "execution_count": 1,
   "metadata": {},
   "outputs": [],
   "source": [
    "import sys\n",
    "# You need to change this path to your project path\n",
    "sys.path.append('/Users/storm/OneDrive/Documenten/HU/Jaar_2/BB8/EmpathicRobot')\n",
    "from conv_model import *\n",
    "from models.functions import *\n",
    "from tensorflow.keras import Sequential"
   ]
  },
  {
   "cell_type": "markdown",
   "metadata": {},
   "source": [
    "## Read data\n",
    "As we have done before, our data is ready to use. In this section we will use **AffectNet** to train the model. This data has already been read, prepared and stored in [this](https://github.com/BB8-2020/EmpathicRobot/tree/main/data) file. For now, our data is in a pickel file that we will read as follows:\n",
    "\n",
    "For simplicity, we set up the path to the data as follows, you can also set it to your own path."
   ]
  },
  {
   "cell_type": "code",
   "execution_count": 2,
   "metadata": {},
   "outputs": [],
   "source": [
    "os.chdir(os.getcwd() + '/data/')"
   ]
  },
  {
   "cell_type": "markdown",
   "metadata": {},
   "source": [
    "We immediately split the data into train, test and validation set."
   ]
  },
  {
   "cell_type": "code",
   "execution_count": 3,
   "metadata": {},
   "outputs": [],
   "source": [
    "x_train, y_train, x_val, y_val, x_test, y_test = read_data('affectNet_processed')"
   ]
  },
  {
   "cell_type": "markdown",
   "metadata": {},
   "source": [
    "As we see, the data consists of train set that contains 80% of the data. The validation and the test set are equal in size 20% and are used to subsequently test the model.\n",
    "\n",
    "This data has already been cleaned and normalized so we don't have to do anything with the data anymore."
   ]
  },
  {
   "cell_type": "code",
   "execution_count": 4,
   "metadata": {},
   "outputs": [
    {
     "name": "stdout",
     "output_type": "stream",
     "text": [
      "Train set: X_train shape:(15313, 48, 48, 3) Y_train shape:(15313, 7)\n",
      "Test set: X_test shape:(1915, 48, 48, 3) Y_test shape:(1915, 7)\n",
      "Validation set: X_val shape:(1915, 48, 48, 3) Y_val shape:(1915, 7)\n"
     ]
    }
   ],
   "source": [
    "print(f\"Train set: X_train shape:{x_train.shape} Y_train shape:{y_train.shape}\")\n",
    "\n",
    "print(f\"Test set: X_test shape:{x_test.shape} Y_test shape:{y_test.shape}\")\n",
    "\n",
    "print(f\"Validation set: X_val shape:{x_val.shape} Y_val shape:{y_val.shape}\")"
   ]
  },
  {
   "cell_type": "markdown",
   "metadata": {},
   "source": [
    "## Models"
   ]
  },
  {
   "cell_type": "code",
   "execution_count": 5,
   "metadata": {},
   "outputs": [],
   "source": [
    "# We create all the models that we got \n",
    "models = build_models(input_shape=(48, 48, 3), num_classes=7)"
   ]
  },
  {
   "cell_type": "markdown",
   "metadata": {},
   "source": [
    "### Model version 1 "
   ]
  },
  {
   "cell_type": "markdown",
   "metadata": {},
   "source": [
    "Now it is finally time to start working on the model. We are going to start with the following model:"
   ]
  },
  {
   "cell_type": "code",
   "execution_count": 6,
   "metadata": {},
   "outputs": [],
   "source": [
    "model1 = Sequential(models[0]['layers'], name = models[0]['name'])"
   ]
  },
  {
   "cell_type": "markdown",
   "metadata": {},
   "source": [
    "Let's check the summary out:"
   ]
  },
  {
   "cell_type": "code",
   "execution_count": 7,
   "metadata": {},
   "outputs": [
    {
     "name": "stdout",
     "output_type": "stream",
     "text": [
      "Model: \"Version_1\"\n",
      "_________________________________________________________________\n",
      "Layer (type)                 Output Shape              Param #   \n",
      "=================================================================\n",
      "conv2d (Conv2D)              (None, 46, 46, 64)        1792      \n",
      "_________________________________________________________________\n",
      "batch_normalization (BatchNo (None, 46, 46, 64)        256       \n",
      "_________________________________________________________________\n",
      "dropout (Dropout)            (None, 46, 46, 64)        0         \n",
      "_________________________________________________________________\n",
      "conv2d_1 (Conv2D)            (None, 44, 44, 64)        36928     \n",
      "_________________________________________________________________\n",
      "max_pooling2d (MaxPooling2D) (None, 22, 22, 64)        0         \n",
      "_________________________________________________________________\n",
      "conv2d_2 (Conv2D)            (None, 20, 20, 128)       73856     \n",
      "_________________________________________________________________\n",
      "batch_normalization_1 (Batch (None, 20, 20, 128)       512       \n",
      "_________________________________________________________________\n",
      "conv2d_3 (Conv2D)            (None, 18, 18, 128)       147584    \n",
      "_________________________________________________________________\n",
      "max_pooling2d_1 (MaxPooling2 (None, 9, 9, 128)         0         \n",
      "_________________________________________________________________\n",
      "conv2d_4 (Conv2D)            (None, 7, 7, 256)         295168    \n",
      "_________________________________________________________________\n",
      "batch_normalization_2 (Batch (None, 7, 7, 256)         1024      \n",
      "_________________________________________________________________\n",
      "flatten (Flatten)            (None, 12544)             0         \n",
      "_________________________________________________________________\n",
      "dense (Dense)                (None, 1024)              12846080  \n",
      "_________________________________________________________________\n",
      "dropout_1 (Dropout)          (None, 1024)              0         \n",
      "_________________________________________________________________\n",
      "dense_1 (Dense)              (None, 1024)              1049600   \n",
      "_________________________________________________________________\n",
      "dropout_2 (Dropout)          (None, 1024)              0         \n",
      "_________________________________________________________________\n",
      "dense_2 (Dense)              (None, 7)                 7175      \n",
      "=================================================================\n",
      "Total params: 14,459,975\n",
      "Trainable params: 14,459,079\n",
      "Non-trainable params: 896\n",
      "_________________________________________________________________\n"
     ]
    }
   ],
   "source": [
    "model1.summary()"
   ]
  },
  {
   "cell_type": "markdown",
   "metadata": {},
   "source": [
    "Looks good, time to compile!"
   ]
  },
  {
   "cell_type": "markdown",
   "metadata": {},
   "source": [
    "### Compile and train"
   ]
  },
  {
   "cell_type": "markdown",
   "metadata": {},
   "source": [
    "To compile the model we use Adam optimaizer and binary crossentropy as los function. Let us now train the model."
   ]
  },
  {
   "cell_type": "code",
   "execution_count": 8,
   "metadata": {},
   "outputs": [],
   "source": [
    "compile_model(model1)"
   ]
  },
  {
   "cell_type": "code",
   "execution_count": 9,
   "metadata": {},
   "outputs": [
    {
     "name": "stdout",
     "output_type": "stream",
     "text": [
      "Epoch 1/70\n",
      "239/239 - 11s - loss: 0.2976 - accuracy: 0.5510 - val_loss: 0.3248 - val_accuracy: 0.3666\n",
      "Epoch 2/70\n",
      "239/239 - 5s - loss: 0.2524 - accuracy: 0.6064 - val_loss: 0.2631 - val_accuracy: 0.5796\n",
      "Epoch 3/70\n",
      "239/239 - 5s - loss: 0.2350 - accuracy: 0.6336 - val_loss: 0.2451 - val_accuracy: 0.6115\n",
      "Epoch 4/70\n",
      "239/239 - 5s - loss: 0.2175 - accuracy: 0.6648 - val_loss: 0.2412 - val_accuracy: 0.6329\n",
      "Epoch 5/70\n",
      "239/239 - 5s - loss: 0.2038 - accuracy: 0.6867 - val_loss: 0.2291 - val_accuracy: 0.6428\n",
      "Epoch 6/70\n",
      "239/239 - 5s - loss: 0.1846 - accuracy: 0.7186 - val_loss: 0.2287 - val_accuracy: 0.6538\n",
      "Epoch 7/70\n",
      "239/239 - 5s - loss: 0.1626 - accuracy: 0.7650 - val_loss: 0.2452 - val_accuracy: 0.6538\n",
      "Epoch 8/70\n",
      "239/239 - 5s - loss: 0.1403 - accuracy: 0.8048 - val_loss: 0.2438 - val_accuracy: 0.6653\n",
      "Epoch 9/70\n",
      "239/239 - 5s - loss: 0.1144 - accuracy: 0.8486 - val_loss: 0.2687 - val_accuracy: 0.6517\n",
      "Epoch 10/70\n",
      "239/239 - 5s - loss: 0.0896 - accuracy: 0.8927 - val_loss: 0.2887 - val_accuracy: 0.6444\n",
      "Epoch 11/70\n",
      "239/239 - 5s - loss: 0.0678 - accuracy: 0.9254 - val_loss: 0.3009 - val_accuracy: 0.6522\n",
      "Epoch 12/70\n",
      "239/239 - 5s - loss: 0.0484 - accuracy: 0.9532 - val_loss: 0.3473 - val_accuracy: 0.6632\n",
      "Epoch 13/70\n",
      "239/239 - 5s - loss: 0.0344 - accuracy: 0.9725 - val_loss: 0.3558 - val_accuracy: 0.6496\n",
      "Epoch 14/70\n",
      "239/239 - 5s - loss: 0.0285 - accuracy: 0.9777 - val_loss: 0.3696 - val_accuracy: 0.6475\n",
      "Epoch 15/70\n",
      "239/239 - 5s - loss: 0.0207 - accuracy: 0.9867 - val_loss: 0.4320 - val_accuracy: 0.6480\n",
      "Epoch 16/70\n",
      "239/239 - 5s - loss: 0.0175 - accuracy: 0.9900 - val_loss: 0.4378 - val_accuracy: 0.6413\n",
      "Epoch 17/70\n",
      "239/239 - 5s - loss: 0.0140 - accuracy: 0.9918 - val_loss: 0.4743 - val_accuracy: 0.6574\n",
      "Epoch 18/70\n",
      "239/239 - 5s - loss: 0.0138 - accuracy: 0.9923 - val_loss: 0.4541 - val_accuracy: 0.6507\n",
      "Epoch 19/70\n",
      "239/239 - 5s - loss: 0.0113 - accuracy: 0.9934 - val_loss: 0.5024 - val_accuracy: 0.6564\n",
      "Epoch 20/70\n",
      "239/239 - 5s - loss: 0.0117 - accuracy: 0.9917 - val_loss: 0.4677 - val_accuracy: 0.6637\n",
      "Epoch 21/70\n",
      "239/239 - 5s - loss: 0.0103 - accuracy: 0.9940 - val_loss: 0.5094 - val_accuracy: 0.6637\n",
      "Epoch 22/70\n",
      "239/239 - 5s - loss: 0.0096 - accuracy: 0.9942 - val_loss: 0.5261 - val_accuracy: 0.6522\n",
      "Epoch 23/70\n",
      "239/239 - 5s - loss: 0.0092 - accuracy: 0.9942 - val_loss: 0.5108 - val_accuracy: 0.6601\n",
      "Epoch 24/70\n",
      "239/239 - 5s - loss: 0.0100 - accuracy: 0.9934 - val_loss: 0.5372 - val_accuracy: 0.6486\n",
      "Epoch 25/70\n",
      "239/239 - 5s - loss: 0.0088 - accuracy: 0.9942 - val_loss: 0.5367 - val_accuracy: 0.6496\n",
      "Epoch 26/70\n",
      "239/239 - 5s - loss: 0.0088 - accuracy: 0.9951 - val_loss: 0.5548 - val_accuracy: 0.6538\n",
      "Epoch 27/70\n",
      "239/239 - 5s - loss: 0.0079 - accuracy: 0.9946 - val_loss: 0.5042 - val_accuracy: 0.6538\n",
      "Epoch 28/70\n",
      "239/239 - 4s - loss: 0.0065 - accuracy: 0.9965 - val_loss: 0.5779 - val_accuracy: 0.6501\n",
      "Epoch 29/70\n",
      "239/239 - 4s - loss: 0.0079 - accuracy: 0.9946 - val_loss: 0.5304 - val_accuracy: 0.6601\n",
      "Epoch 30/70\n",
      "239/239 - 4s - loss: 0.0066 - accuracy: 0.9957 - val_loss: 0.5749 - val_accuracy: 0.6590\n",
      "Epoch 31/70\n",
      "239/239 - 4s - loss: 0.0071 - accuracy: 0.9953 - val_loss: 0.5696 - val_accuracy: 0.6460\n",
      "Epoch 32/70\n",
      "239/239 - 4s - loss: 0.0059 - accuracy: 0.9958 - val_loss: 0.5510 - val_accuracy: 0.6606\n",
      "Epoch 33/70\n",
      "239/239 - 4s - loss: 0.0065 - accuracy: 0.9961 - val_loss: 0.6007 - val_accuracy: 0.6439\n",
      "Epoch 34/70\n",
      "239/239 - 4s - loss: 0.0056 - accuracy: 0.9963 - val_loss: 0.5715 - val_accuracy: 0.6491\n",
      "Epoch 35/70\n",
      "239/239 - 4s - loss: 0.0059 - accuracy: 0.9959 - val_loss: 0.5870 - val_accuracy: 0.6392\n",
      "Epoch 36/70\n",
      "239/239 - 4s - loss: 0.0050 - accuracy: 0.9968 - val_loss: 0.6378 - val_accuracy: 0.6574\n",
      "Epoch 37/70\n",
      "239/239 - 4s - loss: 0.0054 - accuracy: 0.9955 - val_loss: 0.6350 - val_accuracy: 0.6507\n",
      "Epoch 38/70\n",
      "239/239 - 5s - loss: 0.0040 - accuracy: 0.9976 - val_loss: 0.5384 - val_accuracy: 0.6538\n",
      "Epoch 39/70\n",
      "239/239 - 5s - loss: 0.0071 - accuracy: 0.9943 - val_loss: 0.5879 - val_accuracy: 0.6465\n",
      "Epoch 40/70\n",
      "239/239 - 5s - loss: 0.0054 - accuracy: 0.9965 - val_loss: 0.5695 - val_accuracy: 0.6381\n",
      "Epoch 41/70\n",
      "239/239 - 5s - loss: 0.0081 - accuracy: 0.9932 - val_loss: 0.6250 - val_accuracy: 0.6381\n",
      "Epoch 42/70\n",
      "239/239 - 5s - loss: 0.0051 - accuracy: 0.9961 - val_loss: 0.5988 - val_accuracy: 0.6418\n",
      "Epoch 43/70\n",
      "239/239 - 5s - loss: 0.0074 - accuracy: 0.9941 - val_loss: 0.6316 - val_accuracy: 0.6162\n",
      "Epoch 44/70\n",
      "239/239 - 5s - loss: 0.0050 - accuracy: 0.9957 - val_loss: 0.5620 - val_accuracy: 0.6324\n",
      "Epoch 45/70\n",
      "239/239 - 5s - loss: 0.0037 - accuracy: 0.9972 - val_loss: 0.5519 - val_accuracy: 0.6329\n",
      "Epoch 46/70\n",
      "239/239 - 5s - loss: 0.0033 - accuracy: 0.9976 - val_loss: 0.5903 - val_accuracy: 0.6491\n",
      "Epoch 47/70\n",
      "239/239 - 5s - loss: 0.0033 - accuracy: 0.9973 - val_loss: 0.6430 - val_accuracy: 0.6251\n",
      "Epoch 48/70\n",
      "239/239 - 5s - loss: 0.0048 - accuracy: 0.9965 - val_loss: 0.6019 - val_accuracy: 0.6386\n",
      "Epoch 49/70\n",
      "239/239 - 5s - loss: 0.0036 - accuracy: 0.9974 - val_loss: 0.6167 - val_accuracy: 0.6282\n",
      "Epoch 50/70\n",
      "239/239 - 5s - loss: 0.0037 - accuracy: 0.9967 - val_loss: 0.6637 - val_accuracy: 0.6444\n",
      "Epoch 51/70\n",
      "239/239 - 5s - loss: 0.0055 - accuracy: 0.9954 - val_loss: 0.6052 - val_accuracy: 0.6282\n",
      "Epoch 52/70\n",
      "239/239 - 5s - loss: 0.0051 - accuracy: 0.9961 - val_loss: 0.6073 - val_accuracy: 0.6308\n",
      "Epoch 53/70\n",
      "239/239 - 5s - loss: 0.0037 - accuracy: 0.9965 - val_loss: 0.6233 - val_accuracy: 0.6439\n",
      "Epoch 54/70\n",
      "239/239 - 5s - loss: 0.0022 - accuracy: 0.9984 - val_loss: 0.6574 - val_accuracy: 0.6637\n",
      "Epoch 55/70\n",
      "239/239 - 5s - loss: 0.0022 - accuracy: 0.9983 - val_loss: 0.7002 - val_accuracy: 0.6460\n",
      "Epoch 56/70\n",
      "239/239 - 5s - loss: 0.0035 - accuracy: 0.9969 - val_loss: 0.6567 - val_accuracy: 0.6522\n",
      "Epoch 57/70\n",
      "239/239 - 5s - loss: 0.0049 - accuracy: 0.9960 - val_loss: 0.6397 - val_accuracy: 0.6433\n",
      "Epoch 58/70\n",
      "239/239 - 5s - loss: 0.0049 - accuracy: 0.9957 - val_loss: 0.6525 - val_accuracy: 0.6350\n",
      "Epoch 59/70\n",
      "239/239 - 5s - loss: 0.0051 - accuracy: 0.9954 - val_loss: 0.6353 - val_accuracy: 0.6397\n",
      "Epoch 60/70\n",
      "239/239 - 5s - loss: 0.0027 - accuracy: 0.9976 - val_loss: 0.6621 - val_accuracy: 0.6444\n",
      "Epoch 61/70\n",
      "239/239 - 5s - loss: 0.0027 - accuracy: 0.9978 - val_loss: 0.7314 - val_accuracy: 0.6413\n",
      "Epoch 62/70\n",
      "239/239 - 5s - loss: 0.0024 - accuracy: 0.9984 - val_loss: 0.6852 - val_accuracy: 0.6402\n",
      "Epoch 63/70\n",
      "239/239 - 5s - loss: 0.0027 - accuracy: 0.9977 - val_loss: 0.7394 - val_accuracy: 0.6413\n",
      "Epoch 64/70\n",
      "239/239 - 5s - loss: 0.0029 - accuracy: 0.9972 - val_loss: 0.6369 - val_accuracy: 0.6345\n",
      "Epoch 65/70\n",
      "239/239 - 5s - loss: 0.0043 - accuracy: 0.9964 - val_loss: 0.7352 - val_accuracy: 0.6376\n",
      "Epoch 66/70\n",
      "239/239 - 5s - loss: 0.0032 - accuracy: 0.9975 - val_loss: 0.6774 - val_accuracy: 0.6595\n",
      "Epoch 67/70\n",
      "239/239 - 5s - loss: 0.0023 - accuracy: 0.9982 - val_loss: 0.6520 - val_accuracy: 0.6439\n",
      "Epoch 68/70\n",
      "239/239 - 5s - loss: 0.0037 - accuracy: 0.9976 - val_loss: 0.7005 - val_accuracy: 0.6355\n",
      "Epoch 69/70\n",
      "239/239 - 5s - loss: 0.0031 - accuracy: 0.9975 - val_loss: 0.6204 - val_accuracy: 0.6418\n",
      "Epoch 70/70\n",
      "239/239 - 5s - loss: 0.0022 - accuracy: 0.9980 - val_loss: 0.6272 - val_accuracy: 0.6559\n"
     ]
    }
   ],
   "source": [
    "history = fit_model(model1, 64, 70, False, x_train, y_train, x_val, y_val, x_test)"
   ]
  },
  {
   "cell_type": "markdown",
   "metadata": {},
   "source": [
    "Now we're going to test our model using the test set for the model."
   ]
  },
  {
   "cell_type": "code",
   "execution_count": 10,
   "metadata": {},
   "outputs": [
    {
     "name": "stdout",
     "output_type": "stream",
     "text": [
      "30/30 [==============================] - 0s 7ms/step - loss: 0.6673 - accuracy: 0.6334\n"
     ]
    }
   ],
   "source": [
    "test_loss, test_acc = evaluate_model(model1, x_test, y_test,  64)"
   ]
  },
  {
   "cell_type": "code",
   "execution_count": 11,
   "metadata": {},
   "outputs": [
    {
     "name": "stdout",
     "output_type": "stream",
     "text": [
      "Test loss: 0.6673\n",
      "Test accuracy: 0.6334\n"
     ]
    }
   ],
   "source": [
    "print(f\"Test loss: {test_loss:.4f}\")\n",
    "print(f\"Test accuracy: {test_acc:.4f}\")"
   ]
  },
  {
   "cell_type": "code",
   "execution_count": 12,
   "metadata": {},
   "outputs": [
    {
     "data": {
      "image/png": "[encoded data removed]",
      "text/plain": [
       "<Figure size 432x288 with 1 Axes>"
      ]
     },
     "metadata": {
      "needs_background": "light"
     },
     "output_type": "display_data"
    },
    {
     "data": {
      "image/png": "[encoded data removed]",
      "text/plain": [
       "<Figure size 432x288 with 1 Axes>"
      ]
     },
     "metadata": {
      "needs_background": "light"
     },
     "output_type": "display_data"
    }
   ],
   "source": [
    "plot_acc_loss(history)"
   ]
  },
  {
   "cell_type": "markdown",
   "metadata": {},
   "source": [
    "We see that this model is very overfitted. We will now try to train another model that may be less overfitted."
   ]
  },
  {
   "cell_type": "markdown",
   "metadata": {},
   "source": [
    "### Model version 2"
   ]
  },
  {
   "cell_type": "markdown",
   "metadata": {},
   "source": [
    "Now we are going the same as above. So we are going to creat the model, complie it and fit it."
   ]
  },
  {
   "cell_type": "code",
   "execution_count": 14,
   "metadata": {},
   "outputs": [],
   "source": [
    "model2 = Sequential(models[1]['layers'], name = models[1]['name'])"
   ]
  },
  {
   "cell_type": "code",
   "execution_count": 15,
   "metadata": {},
   "outputs": [
    {
     "name": "stdout",
     "output_type": "stream",
     "text": [
      "Model: \"Version_2\"\n",
      "_________________________________________________________________\n",
      "Layer (type)                 Output Shape              Param #   \n",
      "=================================================================\n",
      "conv2d_5 (Conv2D)            (None, 46, 46, 64)        1792      \n",
      "_________________________________________________________________\n",
      "batch_normalization_3 (Batch (None, 46, 46, 64)        256       \n",
      "_________________________________________________________________\n",
      "conv2d_6 (Conv2D)            (None, 44, 44, 64)        36928     \n",
      "_________________________________________________________________\n",
      "batch_normalization_4 (Batch (None, 44, 44, 64)        256       \n",
      "_________________________________________________________________\n",
      "dropout_3 (Dropout)          (None, 44, 44, 64)        0         \n",
      "_________________________________________________________________\n",
      "conv2d_7 (Conv2D)            (None, 42, 42, 64)        36928     \n",
      "_________________________________________________________________\n",
      "conv2d_8 (Conv2D)            (None, 40, 40, 64)        36928     \n",
      "_________________________________________________________________\n",
      "max_pooling2d_2 (MaxPooling2 (None, 20, 20, 64)        0         \n",
      "_________________________________________________________________\n",
      "conv2d_9 (Conv2D)            (None, 18, 18, 128)       73856     \n",
      "_________________________________________________________________\n",
      "batch_normalization_5 (Batch (None, 18, 18, 128)       512       \n",
      "_________________________________________________________________\n",
      "conv2d_10 (Conv2D)           (None, 16, 16, 128)       147584    \n",
      "_________________________________________________________________\n",
      "batch_normalization_6 (Batch (None, 16, 16, 128)       512       \n",
      "_________________________________________________________________\n",
      "conv2d_11 (Conv2D)           (None, 14, 14, 128)       147584    \n",
      "_________________________________________________________________\n",
      "conv2d_12 (Conv2D)           (None, 12, 12, 128)       147584    \n",
      "_________________________________________________________________\n",
      "max_pooling2d_3 (MaxPooling2 (None, 6, 6, 128)         0         \n",
      "_________________________________________________________________\n",
      "conv2d_13 (Conv2D)           (None, 4, 4, 256)         295168    \n",
      "_________________________________________________________________\n",
      "batch_normalization_7 (Batch (None, 4, 4, 256)         1024      \n",
      "_________________________________________________________________\n",
      "conv2d_14 (Conv2D)           (None, 2, 2, 256)         590080    \n",
      "_________________________________________________________________\n",
      "batch_normalization_8 (Batch (None, 2, 2, 256)         1024      \n",
      "_________________________________________________________________\n",
      "flatten_1 (Flatten)          (None, 1024)              0         \n",
      "_________________________________________________________________\n",
      "dense_3 (Dense)              (None, 1024)              1049600   \n",
      "_________________________________________________________________\n",
      "dropout_4 (Dropout)          (None, 1024)              0         \n",
      "_________________________________________________________________\n",
      "dense_4 (Dense)              (None, 1024)              1049600   \n",
      "_________________________________________________________________\n",
      "dropout_5 (Dropout)          (None, 1024)              0         \n",
      "_________________________________________________________________\n",
      "dense_5 (Dense)              (None, 7)                 7175      \n",
      "=================================================================\n",
      "Total params: 3,624,391\n",
      "Trainable params: 3,622,599\n",
      "Non-trainable params: 1,792\n",
      "_________________________________________________________________\n"
     ]
    }
   ],
   "source": [
    "model2.summary()"
   ]
  },
  {
   "cell_type": "markdown",
   "metadata": {},
   "source": [
    "Perfect! Lets compile "
   ]
  },
  {
   "cell_type": "markdown",
   "metadata": {},
   "source": [
    "### Compile and train"
   ]
  },
  {
   "cell_type": "code",
   "execution_count": 16,
   "metadata": {},
   "outputs": [],
   "source": [
    "compile_model(model2)"
   ]
  },
  {
   "cell_type": "code",
   "execution_count": 17,
   "metadata": {},
   "outputs": [
    {
     "name": "stdout",
     "output_type": "stream",
     "text": [
      "Epoch 1/70\n",
      "239/239 - 9s - loss: 0.3143 - accuracy: 0.5075 - val_loss: 0.3524 - val_accuracy: 0.3222\n",
      "Epoch 2/70\n",
      "239/239 - 7s - loss: 0.2659 - accuracy: 0.5826 - val_loss: 0.3128 - val_accuracy: 0.4778\n",
      "Epoch 3/70\n",
      "239/239 - 7s - loss: 0.2471 - accuracy: 0.6134 - val_loss: 0.2593 - val_accuracy: 0.5943\n",
      "Epoch 4/70\n",
      "239/239 - 7s - loss: 0.2355 - accuracy: 0.6332 - val_loss: 0.2505 - val_accuracy: 0.6021\n",
      "Epoch 5/70\n",
      "239/239 - 6s - loss: 0.2242 - accuracy: 0.6513 - val_loss: 0.2376 - val_accuracy: 0.6131\n",
      "Epoch 6/70\n",
      "239/239 - 7s - loss: 0.2150 - accuracy: 0.6684 - val_loss: 0.2439 - val_accuracy: 0.6204\n",
      "Epoch 7/70\n",
      "239/239 - 7s - loss: 0.2060 - accuracy: 0.6808 - val_loss: 0.2337 - val_accuracy: 0.6324\n",
      "Epoch 8/70\n",
      "239/239 - 7s - loss: 0.1971 - accuracy: 0.6962 - val_loss: 0.2367 - val_accuracy: 0.6386\n",
      "Epoch 9/70\n",
      "239/239 - 7s - loss: 0.1859 - accuracy: 0.7134 - val_loss: 0.2326 - val_accuracy: 0.6460\n",
      "Epoch 10/70\n",
      "239/239 - 7s - loss: 0.1746 - accuracy: 0.7359 - val_loss: 0.2322 - val_accuracy: 0.6543\n",
      "Epoch 11/70\n",
      "239/239 - 7s - loss: 0.1613 - accuracy: 0.7584 - val_loss: 0.2396 - val_accuracy: 0.6507\n",
      "Epoch 12/70\n",
      "239/239 - 7s - loss: 0.1494 - accuracy: 0.7785 - val_loss: 0.2441 - val_accuracy: 0.6574\n",
      "Epoch 13/70\n",
      "239/239 - 7s - loss: 0.1340 - accuracy: 0.8082 - val_loss: 0.2531 - val_accuracy: 0.6580\n",
      "Epoch 14/70\n",
      "239/239 - 7s - loss: 0.1163 - accuracy: 0.8410 - val_loss: 0.3087 - val_accuracy: 0.6507\n",
      "Epoch 15/70\n",
      "239/239 - 7s - loss: 0.1002 - accuracy: 0.8636 - val_loss: 0.2875 - val_accuracy: 0.6366\n",
      "Epoch 16/70\n",
      "239/239 - 7s - loss: 0.0838 - accuracy: 0.8923 - val_loss: 0.3119 - val_accuracy: 0.6533\n",
      "Epoch 17/70\n",
      "239/239 - 7s - loss: 0.0678 - accuracy: 0.9188 - val_loss: 0.3309 - val_accuracy: 0.6480\n",
      "Epoch 18/70\n",
      "239/239 - 7s - loss: 0.0574 - accuracy: 0.9331 - val_loss: 0.3521 - val_accuracy: 0.6282\n",
      "Epoch 19/70\n",
      "239/239 - 7s - loss: 0.0460 - accuracy: 0.9492 - val_loss: 0.4151 - val_accuracy: 0.6428\n",
      "Epoch 20/70\n",
      "239/239 - 7s - loss: 0.0359 - accuracy: 0.9626 - val_loss: 0.4230 - val_accuracy: 0.6428\n",
      "Epoch 21/70\n",
      "239/239 - 7s - loss: 0.0336 - accuracy: 0.9654 - val_loss: 0.4414 - val_accuracy: 0.6360\n",
      "Epoch 22/70\n",
      "239/239 - 7s - loss: 0.0256 - accuracy: 0.9757 - val_loss: 0.4799 - val_accuracy: 0.6245\n",
      "Epoch 23/70\n",
      "239/239 - 7s - loss: 0.0261 - accuracy: 0.9748 - val_loss: 0.4675 - val_accuracy: 0.6449\n",
      "Epoch 24/70\n",
      "239/239 - 7s - loss: 0.0222 - accuracy: 0.9808 - val_loss: 0.4905 - val_accuracy: 0.6371\n",
      "Epoch 25/70\n",
      "239/239 - 7s - loss: 0.0188 - accuracy: 0.9836 - val_loss: 0.5057 - val_accuracy: 0.6329\n",
      "Epoch 26/70\n",
      "239/239 - 7s - loss: 0.0162 - accuracy: 0.9859 - val_loss: 0.5283 - val_accuracy: 0.6470\n",
      "Epoch 27/70\n",
      "239/239 - 7s - loss: 0.0153 - accuracy: 0.9868 - val_loss: 0.5237 - val_accuracy: 0.6376\n",
      "Epoch 28/70\n",
      "239/239 - 7s - loss: 0.0166 - accuracy: 0.9851 - val_loss: 0.5415 - val_accuracy: 0.6204\n",
      "Epoch 29/70\n",
      "239/239 - 7s - loss: 0.0190 - accuracy: 0.9810 - val_loss: 0.5197 - val_accuracy: 0.6167\n",
      "Epoch 30/70\n",
      "239/239 - 7s - loss: 0.0166 - accuracy: 0.9835 - val_loss: 0.5582 - val_accuracy: 0.6402\n",
      "Epoch 31/70\n",
      "239/239 - 7s - loss: 0.0126 - accuracy: 0.9888 - val_loss: 0.5638 - val_accuracy: 0.6219\n",
      "Epoch 32/70\n",
      "239/239 - 7s - loss: 0.0120 - accuracy: 0.9889 - val_loss: 0.5903 - val_accuracy: 0.6355\n",
      "Epoch 33/70\n",
      "239/239 - 7s - loss: 0.0119 - accuracy: 0.9896 - val_loss: 0.5779 - val_accuracy: 0.6407\n",
      "Epoch 34/70\n",
      "239/239 - 7s - loss: 0.0127 - accuracy: 0.9883 - val_loss: 0.5774 - val_accuracy: 0.6366\n",
      "Epoch 35/70\n",
      "239/239 - 7s - loss: 0.0136 - accuracy: 0.9873 - val_loss: 0.5868 - val_accuracy: 0.6543\n",
      "Epoch 36/70\n",
      "239/239 - 7s - loss: 0.0138 - accuracy: 0.9864 - val_loss: 0.6105 - val_accuracy: 0.6350\n",
      "Epoch 37/70\n",
      "239/239 - 7s - loss: 0.0128 - accuracy: 0.9879 - val_loss: 0.5419 - val_accuracy: 0.6371\n",
      "Epoch 38/70\n",
      "239/239 - 7s - loss: 0.0086 - accuracy: 0.9915 - val_loss: 0.6070 - val_accuracy: 0.6313\n",
      "Epoch 39/70\n",
      "239/239 - 7s - loss: 0.0094 - accuracy: 0.9914 - val_loss: 0.5881 - val_accuracy: 0.6282\n",
      "Epoch 40/70\n",
      "239/239 - 6s - loss: 0.0127 - accuracy: 0.9868 - val_loss: 0.6434 - val_accuracy: 0.6428\n",
      "Epoch 41/70\n",
      "239/239 - 6s - loss: 0.0108 - accuracy: 0.9895 - val_loss: 0.5672 - val_accuracy: 0.6371\n",
      "Epoch 42/70\n",
      "239/239 - 6s - loss: 0.0093 - accuracy: 0.9907 - val_loss: 0.5992 - val_accuracy: 0.6574\n",
      "Epoch 43/70\n",
      "239/239 - 6s - loss: 0.0120 - accuracy: 0.9870 - val_loss: 0.6177 - val_accuracy: 0.6454\n",
      "Epoch 44/70\n",
      "239/239 - 6s - loss: 0.0095 - accuracy: 0.9910 - val_loss: 0.6013 - val_accuracy: 0.6360\n",
      "Epoch 45/70\n",
      "239/239 - 6s - loss: 0.0103 - accuracy: 0.9894 - val_loss: 0.5961 - val_accuracy: 0.6272\n",
      "Epoch 46/70\n",
      "239/239 - 6s - loss: 0.0090 - accuracy: 0.9908 - val_loss: 0.6046 - val_accuracy: 0.6423\n",
      "Epoch 47/70\n",
      "239/239 - 6s - loss: 0.0070 - accuracy: 0.9934 - val_loss: 0.6081 - val_accuracy: 0.6319\n",
      "Epoch 48/70\n",
      "239/239 - 6s - loss: 0.0081 - accuracy: 0.9919 - val_loss: 0.6094 - val_accuracy: 0.6366\n",
      "Epoch 49/70\n",
      "239/239 - 6s - loss: 0.0090 - accuracy: 0.9915 - val_loss: 0.5811 - val_accuracy: 0.6413\n",
      "Epoch 50/70\n",
      "239/239 - 6s - loss: 0.0077 - accuracy: 0.9925 - val_loss: 0.6458 - val_accuracy: 0.6303\n",
      "Epoch 51/70\n",
      "239/239 - 6s - loss: 0.0123 - accuracy: 0.9869 - val_loss: 0.6058 - val_accuracy: 0.6256\n",
      "Epoch 52/70\n",
      "239/239 - 7s - loss: 0.0079 - accuracy: 0.9921 - val_loss: 0.5998 - val_accuracy: 0.6392\n",
      "Epoch 53/70\n",
      "239/239 - 7s - loss: 0.0095 - accuracy: 0.9902 - val_loss: 0.6066 - val_accuracy: 0.6303\n",
      "Epoch 54/70\n",
      "239/239 - 7s - loss: 0.0076 - accuracy: 0.9917 - val_loss: 0.6265 - val_accuracy: 0.6360\n",
      "Epoch 55/70\n",
      "239/239 - 6s - loss: 0.0055 - accuracy: 0.9942 - val_loss: 0.6514 - val_accuracy: 0.6397\n",
      "Epoch 56/70\n",
      "239/239 - 6s - loss: 0.0056 - accuracy: 0.9946 - val_loss: 0.7201 - val_accuracy: 0.6423\n",
      "Epoch 57/70\n",
      "239/239 - 7s - loss: 0.0077 - accuracy: 0.9911 - val_loss: 0.6148 - val_accuracy: 0.6287\n",
      "Epoch 58/70\n",
      "239/239 - 7s - loss: 0.0074 - accuracy: 0.9925 - val_loss: 0.6111 - val_accuracy: 0.6428\n",
      "Epoch 59/70\n",
      "239/239 - 7s - loss: 0.0061 - accuracy: 0.9940 - val_loss: 0.6475 - val_accuracy: 0.6538\n",
      "Epoch 60/70\n",
      "239/239 - 7s - loss: 0.0080 - accuracy: 0.9915 - val_loss: 0.6432 - val_accuracy: 0.6193\n",
      "Epoch 61/70\n",
      "239/239 - 7s - loss: 0.0097 - accuracy: 0.9908 - val_loss: 0.5992 - val_accuracy: 0.6350\n",
      "Epoch 62/70\n",
      "239/239 - 7s - loss: 0.0077 - accuracy: 0.9926 - val_loss: 0.6245 - val_accuracy: 0.6324\n",
      "Epoch 63/70\n",
      "239/239 - 7s - loss: 0.0066 - accuracy: 0.9932 - val_loss: 0.5847 - val_accuracy: 0.6386\n",
      "Epoch 64/70\n",
      "239/239 - 7s - loss: 0.0040 - accuracy: 0.9961 - val_loss: 0.6681 - val_accuracy: 0.6339\n",
      "Epoch 65/70\n",
      "239/239 - 7s - loss: 0.0079 - accuracy: 0.9914 - val_loss: 0.7245 - val_accuracy: 0.6287\n",
      "Epoch 66/70\n",
      "239/239 - 6s - loss: 0.0108 - accuracy: 0.9873 - val_loss: 0.6045 - val_accuracy: 0.6298\n",
      "Epoch 67/70\n",
      "239/239 - 6s - loss: 0.0064 - accuracy: 0.9929 - val_loss: 0.5880 - val_accuracy: 0.6329\n",
      "Epoch 68/70\n",
      "239/239 - 6s - loss: 0.0046 - accuracy: 0.9954 - val_loss: 0.6259 - val_accuracy: 0.6245\n",
      "Epoch 69/70\n",
      "239/239 - 7s - loss: 0.0044 - accuracy: 0.9955 - val_loss: 0.7092 - val_accuracy: 0.6386\n",
      "Epoch 70/70\n",
      "239/239 - 6s - loss: 0.0078 - accuracy: 0.9915 - val_loss: 0.6608 - val_accuracy: 0.6491\n"
     ]
    }
   ],
   "source": [
    "# to do: set epoches to 100\n",
    "history = fit_model(model2, 64, 70, False, x_train, y_train, x_val, y_val, x_test)"
   ]
  },
  {
   "cell_type": "markdown",
   "metadata": {},
   "source": [
    "Now we're going to test our model using the test set for the model."
   ]
  },
  {
   "cell_type": "code",
   "execution_count": 18,
   "metadata": {},
   "outputs": [
    {
     "name": "stdout",
     "output_type": "stream",
     "text": [
      "30/30 [==============================] - 0s 9ms/step - loss: 0.6956 - accuracy: 0.6303\n"
     ]
    }
   ],
   "source": [
    "test_loss, test_acc = evaluate_model(model2, x_test, y_test,  64)"
   ]
  },
  {
   "cell_type": "code",
   "execution_count": 19,
   "metadata": {},
   "outputs": [
    {
     "name": "stdout",
     "output_type": "stream",
     "text": [
      "Test loss: 0.6956\n",
      "Test accuracy: 0.6303\n"
     ]
    }
   ],
   "source": [
    "print(f\"Test loss: {test_loss:.4f}\")\n",
    "print(f\"Test accuracy: {test_acc:.4f}\")"
   ]
  },
  {
   "cell_type": "code",
   "execution_count": 20,
   "metadata": {},
   "outputs": [
    {
     "data": {
      "image/png": "[encoded data removed]",
      "text/plain": [
       "<Figure size 432x288 with 1 Axes>"
      ]
     },
     "metadata": {
      "needs_background": "light"
     },
     "output_type": "display_data"
    },
    {
     "data": {
      "image/png": "[encoded data removed]",
      "text/plain": [
       "<Figure size 432x288 with 1 Axes>"
      ]
     },
     "metadata": {
      "needs_background": "light"
     },
     "output_type": "display_data"
    }
   ],
   "source": [
    "plot_acc_loss(history)"
   ]
  },
  {
   "cell_type": "markdown",
   "metadata": {},
   "source": [
    "As we saw above, the results are not too great. Next we are going to try to add some argumentation to the data. That could help our model to leren more. You can find the file where the data has been argumendated right [here](https://github.com/BB8-2020/EmpathicRobot/tree/main/data)."
   ]
  },
  {
   "cell_type": "markdown",
   "metadata": {},
   "source": [
    "## Argumet data"
   ]
  },
  {
   "cell_type": "markdown",
   "metadata": {},
   "source": [
    "We split the data again"
   ]
  },
  {
   "cell_type": "code",
   "execution_count": 22,
   "metadata": {},
   "outputs": [],
   "source": [
    "datagen,x_train_arg, y_train_arg, x_val_arg, y_val_arg, x_test_arg, y_test_arg = read_data('affectNet_augment', True)"
   ]
  },
  {
   "cell_type": "markdown",
   "metadata": {},
   "source": [
    "Now we are going to just fit the model using this data."
   ]
  },
  {
   "cell_type": "code",
   "execution_count": 23,
   "metadata": {},
   "outputs": [
    {
     "name": "stdout",
     "output_type": "stream",
     "text": [
      "Epoch 1/100\n",
      "239/239 - 9s - loss: 0.2934 - accuracy: 0.5824 - val_loss: 0.2211 - val_accuracy: 0.6648\n",
      "Epoch 2/100\n",
      "239/239 - 8s - loss: 0.2379 - accuracy: 0.6324 - val_loss: 0.2117 - val_accuracy: 0.6742\n",
      "Epoch 3/100\n",
      "239/239 - 8s - loss: 0.2321 - accuracy: 0.6414 - val_loss: 0.2043 - val_accuracy: 0.6888\n",
      "Epoch 4/100\n",
      "239/239 - 8s - loss: 0.2261 - accuracy: 0.6538 - val_loss: 0.2078 - val_accuracy: 0.6862\n",
      "Epoch 5/100\n",
      "239/239 - 8s - loss: 0.2197 - accuracy: 0.6630 - val_loss: 0.2004 - val_accuracy: 0.6924\n",
      "Epoch 6/100\n",
      "239/239 - 8s - loss: 0.2166 - accuracy: 0.6671 - val_loss: 0.1958 - val_accuracy: 0.6961\n",
      "Epoch 7/100\n",
      "239/239 - 8s - loss: 0.2143 - accuracy: 0.6670 - val_loss: 0.1936 - val_accuracy: 0.7013\n",
      "Epoch 8/100\n",
      "239/239 - 8s - loss: 0.2100 - accuracy: 0.6745 - val_loss: 0.1914 - val_accuracy: 0.7034\n",
      "Epoch 9/100\n",
      "239/239 - 8s - loss: 0.2089 - accuracy: 0.6789 - val_loss: 0.1956 - val_accuracy: 0.6930\n",
      "Epoch 10/100\n",
      "239/239 - 8s - loss: 0.2056 - accuracy: 0.6842 - val_loss: 0.1907 - val_accuracy: 0.7055\n",
      "Epoch 11/100\n",
      "239/239 - 8s - loss: 0.2026 - accuracy: 0.6861 - val_loss: 0.1937 - val_accuracy: 0.7044\n",
      "Epoch 12/100\n",
      "239/239 - 8s - loss: 0.2013 - accuracy: 0.6929 - val_loss: 0.1910 - val_accuracy: 0.7044\n",
      "Epoch 13/100\n",
      "239/239 - 8s - loss: 0.1978 - accuracy: 0.6997 - val_loss: 0.1904 - val_accuracy: 0.7164\n",
      "Epoch 14/100\n",
      "239/239 - 8s - loss: 0.1968 - accuracy: 0.7004 - val_loss: 0.1900 - val_accuracy: 0.7097\n",
      "Epoch 15/100\n",
      "239/239 - 8s - loss: 0.1956 - accuracy: 0.6991 - val_loss: 0.2002 - val_accuracy: 0.6872\n",
      "Epoch 16/100\n",
      "239/239 - 8s - loss: 0.1946 - accuracy: 0.7033 - val_loss: 0.1909 - val_accuracy: 0.6971\n",
      "Epoch 17/100\n",
      "239/239 - 8s - loss: 0.1913 - accuracy: 0.7065 - val_loss: 0.1927 - val_accuracy: 0.7034\n",
      "Epoch 18/100\n",
      "239/239 - 8s - loss: 0.1906 - accuracy: 0.7074 - val_loss: 0.1921 - val_accuracy: 0.7138\n",
      "Epoch 19/100\n",
      "239/239 - 8s - loss: 0.1881 - accuracy: 0.7114 - val_loss: 0.2026 - val_accuracy: 0.6862\n",
      "Epoch 20/100\n",
      "239/239 - 8s - loss: 0.1878 - accuracy: 0.7155 - val_loss: 0.1868 - val_accuracy: 0.7112\n",
      "Epoch 21/100\n",
      "239/239 - 8s - loss: 0.1865 - accuracy: 0.7138 - val_loss: 0.1864 - val_accuracy: 0.7191\n",
      "Epoch 22/100\n",
      "239/239 - 8s - loss: 0.1843 - accuracy: 0.7198 - val_loss: 0.1849 - val_accuracy: 0.7211\n",
      "Epoch 23/100\n",
      "239/239 - 8s - loss: 0.1830 - accuracy: 0.7191 - val_loss: 0.1888 - val_accuracy: 0.7086\n",
      "Epoch 24/100\n",
      "239/239 - 8s - loss: 0.1816 - accuracy: 0.7229 - val_loss: 0.1937 - val_accuracy: 0.7086\n",
      "Epoch 25/100\n",
      "239/239 - 8s - loss: 0.1800 - accuracy: 0.7258 - val_loss: 0.1824 - val_accuracy: 0.7144\n",
      "Epoch 26/100\n",
      "239/239 - 8s - loss: 0.1785 - accuracy: 0.7280 - val_loss: 0.1893 - val_accuracy: 0.7060\n",
      "Epoch 27/100\n",
      "239/239 - 8s - loss: 0.1764 - accuracy: 0.7298 - val_loss: 0.1938 - val_accuracy: 0.7076\n",
      "Epoch 28/100\n",
      "239/239 - 8s - loss: 0.1772 - accuracy: 0.7301 - val_loss: 0.1874 - val_accuracy: 0.7050\n",
      "Epoch 29/100\n",
      "239/239 - 8s - loss: 0.1738 - accuracy: 0.7353 - val_loss: 0.1970 - val_accuracy: 0.7097\n",
      "Epoch 30/100\n",
      "239/239 - 8s - loss: 0.1730 - accuracy: 0.7374 - val_loss: 0.1849 - val_accuracy: 0.7201\n",
      "Epoch 31/100\n",
      "239/239 - 8s - loss: 0.1716 - accuracy: 0.7372 - val_loss: 0.1945 - val_accuracy: 0.7081\n",
      "Epoch 32/100\n",
      "239/239 - 8s - loss: 0.1711 - accuracy: 0.7404 - val_loss: 0.1910 - val_accuracy: 0.7065\n",
      "Epoch 33/100\n",
      "239/239 - 8s - loss: 0.1712 - accuracy: 0.7421 - val_loss: 0.1851 - val_accuracy: 0.7248\n",
      "Epoch 34/100\n",
      "239/239 - 8s - loss: 0.1685 - accuracy: 0.7476 - val_loss: 0.1905 - val_accuracy: 0.7180\n",
      "Epoch 35/100\n",
      "239/239 - 8s - loss: 0.1685 - accuracy: 0.7479 - val_loss: 0.1899 - val_accuracy: 0.7144\n",
      "Epoch 36/100\n",
      "239/239 - 8s - loss: 0.1663 - accuracy: 0.7501 - val_loss: 0.1917 - val_accuracy: 0.7196\n",
      "Epoch 37/100\n",
      "239/239 - 8s - loss: 0.1661 - accuracy: 0.7467 - val_loss: 0.1918 - val_accuracy: 0.7164\n",
      "Epoch 38/100\n",
      "239/239 - 8s - loss: 0.1636 - accuracy: 0.7497 - val_loss: 0.1967 - val_accuracy: 0.6956\n",
      "Epoch 39/100\n",
      "239/239 - 8s - loss: 0.1644 - accuracy: 0.7491 - val_loss: 0.1974 - val_accuracy: 0.7029\n",
      "Epoch 40/100\n",
      "239/239 - 8s - loss: 0.1624 - accuracy: 0.7544 - val_loss: 0.1884 - val_accuracy: 0.7159\n",
      "Epoch 41/100\n",
      "239/239 - 8s - loss: 0.1622 - accuracy: 0.7560 - val_loss: 0.1994 - val_accuracy: 0.7018\n",
      "Epoch 42/100\n",
      "239/239 - 8s - loss: 0.1580 - accuracy: 0.7613 - val_loss: 0.1932 - val_accuracy: 0.7149\n",
      "Epoch 43/100\n",
      "239/239 - 8s - loss: 0.1576 - accuracy: 0.7625 - val_loss: 0.2014 - val_accuracy: 0.6930\n",
      "Epoch 44/100\n",
      "239/239 - 8s - loss: 0.1581 - accuracy: 0.7625 - val_loss: 0.1938 - val_accuracy: 0.7060\n",
      "Epoch 45/100\n",
      "239/239 - 8s - loss: 0.1576 - accuracy: 0.7621 - val_loss: 0.1952 - val_accuracy: 0.7107\n",
      "Epoch 46/100\n",
      "239/239 - 8s - loss: 0.1551 - accuracy: 0.7663 - val_loss: 0.1998 - val_accuracy: 0.6992\n",
      "Epoch 47/100\n",
      "239/239 - 8s - loss: 0.1540 - accuracy: 0.7686 - val_loss: 0.1945 - val_accuracy: 0.7222\n",
      "Epoch 48/100\n",
      "239/239 - 8s - loss: 0.1538 - accuracy: 0.7679 - val_loss: 0.1986 - val_accuracy: 0.7227\n",
      "Epoch 49/100\n",
      "239/239 - 8s - loss: 0.1502 - accuracy: 0.7757 - val_loss: 0.2023 - val_accuracy: 0.6893\n",
      "Epoch 50/100\n",
      "239/239 - 8s - loss: 0.1497 - accuracy: 0.7753 - val_loss: 0.2011 - val_accuracy: 0.7117\n",
      "Epoch 51/100\n",
      "239/239 - 8s - loss: 0.1491 - accuracy: 0.7721 - val_loss: 0.2015 - val_accuracy: 0.7029\n",
      "Epoch 52/100\n",
      "239/239 - 8s - loss: 0.1497 - accuracy: 0.7731 - val_loss: 0.1917 - val_accuracy: 0.7180\n",
      "Epoch 53/100\n",
      "239/239 - 8s - loss: 0.1488 - accuracy: 0.7778 - val_loss: 0.2018 - val_accuracy: 0.7133\n",
      "Epoch 54/100\n",
      "239/239 - 8s - loss: 0.1495 - accuracy: 0.7744 - val_loss: 0.2049 - val_accuracy: 0.7097\n",
      "Epoch 55/100\n",
      "239/239 - 8s - loss: 0.1468 - accuracy: 0.7788 - val_loss: 0.2051 - val_accuracy: 0.7128\n",
      "Epoch 56/100\n",
      "239/239 - 8s - loss: 0.1439 - accuracy: 0.7843 - val_loss: 0.2163 - val_accuracy: 0.7112\n",
      "Epoch 57/100\n",
      "239/239 - 8s - loss: 0.1428 - accuracy: 0.7855 - val_loss: 0.2106 - val_accuracy: 0.7065\n",
      "Epoch 58/100\n",
      "239/239 - 8s - loss: 0.1414 - accuracy: 0.7854 - val_loss: 0.1969 - val_accuracy: 0.7128\n",
      "Epoch 59/100\n",
      "239/239 - 8s - loss: 0.1394 - accuracy: 0.7883 - val_loss: 0.2057 - val_accuracy: 0.7123\n",
      "Epoch 60/100\n",
      "239/239 - 8s - loss: 0.1412 - accuracy: 0.7865 - val_loss: 0.2033 - val_accuracy: 0.7107\n",
      "Epoch 61/100\n",
      "239/239 - 8s - loss: 0.1392 - accuracy: 0.7961 - val_loss: 0.2099 - val_accuracy: 0.6977\n",
      "Epoch 62/100\n",
      "239/239 - 8s - loss: 0.1400 - accuracy: 0.7868 - val_loss: 0.1977 - val_accuracy: 0.7154\n",
      "Epoch 63/100\n",
      "239/239 - 8s - loss: 0.1371 - accuracy: 0.7947 - val_loss: 0.2113 - val_accuracy: 0.7196\n",
      "Epoch 64/100\n",
      "239/239 - 8s - loss: 0.1371 - accuracy: 0.7980 - val_loss: 0.2163 - val_accuracy: 0.7107\n",
      "Epoch 65/100\n",
      "239/239 - 8s - loss: 0.1343 - accuracy: 0.7982 - val_loss: 0.2143 - val_accuracy: 0.7097\n",
      "Epoch 66/100\n",
      "239/239 - 8s - loss: 0.1333 - accuracy: 0.8006 - val_loss: 0.2252 - val_accuracy: 0.7076\n",
      "Epoch 67/100\n",
      "239/239 - 8s - loss: 0.1334 - accuracy: 0.8049 - val_loss: 0.2162 - val_accuracy: 0.7060\n",
      "Epoch 68/100\n",
      "239/239 - 8s - loss: 0.1319 - accuracy: 0.8062 - val_loss: 0.2203 - val_accuracy: 0.7034\n",
      "Epoch 69/100\n",
      "239/239 - 8s - loss: 0.1303 - accuracy: 0.8082 - val_loss: 0.2216 - val_accuracy: 0.6966\n",
      "Epoch 70/100\n",
      "239/239 - 8s - loss: 0.1285 - accuracy: 0.8111 - val_loss: 0.2238 - val_accuracy: 0.7055\n",
      "Epoch 71/100\n",
      "239/239 - 8s - loss: 0.1302 - accuracy: 0.8053 - val_loss: 0.2186 - val_accuracy: 0.7154\n",
      "Epoch 72/100\n",
      "239/239 - 8s - loss: 0.1260 - accuracy: 0.8137 - val_loss: 0.2237 - val_accuracy: 0.7170\n",
      "Epoch 73/100\n",
      "239/239 - 8s - loss: 0.1270 - accuracy: 0.8131 - val_loss: 0.2143 - val_accuracy: 0.7180\n",
      "Epoch 74/100\n",
      "239/239 - 8s - loss: 0.1253 - accuracy: 0.8136 - val_loss: 0.2322 - val_accuracy: 0.6898\n",
      "Epoch 75/100\n",
      "239/239 - 8s - loss: 0.1246 - accuracy: 0.8183 - val_loss: 0.2169 - val_accuracy: 0.7023\n",
      "Epoch 76/100\n",
      "239/239 - 8s - loss: 0.1239 - accuracy: 0.8195 - val_loss: 0.2249 - val_accuracy: 0.7222\n",
      "Epoch 77/100\n",
      "239/239 - 8s - loss: 0.1221 - accuracy: 0.8208 - val_loss: 0.2297 - val_accuracy: 0.7013\n",
      "Epoch 78/100\n",
      "239/239 - 8s - loss: 0.1232 - accuracy: 0.8182 - val_loss: 0.2302 - val_accuracy: 0.7023\n",
      "Epoch 79/100\n",
      "239/239 - 8s - loss: 0.1191 - accuracy: 0.8240 - val_loss: 0.2364 - val_accuracy: 0.6909\n",
      "Epoch 80/100\n",
      "239/239 - 8s - loss: 0.1208 - accuracy: 0.8263 - val_loss: 0.2271 - val_accuracy: 0.7018\n",
      "Epoch 81/100\n",
      "239/239 - 8s - loss: 0.1197 - accuracy: 0.8241 - val_loss: 0.2606 - val_accuracy: 0.6689\n"
     ]
    },
    {
     "name": "stdout",
     "output_type": "stream",
     "text": [
      "Epoch 82/100\n",
      "239/239 - 8s - loss: 0.1191 - accuracy: 0.8270 - val_loss: 0.2504 - val_accuracy: 0.6961\n",
      "Epoch 83/100\n",
      "239/239 - 8s - loss: 0.1158 - accuracy: 0.8336 - val_loss: 0.2491 - val_accuracy: 0.7086\n",
      "Epoch 84/100\n",
      "239/239 - 8s - loss: 0.1170 - accuracy: 0.8305 - val_loss: 0.2398 - val_accuracy: 0.6924\n",
      "Epoch 85/100\n",
      "239/239 - 8s - loss: 0.1136 - accuracy: 0.8355 - val_loss: 0.2447 - val_accuracy: 0.7044\n",
      "Epoch 86/100\n",
      "239/239 - 8s - loss: 0.1129 - accuracy: 0.8357 - val_loss: 0.2364 - val_accuracy: 0.6961\n",
      "Epoch 87/100\n",
      "239/239 - 8s - loss: 0.1119 - accuracy: 0.8385 - val_loss: 0.2622 - val_accuracy: 0.6971\n",
      "Epoch 88/100\n",
      "239/239 - 8s - loss: 0.1109 - accuracy: 0.8388 - val_loss: 0.2518 - val_accuracy: 0.6862\n",
      "Epoch 89/100\n",
      "239/239 - 8s - loss: 0.1115 - accuracy: 0.8370 - val_loss: 0.2393 - val_accuracy: 0.7117\n",
      "Epoch 90/100\n",
      "239/239 - 8s - loss: 0.1092 - accuracy: 0.8429 - val_loss: 0.2496 - val_accuracy: 0.7034\n",
      "Epoch 91/100\n",
      "239/239 - 8s - loss: 0.1091 - accuracy: 0.8433 - val_loss: 0.2436 - val_accuracy: 0.6987\n",
      "Epoch 92/100\n",
      "239/239 - 8s - loss: 0.1087 - accuracy: 0.8444 - val_loss: 0.2645 - val_accuracy: 0.7076\n",
      "Epoch 93/100\n",
      "239/239 - 8s - loss: 0.1068 - accuracy: 0.8465 - val_loss: 0.2699 - val_accuracy: 0.6820\n",
      "Epoch 94/100\n",
      "239/239 - 8s - loss: 0.1066 - accuracy: 0.8432 - val_loss: 0.2657 - val_accuracy: 0.7013\n",
      "Epoch 95/100\n",
      "239/239 - 8s - loss: 0.1059 - accuracy: 0.8471 - val_loss: 0.2788 - val_accuracy: 0.7091\n",
      "Epoch 96/100\n",
      "239/239 - 8s - loss: 0.1039 - accuracy: 0.8477 - val_loss: 0.2673 - val_accuracy: 0.7034\n",
      "Epoch 97/100\n",
      "239/239 - 8s - loss: 0.1046 - accuracy: 0.8491 - val_loss: 0.2575 - val_accuracy: 0.7102\n",
      "Epoch 98/100\n",
      "239/239 - 8s - loss: 0.1045 - accuracy: 0.8496 - val_loss: 0.2650 - val_accuracy: 0.7102\n",
      "Epoch 99/100\n",
      "239/239 - 8s - loss: 0.1020 - accuracy: 0.8536 - val_loss: 0.2761 - val_accuracy: 0.6705\n",
      "Epoch 100/100\n",
      "239/239 - 8s - loss: 0.1010 - accuracy: 0.8526 - val_loss: 0.2521 - val_accuracy: 0.6872\n"
     ]
    }
   ],
   "source": [
    "history = fit_model(model2, 64, 100, True, datagen, x_train, y_train, x_val, y_val, x_test)"
   ]
  },
  {
   "cell_type": "markdown",
   "metadata": {},
   "source": [
    "Now we're going to test our model using the test set for the model."
   ]
  },
  {
   "cell_type": "code",
   "execution_count": 24,
   "metadata": {},
   "outputs": [
    {
     "name": "stdout",
     "output_type": "stream",
     "text": [
      "30/30 [==============================] - 0s 9ms/step - loss: 0.2628 - accuracy: 0.6898\n"
     ]
    }
   ],
   "source": [
    "test_loss, test_acc = evaluate_model(model2, x_test, y_test,  64)"
   ]
  },
  {
   "cell_type": "code",
   "execution_count": 25,
   "metadata": {},
   "outputs": [
    {
     "name": "stdout",
     "output_type": "stream",
     "text": [
      "Test loss: 0.2628\n",
      "Test accuracy: 0.6898\n"
     ]
    }
   ],
   "source": [
    "print(f\"Test loss: {test_loss:.4f}\")\n",
    "print(f\"Test accuracy: {test_acc:.4f}\")"
   ]
  },
  {
   "cell_type": "code",
   "execution_count": 26,
   "metadata": {},
   "outputs": [
    {
     "data": {
      "image/png": "[encoded data removed]",
      "text/plain": [
       "<Figure size 432x288 with 1 Axes>"
      ]
     },
     "metadata": {
      "needs_background": "light"
     },
     "output_type": "display_data"
    },
    {
     "data": {
      "image/png": "[encoded data removed]",
      "text/plain": [
       "<Figure size 432x288 with 1 Axes>"
      ]
     },
     "metadata": {
      "needs_background": "light"
     },
     "output_type": "display_data"
    }
   ],
   "source": [
    "plot_acc_loss(history)"
   ]
  },
  {
   "cell_type": "markdown",
   "metadata": {},
   "source": [
    "The model is still overfit :("
   ]
  },
  {
   "cell_type": "code",
   "execution_count": null,
   "metadata": {},
   "outputs": [],
   "source": [
    "save_model_to_lite(model2, test_acc)"
   ]
  },
  {
   "cell_type": "code",
   "execution_count": null,
   "metadata": {},
   "outputs": [],
   "source": [
    "save_all_model(model2, test_acc)"
   ]
  },
  {
   "cell_type": "markdown",
   "metadata": {},
   "source": [
    "## Conclusion\n"
   ]
  },
  {
   "cell_type": "markdown",
   "metadata": {},
   "source": [
    "The edited data helped the model a bit to get better results. Unfortunately, the results are still not too good. This model will not be used for our final presentation.\n",
    "\n",
    "this data set is therefore not entirely suitable for this model. [Here](https://github.com/BB8-2020/EmpathicRobot/tree/main/models/classification_model/vgg16) we are going to try to use the data in vgg16 model."
   ]
  }
 ],
 "metadata": {
  "kernelspec": {
   "display_name": "Python 3",
   "language": "python",
   "name": "python3"
  },
  "language_info": {
   "codemirror_mode": {
    "name": "ipython",
    "version": 3
   },
   "file_extension": ".py",
   "mimetype": "text/x-python",
   "name": "python",
   "nbconvert_exporter": "python",
   "pygments_lexer": "ipython3",
   "version": "3.8.5"
  }
 },
 "nbformat": 4,
 "nbformat_minor": 4
}