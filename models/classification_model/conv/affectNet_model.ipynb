{
 "cells": [
  {
   "cell_type": "markdown",
   "metadata": {},
   "source": [
    "# Analyse and run models using AffectNet dataset"
   ]
  },
  {
   "cell_type": "markdown",
   "metadata": {},
   "source": [
    "In this notebook we are going to build, test, analyze and compare the model with the previous versions. This is followed by improvements to the model and the data. We run this cycle a few times until we achieve realistic and nice results.\n",
    "\n",
    "This model has been build in [this](https://github.com/BB8-2020/EmpathicRobot/tree/main/models/classification_model) file. \n",
    "\n",
    "If you have any quesentions about this notebook, send us a mail at maria.dukmak@student.hu.nl"
   ]
  },
  {
   "cell_type": "code",
   "execution_count": 1,
   "metadata": {},
   "outputs": [],
   "source": [
    "import sys\n",
    "# You need to change this path to your project path\n",
    "sys.path.append('/Users/storm/OneDrive/Documenten/HU/Jaar_2/BB8/EmpathicRobot')\n",
    "from conv_model import *\n",
    "from models.functions import *\n",
    "from models.classification_model.model_functions import *\n",
    "from tensorflow.keras import Sequential"
   ]
  },
  {
   "cell_type": "markdown",
   "metadata": {},
   "source": [
    "## Read data\n",
    "As we have done before, our data is ready to use. In this section we will use **AffectNet** to train the model. This data has already been read, prepared and stored in [this](https://github.com/BB8-2020/EmpathicRobot/tree/main/data) file. For now, our data is in a pickel file that we will read as follows:\n",
    "\n",
    "For simplicity, we set up the path to the data as follows, you can also set it to your own path."
   ]
  },
  {
   "cell_type": "code",
   "execution_count": 2,
   "metadata": {},
   "outputs": [],
   "source": [
    "os.chdir(os.getcwd() + '/data/')"
   ]
  },
  {
   "cell_type": "markdown",
   "metadata": {},
   "source": [
    "We immediately split the data into train, test and validation set."
   ]
  },
  {
   "cell_type": "code",
   "execution_count": 3,
   "metadata": {},
   "outputs": [],
   "source": [
    "x_train, y_train, x_val, y_val, x_test, y_test = read_data('affectNet_processed')"
   ]
  },
  {
   "cell_type": "markdown",
   "metadata": {},
   "source": [
    "As we see, the data consists of train set that contains 80% of the data. The validation and the test set are equal in size 20% and are used to subsequently test the model.\n",
    "\n",
    "This data has already been cleaned and normalized so we don't have to do anything with the data anymore."
   ]
  },
  {
   "cell_type": "code",
   "execution_count": 4,
   "metadata": {},
   "outputs": [
    {
     "name": "stdout",
     "output_type": "stream",
     "text": [
      "Train set: X_train shape:(15313, 48, 48, 3) Y_train shape:(15313, 7)\n",
      "Test set: X_test shape:(1915, 48, 48, 3) Y_test shape:(1915, 7)\n",
      "Validation set: X_val shape:(1915, 48, 48, 3) Y_val shape:(1915, 7)\n"
     ]
    }
   ],
   "source": [
    "print(f\"Train set: X_train shape:{x_train.shape} Y_train shape:{y_train.shape}\")\n",
    "\n",
    "print(f\"Test set: X_test shape:{x_test.shape} Y_test shape:{y_test.shape}\")\n",
    "\n",
    "print(f\"Validation set: X_val shape:{x_val.shape} Y_val shape:{y_val.shape}\")"
   ]
  },
  {
   "cell_type": "markdown",
   "metadata": {},
   "source": [
    "## Models"
   ]
  },
  {
   "cell_type": "code",
   "execution_count": 5,
   "metadata": {},
   "outputs": [],
   "source": [
    "# We create all the models that we got \n",
    "models = build_models(input_shape=(48, 48, 3), num_classes=7)"
   ]
  },
  {
   "cell_type": "markdown",
   "metadata": {},
   "source": [
    "### Model version 1 "
   ]
  },
  {
   "cell_type": "markdown",
   "metadata": {},
   "source": [
    "Now it is finally time to start working on the model. We are going to start with the following model:"
   ]
  },
  {
   "cell_type": "code",
   "execution_count": 6,
   "metadata": {},
   "outputs": [],
   "source": [
    "model1 = Sequential(models[0]['layers'], name = models[0]['name'])"
   ]
  },
  {
   "cell_type": "markdown",
   "metadata": {},
   "source": [
    "Let's check the summary out:"
   ]
  },
  {
   "cell_type": "code",
   "execution_count": 7,
   "metadata": {},
   "outputs": [
    {
     "name": "stdout",
     "output_type": "stream",
     "text": [
      "Model: \"Sequential_version_1\"\n",
      "_________________________________________________________________\n",
      "Layer (type)                 Output Shape              Param #   \n",
      "=================================================================\n",
      "conv2d (Conv2D)              (None, 46, 46, 64)        1792      \n",
      "_________________________________________________________________\n",
      "batch_normalization (BatchNo (None, 46, 46, 64)        256       \n",
      "_________________________________________________________________\n",
      "dropout (Dropout)            (None, 46, 46, 64)        0         \n",
      "_________________________________________________________________\n",
      "conv2d_1 (Conv2D)            (None, 44, 44, 64)        36928     \n",
      "_________________________________________________________________\n",
      "max_pooling2d (MaxPooling2D) (None, 22, 22, 64)        0         \n",
      "_________________________________________________________________\n",
      "conv2d_2 (Conv2D)            (None, 20, 20, 128)       73856     \n",
      "_________________________________________________________________\n",
      "batch_normalization_1 (Batch (None, 20, 20, 128)       512       \n",
      "_________________________________________________________________\n",
      "conv2d_3 (Conv2D)            (None, 18, 18, 128)       147584    \n",
      "_________________________________________________________________\n",
      "max_pooling2d_1 (MaxPooling2 (None, 9, 9, 128)         0         \n",
      "_________________________________________________________________\n",
      "conv2d_4 (Conv2D)            (None, 7, 7, 256)         295168    \n",
      "_________________________________________________________________\n",
      "batch_normalization_2 (Batch (None, 7, 7, 256)         1024      \n",
      "_________________________________________________________________\n",
      "flatten (Flatten)            (None, 12544)             0         \n",
      "_________________________________________________________________\n",
      "dense (Dense)                (None, 1024)              12846080  \n",
      "_________________________________________________________________\n",
      "dropout_1 (Dropout)          (None, 1024)              0         \n",
      "_________________________________________________________________\n",
      "dense_1 (Dense)              (None, 1024)              1049600   \n",
      "_________________________________________________________________\n",
      "dropout_2 (Dropout)          (None, 1024)              0         \n",
      "_________________________________________________________________\n",
      "dense_2 (Dense)              (None, 7)                 7175      \n",
      "=================================================================\n",
      "Total params: 14,459,975\n",
      "Trainable params: 14,459,079\n",
      "Non-trainable params: 896\n",
      "_________________________________________________________________\n"
     ]
    }
   ],
   "source": [
    "model1.summary()"
   ]
  },
  {
   "cell_type": "markdown",
   "metadata": {},
   "source": [
    "Looks good, time to compile!"
   ]
  },
  {
   "cell_type": "markdown",
   "metadata": {},
   "source": [
    "### Compile and train"
   ]
  },
  {
   "cell_type": "markdown",
   "metadata": {},
   "source": [
    "To compile the model we use Adam optimaizer and binary crossentropy as los function. Let us now train the model."
   ]
  },
  {
   "cell_type": "code",
   "execution_count": 8,
   "metadata": {},
   "outputs": [],
   "source": [
    "compile_model(model1)"
   ]
  },
  {
   "cell_type": "code",
   "execution_count": 9,
   "metadata": {
    "scrolled": true
   },
   "outputs": [
    {
     "name": "stdout",
     "output_type": "stream",
     "text": [
      "Epoch 1/70\n",
      "239/239 - 10s - loss: 0.2937 - accuracy: 0.5478 - val_loss: 0.3123 - val_accuracy: 0.5640\n",
      "Epoch 2/70\n",
      "239/239 - 5s - loss: 0.2504 - accuracy: 0.6089 - val_loss: 0.2925 - val_accuracy: 0.5337\n",
      "Epoch 3/70\n",
      "239/239 - 5s - loss: 0.2349 - accuracy: 0.6340 - val_loss: 0.2424 - val_accuracy: 0.6052\n",
      "Epoch 4/70\n",
      "239/239 - 5s - loss: 0.2196 - accuracy: 0.6589 - val_loss: 0.2314 - val_accuracy: 0.6324\n",
      "Epoch 5/70\n",
      "239/239 - 5s - loss: 0.2050 - accuracy: 0.6856 - val_loss: 0.2352 - val_accuracy: 0.6313\n",
      "Epoch 6/70\n",
      "239/239 - 5s - loss: 0.1880 - accuracy: 0.7136 - val_loss: 0.2327 - val_accuracy: 0.6329\n",
      "Epoch 7/70\n",
      "239/239 - 5s - loss: 0.1703 - accuracy: 0.7460 - val_loss: 0.2360 - val_accuracy: 0.6501\n",
      "Epoch 8/70\n",
      "239/239 - 5s - loss: 0.1480 - accuracy: 0.7885 - val_loss: 0.2488 - val_accuracy: 0.6470\n",
      "Epoch 9/70\n",
      "239/239 - 4s - loss: 0.1220 - accuracy: 0.8340 - val_loss: 0.2565 - val_accuracy: 0.6407\n",
      "Epoch 10/70\n",
      "239/239 - 4s - loss: 0.0965 - accuracy: 0.8822 - val_loss: 0.2750 - val_accuracy: 0.6538\n",
      "Epoch 11/70\n",
      "239/239 - 4s - loss: 0.0724 - accuracy: 0.9187 - val_loss: 0.3078 - val_accuracy: 0.6496\n",
      "Epoch 12/70\n",
      "239/239 - 4s - loss: 0.0538 - accuracy: 0.9470 - val_loss: 0.3322 - val_accuracy: 0.6413\n",
      "Epoch 13/70\n",
      "239/239 - 5s - loss: 0.0386 - accuracy: 0.9662 - val_loss: 0.3667 - val_accuracy: 0.6402\n",
      "Epoch 14/70\n",
      "239/239 - 4s - loss: 0.0291 - accuracy: 0.9782 - val_loss: 0.4082 - val_accuracy: 0.6423\n",
      "Epoch 15/70\n",
      "239/239 - 5s - loss: 0.0243 - accuracy: 0.9830 - val_loss: 0.4038 - val_accuracy: 0.6418\n",
      "Epoch 16/70\n",
      "239/239 - 4s - loss: 0.0188 - accuracy: 0.9875 - val_loss: 0.4577 - val_accuracy: 0.6444\n",
      "Epoch 17/70\n",
      "239/239 - 5s - loss: 0.0157 - accuracy: 0.9905 - val_loss: 0.4644 - val_accuracy: 0.6433\n",
      "Epoch 18/70\n",
      "239/239 - 5s - loss: 0.0147 - accuracy: 0.9904 - val_loss: 0.4446 - val_accuracy: 0.6418\n",
      "Epoch 19/70\n",
      "239/239 - 4s - loss: 0.0121 - accuracy: 0.9925 - val_loss: 0.4856 - val_accuracy: 0.6475\n",
      "Epoch 20/70\n",
      "239/239 - 4s - loss: 0.0101 - accuracy: 0.9942 - val_loss: 0.4771 - val_accuracy: 0.6439\n",
      "Epoch 21/70\n",
      "239/239 - 5s - loss: 0.0092 - accuracy: 0.9949 - val_loss: 0.5125 - val_accuracy: 0.6559\n",
      "Epoch 22/70\n",
      "239/239 - 5s - loss: 0.0114 - accuracy: 0.9924 - val_loss: 0.5508 - val_accuracy: 0.6292\n",
      "Epoch 23/70\n",
      "239/239 - 5s - loss: 0.0128 - accuracy: 0.9910 - val_loss: 0.5358 - val_accuracy: 0.6444\n",
      "Epoch 24/70\n",
      "239/239 - 5s - loss: 0.0082 - accuracy: 0.9957 - val_loss: 0.5293 - val_accuracy: 0.6501\n",
      "Epoch 25/70\n",
      "239/239 - 5s - loss: 0.0082 - accuracy: 0.9953 - val_loss: 0.4874 - val_accuracy: 0.6512\n",
      "Epoch 26/70\n",
      "239/239 - 5s - loss: 0.0082 - accuracy: 0.9951 - val_loss: 0.5456 - val_accuracy: 0.6517\n",
      "Epoch 27/70\n",
      "239/239 - 5s - loss: 0.0080 - accuracy: 0.9955 - val_loss: 0.5863 - val_accuracy: 0.6475\n",
      "Epoch 28/70\n",
      "239/239 - 5s - loss: 0.0072 - accuracy: 0.9957 - val_loss: 0.5351 - val_accuracy: 0.6298\n",
      "Epoch 29/70\n",
      "239/239 - 5s - loss: 0.0068 - accuracy: 0.9959 - val_loss: 0.5850 - val_accuracy: 0.6329\n",
      "Epoch 30/70\n",
      "239/239 - 5s - loss: 0.0076 - accuracy: 0.9951 - val_loss: 0.5368 - val_accuracy: 0.6517\n",
      "Epoch 31/70\n",
      "239/239 - 5s - loss: 0.0063 - accuracy: 0.9959 - val_loss: 0.5346 - val_accuracy: 0.6460\n",
      "Epoch 32/70\n",
      "239/239 - 5s - loss: 0.0078 - accuracy: 0.9946 - val_loss: 0.5213 - val_accuracy: 0.6439\n",
      "Epoch 33/70\n",
      "239/239 - 5s - loss: 0.0072 - accuracy: 0.9950 - val_loss: 0.5798 - val_accuracy: 0.6454\n",
      "Epoch 34/70\n",
      "239/239 - 5s - loss: 0.0056 - accuracy: 0.9961 - val_loss: 0.5513 - val_accuracy: 0.6527\n",
      "Epoch 35/70\n",
      "239/239 - 5s - loss: 0.0047 - accuracy: 0.9971 - val_loss: 0.5641 - val_accuracy: 0.6507\n",
      "Epoch 36/70\n",
      "239/239 - 5s - loss: 0.0066 - accuracy: 0.9953 - val_loss: 0.5784 - val_accuracy: 0.6454\n",
      "Epoch 37/70\n",
      "239/239 - 5s - loss: 0.0070 - accuracy: 0.9946 - val_loss: 0.5768 - val_accuracy: 0.6465\n",
      "Epoch 38/70\n",
      "239/239 - 5s - loss: 0.0054 - accuracy: 0.9961 - val_loss: 0.6317 - val_accuracy: 0.6580\n",
      "Epoch 39/70\n",
      "239/239 - 5s - loss: 0.0036 - accuracy: 0.9976 - val_loss: 0.5896 - val_accuracy: 0.6470\n",
      "Epoch 40/70\n",
      "239/239 - 5s - loss: 0.0032 - accuracy: 0.9979 - val_loss: 0.6066 - val_accuracy: 0.6501\n",
      "Epoch 41/70\n",
      "239/239 - 5s - loss: 0.0064 - accuracy: 0.9958 - val_loss: 0.6183 - val_accuracy: 0.6470\n",
      "Epoch 42/70\n",
      "239/239 - 5s - loss: 0.0058 - accuracy: 0.9960 - val_loss: 0.5898 - val_accuracy: 0.6298\n",
      "Epoch 43/70\n",
      "239/239 - 5s - loss: 0.0055 - accuracy: 0.9956 - val_loss: 0.6066 - val_accuracy: 0.6439\n",
      "Epoch 44/70\n",
      "239/239 - 5s - loss: 0.0058 - accuracy: 0.9955 - val_loss: 0.5810 - val_accuracy: 0.6355\n",
      "Epoch 45/70\n",
      "239/239 - 5s - loss: 0.0032 - accuracy: 0.9978 - val_loss: 0.6146 - val_accuracy: 0.6428\n",
      "Epoch 46/70\n",
      "239/239 - 5s - loss: 0.0037 - accuracy: 0.9970 - val_loss: 0.6891 - val_accuracy: 0.6329\n",
      "Epoch 47/70\n",
      "239/239 - 4s - loss: 0.0036 - accuracy: 0.9977 - val_loss: 0.6802 - val_accuracy: 0.6449\n",
      "Epoch 48/70\n",
      "239/239 - 4s - loss: 0.0044 - accuracy: 0.9966 - val_loss: 0.6033 - val_accuracy: 0.6480\n",
      "Epoch 49/70\n",
      "239/239 - 5s - loss: 0.0039 - accuracy: 0.9974 - val_loss: 0.6224 - val_accuracy: 0.6407\n",
      "Epoch 50/70\n",
      "239/239 - 5s - loss: 0.0029 - accuracy: 0.9980 - val_loss: 0.6279 - val_accuracy: 0.6517\n",
      "Epoch 51/70\n",
      "239/239 - 5s - loss: 0.0021 - accuracy: 0.9986 - val_loss: 0.6999 - val_accuracy: 0.6345\n",
      "Epoch 52/70\n",
      "239/239 - 5s - loss: 0.0024 - accuracy: 0.9982 - val_loss: 0.6280 - val_accuracy: 0.6350\n",
      "Epoch 53/70\n",
      "239/239 - 5s - loss: 0.0048 - accuracy: 0.9967 - val_loss: 0.6070 - val_accuracy: 0.6214\n",
      "Epoch 54/70\n",
      "239/239 - 5s - loss: 0.0043 - accuracy: 0.9963 - val_loss: 0.6059 - val_accuracy: 0.6486\n",
      "Epoch 55/70\n",
      "239/239 - 5s - loss: 0.0057 - accuracy: 0.9951 - val_loss: 0.6569 - val_accuracy: 0.6386\n",
      "Epoch 56/70\n",
      "239/239 - 5s - loss: 0.0056 - accuracy: 0.9953 - val_loss: 0.6094 - val_accuracy: 0.6512\n",
      "Epoch 57/70\n",
      "239/239 - 5s - loss: 0.0027 - accuracy: 0.9976 - val_loss: 0.6190 - val_accuracy: 0.6517\n",
      "Epoch 58/70\n",
      "239/239 - 5s - loss: 0.0029 - accuracy: 0.9980 - val_loss: 0.6239 - val_accuracy: 0.6538\n",
      "Epoch 59/70\n",
      "239/239 - 5s - loss: 0.0023 - accuracy: 0.9982 - val_loss: 0.6470 - val_accuracy: 0.6538\n",
      "Epoch 60/70\n",
      "239/239 - 5s - loss: 0.0020 - accuracy: 0.9986 - val_loss: 0.6902 - val_accuracy: 0.6517\n",
      "Epoch 61/70\n",
      "239/239 - 5s - loss: 0.0043 - accuracy: 0.9963 - val_loss: 0.6555 - val_accuracy: 0.6538\n",
      "Epoch 62/70\n",
      "239/239 - 5s - loss: 0.0047 - accuracy: 0.9961 - val_loss: 0.6323 - val_accuracy: 0.6418\n",
      "Epoch 63/70\n",
      "239/239 - 5s - loss: 0.0042 - accuracy: 0.9965 - val_loss: 0.5586 - val_accuracy: 0.6428\n",
      "Epoch 64/70\n",
      "239/239 - 5s - loss: 0.0034 - accuracy: 0.9966 - val_loss: 0.7747 - val_accuracy: 0.6491\n",
      "Epoch 65/70\n",
      "239/239 - 5s - loss: 0.0041 - accuracy: 0.9965 - val_loss: 0.6242 - val_accuracy: 0.6454\n",
      "Epoch 66/70\n",
      "239/239 - 5s - loss: 0.0020 - accuracy: 0.9984 - val_loss: 0.6631 - val_accuracy: 0.6548\n",
      "Epoch 67/70\n",
      "239/239 - 5s - loss: 0.0027 - accuracy: 0.9980 - val_loss: 0.6373 - val_accuracy: 0.6345\n",
      "Epoch 68/70\n",
      "239/239 - 5s - loss: 0.0029 - accuracy: 0.9974 - val_loss: 0.6903 - val_accuracy: 0.6386\n",
      "Epoch 69/70\n",
      "239/239 - 5s - loss: 0.0024 - accuracy: 0.9978 - val_loss: 0.8107 - val_accuracy: 0.6350\n",
      "Epoch 70/70\n",
      "239/239 - 5s - loss: 0.0029 - accuracy: 0.9971 - val_loss: 0.7112 - val_accuracy: 0.6386\n"
     ]
    }
   ],
   "source": [
    "history = fit_model(model1, 64, 70, False, x_train, y_train, x_val, y_val, x_test)"
   ]
  },
  {
   "cell_type": "markdown",
   "metadata": {},
   "source": [
    "Now we're going to test our model using the test set for the model."
   ]
  },
  {
   "cell_type": "code",
   "execution_count": 10,
   "metadata": {},
   "outputs": [
    {
     "name": "stdout",
     "output_type": "stream",
     "text": [
      "30/30 [==============================] - 0s 6ms/step - loss: 0.7131 - accuracy: 0.6428\n"
     ]
    }
   ],
   "source": [
    "test_loss, test_acc = evaluate_model(model1, x_test, y_test,  64)"
   ]
  },
  {
   "cell_type": "code",
   "execution_count": 11,
   "metadata": {},
   "outputs": [
    {
     "name": "stdout",
     "output_type": "stream",
     "text": [
      "Test loss: 0.7131\n",
      "Test accuracy: 0.6428\n"
     ]
    }
   ],
   "source": [
    "print(f\"Test loss: {test_loss:.4f}\")\n",
    "print(f\"Test accuracy: {test_acc:.4f}\")"
   ]
  },
  {
   "cell_type": "code",
   "execution_count": 12,
   "metadata": {},
   "outputs": [
    {
     "data": {
      "image/png": "[encoded data removed]",
      "text/plain": [
       "<Figure size 432x288 with 1 Axes>"
      ]
     },
     "metadata": {
      "needs_background": "light"
     },
     "output_type": "display_data"
    },
    {
     "data": {
      "image/png": "[encoded data removed]",
      "text/plain": [
       "<Figure size 432x288 with 1 Axes>"
      ]
     },
     "metadata": {
      "needs_background": "light"
     },
     "output_type": "display_data"
    }
   ],
   "source": [
    "plot_acc_loss(history)"
   ]
  },
  {
   "cell_type": "markdown",
   "metadata": {},
   "source": [
    "We see that this model is very overfitted. We will now try to train another model that may be less overfitted."
   ]
  },
  {
   "cell_type": "markdown",
   "metadata": {},
   "source": [
    "### Model version 2"
   ]
  },
  {
   "cell_type": "markdown",
   "metadata": {},
   "source": [
    "Now we are going the same as above. So we are going to creat the model, complie it and fit it."
   ]
  },
  {
   "cell_type": "code",
   "execution_count": 13,
   "metadata": {},
   "outputs": [],
   "source": [
    "model2 = Sequential(models[1]['layers'], name = models[1]['name'])"
   ]
  },
  {
   "cell_type": "code",
   "execution_count": 14,
   "metadata": {},
   "outputs": [
    {
     "name": "stdout",
     "output_type": "stream",
     "text": [
      "Model: \"Sequential_version_2\"\n",
      "_________________________________________________________________\n",
      "Layer (type)                 Output Shape              Param #   \n",
      "=================================================================\n",
      "conv2d_5 (Conv2D)            (None, 46, 46, 64)        1792      \n",
      "_________________________________________________________________\n",
      "batch_normalization_3 (Batch (None, 46, 46, 64)        256       \n",
      "_________________________________________________________________\n",
      "conv2d_6 (Conv2D)            (None, 44, 44, 64)        36928     \n",
      "_________________________________________________________________\n",
      "batch_normalization_4 (Batch (None, 44, 44, 64)        256       \n",
      "_________________________________________________________________\n",
      "dropout_3 (Dropout)          (None, 44, 44, 64)        0         \n",
      "_________________________________________________________________\n",
      "conv2d_7 (Conv2D)            (None, 42, 42, 64)        36928     \n",
      "_________________________________________________________________\n",
      "conv2d_8 (Conv2D)            (None, 40, 40, 64)        36928     \n",
      "_________________________________________________________________\n",
      "max_pooling2d_2 (MaxPooling2 (None, 20, 20, 64)        0         \n",
      "_________________________________________________________________\n",
      "conv2d_9 (Conv2D)            (None, 18, 18, 128)       73856     \n",
      "_________________________________________________________________\n",
      "batch_normalization_5 (Batch (None, 18, 18, 128)       512       \n",
      "_________________________________________________________________\n",
      "conv2d_10 (Conv2D)           (None, 16, 16, 128)       147584    \n",
      "_________________________________________________________________\n",
      "batch_normalization_6 (Batch (None, 16, 16, 128)       512       \n",
      "_________________________________________________________________\n",
      "conv2d_11 (Conv2D)           (None, 14, 14, 128)       147584    \n",
      "_________________________________________________________________\n",
      "conv2d_12 (Conv2D)           (None, 12, 12, 128)       147584    \n",
      "_________________________________________________________________\n",
      "max_pooling2d_3 (MaxPooling2 (None, 6, 6, 128)         0         \n",
      "_________________________________________________________________\n",
      "conv2d_13 (Conv2D)           (None, 4, 4, 256)         295168    \n",
      "_________________________________________________________________\n",
      "batch_normalization_7 (Batch (None, 4, 4, 256)         1024      \n",
      "_________________________________________________________________\n",
      "conv2d_14 (Conv2D)           (None, 2, 2, 256)         590080    \n",
      "_________________________________________________________________\n",
      "batch_normalization_8 (Batch (None, 2, 2, 256)         1024      \n",
      "_________________________________________________________________\n",
      "flatten_1 (Flatten)          (None, 1024)              0         \n",
      "_________________________________________________________________\n",
      "dense_3 (Dense)              (None, 1024)              1049600   \n",
      "_________________________________________________________________\n",
      "dropout_4 (Dropout)          (None, 1024)              0         \n",
      "_________________________________________________________________\n",
      "dense_4 (Dense)              (None, 1024)              1049600   \n",
      "_________________________________________________________________\n",
      "dropout_5 (Dropout)          (None, 1024)              0         \n",
      "_________________________________________________________________\n",
      "dense_5 (Dense)              (None, 7)                 7175      \n",
      "=================================================================\n",
      "Total params: 3,624,391\n",
      "Trainable params: 3,622,599\n",
      "Non-trainable params: 1,792\n",
      "_________________________________________________________________\n"
     ]
    }
   ],
   "source": [
    "model2.summary()"
   ]
  },
  {
   "cell_type": "markdown",
   "metadata": {},
   "source": [
    "Perfect! Lets compile "
   ]
  },
  {
   "cell_type": "markdown",
   "metadata": {},
   "source": [
    "### Compile and train"
   ]
  },
  {
   "cell_type": "code",
   "execution_count": 15,
   "metadata": {},
   "outputs": [],
   "source": [
    "compile_model(model2)"
   ]
  },
  {
   "cell_type": "code",
   "execution_count": 16,
   "metadata": {},
   "outputs": [
    {
     "name": "stdout",
     "output_type": "stream",
     "text": [
      "Epoch 1/70\n",
      "239/239 - 9s - loss: 0.3131 - accuracy: 0.5096 - val_loss: 0.3790 - val_accuracy: 0.2580\n",
      "Epoch 2/70\n",
      "239/239 - 8s - loss: 0.2642 - accuracy: 0.5878 - val_loss: 0.3335 - val_accuracy: 0.4021\n",
      "Epoch 3/70\n",
      "239/239 - 7s - loss: 0.2452 - accuracy: 0.6151 - val_loss: 0.2467 - val_accuracy: 0.6110\n",
      "Epoch 4/70\n",
      "239/239 - 7s - loss: 0.2332 - accuracy: 0.6360 - val_loss: 0.2406 - val_accuracy: 0.6193\n",
      "Epoch 5/70\n",
      "239/239 - 7s - loss: 0.2222 - accuracy: 0.6552 - val_loss: 0.2343 - val_accuracy: 0.6392\n",
      "Epoch 6/70\n",
      "239/239 - 7s - loss: 0.2132 - accuracy: 0.6718 - val_loss: 0.2336 - val_accuracy: 0.6386\n",
      "Epoch 7/70\n",
      "239/239 - 6s - loss: 0.2051 - accuracy: 0.6825 - val_loss: 0.2304 - val_accuracy: 0.6480\n",
      "Epoch 8/70\n",
      "239/239 - 6s - loss: 0.1940 - accuracy: 0.6997 - val_loss: 0.2287 - val_accuracy: 0.6595\n",
      "Epoch 9/70\n",
      "239/239 - 7s - loss: 0.1836 - accuracy: 0.7208 - val_loss: 0.2371 - val_accuracy: 0.6548\n",
      "Epoch 10/70\n",
      "239/239 - 7s - loss: 0.1725 - accuracy: 0.7394 - val_loss: 0.2392 - val_accuracy: 0.6496\n",
      "Epoch 11/70\n",
      "239/239 - 7s - loss: 0.1592 - accuracy: 0.7627 - val_loss: 0.2433 - val_accuracy: 0.6454\n",
      "Epoch 12/70\n",
      "239/239 - 6s - loss: 0.1440 - accuracy: 0.7865 - val_loss: 0.2555 - val_accuracy: 0.6679\n",
      "Epoch 13/70\n",
      "239/239 - 7s - loss: 0.1289 - accuracy: 0.8161 - val_loss: 0.2755 - val_accuracy: 0.6512\n",
      "Epoch 14/70\n",
      "239/239 - 7s - loss: 0.1125 - accuracy: 0.8450 - val_loss: 0.3037 - val_accuracy: 0.6428\n",
      "Epoch 15/70\n",
      "239/239 - 7s - loss: 0.0961 - accuracy: 0.8726 - val_loss: 0.2981 - val_accuracy: 0.6360\n",
      "Epoch 16/70\n",
      "239/239 - 7s - loss: 0.0807 - accuracy: 0.8945 - val_loss: 0.3281 - val_accuracy: 0.6381\n",
      "Epoch 17/70\n",
      "239/239 - 7s - loss: 0.0628 - accuracy: 0.9260 - val_loss: 0.3435 - val_accuracy: 0.6402\n",
      "Epoch 18/70\n",
      "239/239 - 7s - loss: 0.0518 - accuracy: 0.9393 - val_loss: 0.4190 - val_accuracy: 0.6334\n",
      "Epoch 19/70\n",
      "239/239 - 6s - loss: 0.0404 - accuracy: 0.9574 - val_loss: 0.4300 - val_accuracy: 0.6501\n",
      "Epoch 20/70\n",
      "239/239 - 7s - loss: 0.0400 - accuracy: 0.9571 - val_loss: 0.4038 - val_accuracy: 0.6407\n",
      "Epoch 21/70\n",
      "239/239 - 7s - loss: 0.0279 - accuracy: 0.9743 - val_loss: 0.4863 - val_accuracy: 0.6381\n",
      "Epoch 22/70\n",
      "239/239 - 7s - loss: 0.0234 - accuracy: 0.9778 - val_loss: 0.4773 - val_accuracy: 0.6433\n",
      "Epoch 23/70\n",
      "239/239 - 7s - loss: 0.0240 - accuracy: 0.9774 - val_loss: 0.4915 - val_accuracy: 0.6204\n",
      "Epoch 24/70\n",
      "239/239 - 7s - loss: 0.0214 - accuracy: 0.9804 - val_loss: 0.5312 - val_accuracy: 0.6235\n",
      "Epoch 25/70\n",
      "239/239 - 7s - loss: 0.0189 - accuracy: 0.9826 - val_loss: 0.4810 - val_accuracy: 0.6308\n",
      "Epoch 26/70\n",
      "239/239 - 7s - loss: 0.0153 - accuracy: 0.9867 - val_loss: 0.5464 - val_accuracy: 0.6376\n",
      "Epoch 27/70\n",
      "239/239 - 7s - loss: 0.0188 - accuracy: 0.9819 - val_loss: 0.4941 - val_accuracy: 0.6292\n",
      "Epoch 28/70\n",
      "239/239 - 7s - loss: 0.0122 - accuracy: 0.9902 - val_loss: 0.5438 - val_accuracy: 0.6303\n",
      "Epoch 29/70\n",
      "239/239 - 7s - loss: 0.0172 - accuracy: 0.9815 - val_loss: 0.5462 - val_accuracy: 0.6371\n",
      "Epoch 30/70\n",
      "239/239 - 7s - loss: 0.0166 - accuracy: 0.9849 - val_loss: 0.5283 - val_accuracy: 0.6345\n",
      "Epoch 31/70\n",
      "239/239 - 7s - loss: 0.0114 - accuracy: 0.9894 - val_loss: 0.5535 - val_accuracy: 0.6303\n",
      "Epoch 32/70\n",
      "239/239 - 7s - loss: 0.0137 - accuracy: 0.9870 - val_loss: 0.5294 - val_accuracy: 0.6292\n",
      "Epoch 33/70\n",
      "239/239 - 7s - loss: 0.0106 - accuracy: 0.9911 - val_loss: 0.5649 - val_accuracy: 0.6376\n",
      "Epoch 34/70\n",
      "239/239 - 7s - loss: 0.0083 - accuracy: 0.9927 - val_loss: 0.5854 - val_accuracy: 0.6564\n",
      "Epoch 35/70\n",
      "239/239 - 7s - loss: 0.0114 - accuracy: 0.9894 - val_loss: 0.5619 - val_accuracy: 0.6517\n",
      "Epoch 36/70\n",
      "239/239 - 7s - loss: 0.0130 - accuracy: 0.9865 - val_loss: 0.5656 - val_accuracy: 0.6574\n",
      "Epoch 37/70\n",
      "239/239 - 7s - loss: 0.0158 - accuracy: 0.9829 - val_loss: 0.5682 - val_accuracy: 0.6402\n",
      "Epoch 38/70\n",
      "239/239 - 7s - loss: 0.0072 - accuracy: 0.9936 - val_loss: 0.5915 - val_accuracy: 0.6392\n",
      "Epoch 39/70\n",
      "239/239 - 6s - loss: 0.0067 - accuracy: 0.9945 - val_loss: 0.6417 - val_accuracy: 0.6486\n",
      "Epoch 40/70\n",
      "239/239 - 7s - loss: 0.0077 - accuracy: 0.9920 - val_loss: 0.6274 - val_accuracy: 0.6371\n",
      "Epoch 41/70\n",
      "239/239 - 6s - loss: 0.0135 - accuracy: 0.9849 - val_loss: 0.6123 - val_accuracy: 0.6386\n",
      "Epoch 42/70\n",
      "239/239 - 7s - loss: 0.0153 - accuracy: 0.9827 - val_loss: 0.5854 - val_accuracy: 0.6198\n",
      "Epoch 43/70\n",
      "239/239 - 7s - loss: 0.0091 - accuracy: 0.9904 - val_loss: 0.6248 - val_accuracy: 0.6538\n",
      "Epoch 44/70\n",
      "239/239 - 7s - loss: 0.0102 - accuracy: 0.9897 - val_loss: 0.5626 - val_accuracy: 0.6418\n",
      "Epoch 45/70\n",
      "239/239 - 7s - loss: 0.0094 - accuracy: 0.9908 - val_loss: 0.5562 - val_accuracy: 0.6439\n",
      "Epoch 46/70\n",
      "239/239 - 7s - loss: 0.0077 - accuracy: 0.9915 - val_loss: 0.6202 - val_accuracy: 0.6282\n",
      "Epoch 47/70\n",
      "239/239 - 7s - loss: 0.0067 - accuracy: 0.9929 - val_loss: 0.6198 - val_accuracy: 0.6433\n",
      "Epoch 48/70\n",
      "239/239 - 7s - loss: 0.0052 - accuracy: 0.9951 - val_loss: 0.6770 - val_accuracy: 0.6392\n",
      "Epoch 49/70\n",
      "239/239 - 6s - loss: 0.0085 - accuracy: 0.9911 - val_loss: 0.6289 - val_accuracy: 0.6355\n",
      "Epoch 50/70\n",
      "239/239 - 7s - loss: 0.0074 - accuracy: 0.9927 - val_loss: 0.6440 - val_accuracy: 0.6282\n",
      "Epoch 51/70\n",
      "239/239 - 7s - loss: 0.0099 - accuracy: 0.9905 - val_loss: 0.7105 - val_accuracy: 0.6444\n",
      "Epoch 52/70\n",
      "239/239 - 7s - loss: 0.0103 - accuracy: 0.9888 - val_loss: 0.5932 - val_accuracy: 0.6298\n",
      "Epoch 53/70\n",
      "239/239 - 7s - loss: 0.0111 - accuracy: 0.9878 - val_loss: 0.5846 - val_accuracy: 0.6324\n",
      "Epoch 54/70\n",
      "239/239 - 7s - loss: 0.0051 - accuracy: 0.9949 - val_loss: 0.6392 - val_accuracy: 0.6454\n",
      "Epoch 55/70\n",
      "239/239 - 7s - loss: 0.0074 - accuracy: 0.9927 - val_loss: 0.6241 - val_accuracy: 0.6402\n",
      "Epoch 56/70\n",
      "239/239 - 7s - loss: 0.0060 - accuracy: 0.9946 - val_loss: 0.6065 - val_accuracy: 0.6454\n",
      "Epoch 57/70\n",
      "239/239 - 7s - loss: 0.0050 - accuracy: 0.9947 - val_loss: 0.6604 - val_accuracy: 0.6480\n",
      "Epoch 58/70\n",
      "239/239 - 7s - loss: 0.0075 - accuracy: 0.9923 - val_loss: 0.6067 - val_accuracy: 0.6272\n",
      "Epoch 59/70\n",
      "239/239 - 7s - loss: 0.0106 - accuracy: 0.9893 - val_loss: 0.6300 - val_accuracy: 0.6319\n",
      "Epoch 60/70\n",
      "239/239 - 7s - loss: 0.0110 - accuracy: 0.9878 - val_loss: 0.5874 - val_accuracy: 0.6381\n",
      "Epoch 61/70\n",
      "239/239 - 7s - loss: 0.0056 - accuracy: 0.9942 - val_loss: 0.5902 - val_accuracy: 0.6449\n",
      "Epoch 62/70\n",
      "239/239 - 7s - loss: 0.0058 - accuracy: 0.9938 - val_loss: 0.6134 - val_accuracy: 0.6507\n",
      "Epoch 63/70\n",
      "239/239 - 7s - loss: 0.0049 - accuracy: 0.9946 - val_loss: 0.6079 - val_accuracy: 0.6303\n",
      "Epoch 64/70\n",
      "239/239 - 7s - loss: 0.0071 - accuracy: 0.9922 - val_loss: 0.6161 - val_accuracy: 0.6418\n",
      "Epoch 65/70\n",
      "239/239 - 7s - loss: 0.0080 - accuracy: 0.9911 - val_loss: 0.6263 - val_accuracy: 0.6334\n",
      "Epoch 66/70\n",
      "239/239 - 7s - loss: 0.0078 - accuracy: 0.9917 - val_loss: 0.6417 - val_accuracy: 0.6512\n",
      "Epoch 67/70\n",
      "239/239 - 7s - loss: 0.0059 - accuracy: 0.9935 - val_loss: 0.6450 - val_accuracy: 0.6407\n",
      "Epoch 68/70\n",
      "239/239 - 7s - loss: 0.0063 - accuracy: 0.9942 - val_loss: 0.6545 - val_accuracy: 0.6381\n",
      "Epoch 69/70\n",
      "239/239 - 7s - loss: 0.0052 - accuracy: 0.9950 - val_loss: 0.7033 - val_accuracy: 0.6470\n",
      "Epoch 70/70\n",
      "239/239 - 7s - loss: 0.0065 - accuracy: 0.9929 - val_loss: 0.7018 - val_accuracy: 0.6569\n"
     ]
    }
   ],
   "source": [
    "# to do: set epoches to 100\n",
    "history = fit_model(model2, 64, 70, False, x_train, y_train, x_val, y_val, x_test)"
   ]
  },
  {
   "cell_type": "markdown",
   "metadata": {},
   "source": [
    "Now we're going to test our model using the test set for the model."
   ]
  },
  {
   "cell_type": "code",
   "execution_count": 17,
   "metadata": {},
   "outputs": [
    {
     "name": "stdout",
     "output_type": "stream",
     "text": [
      "30/30 [==============================] - 0s 9ms/step - loss: 0.6940 - accuracy: 0.6433\n"
     ]
    }
   ],
   "source": [
    "test_loss, test_acc = evaluate_model(model2, x_test, y_test,  64)"
   ]
  },
  {
   "cell_type": "code",
   "execution_count": 18,
   "metadata": {},
   "outputs": [
    {
     "name": "stdout",
     "output_type": "stream",
     "text": [
      "Test loss: 0.6940\n",
      "Test accuracy: 0.6433\n"
     ]
    }
   ],
   "source": [
    "print(f\"Test loss: {test_loss:.4f}\")\n",
    "print(f\"Test accuracy: {test_acc:.4f}\")"
   ]
  },
  {
   "cell_type": "code",
   "execution_count": 19,
   "metadata": {},
   "outputs": [
    {
     "data": {
      "image/png": "[encoded data removed]",
      "text/plain": [
       "<Figure size 432x288 with 1 Axes>"
      ]
     },
     "metadata": {
      "needs_background": "light"
     },
     "output_type": "display_data"
    },
    {
     "data": {
      "image/png": "[encoded data removed]",
      "text/plain": [
       "<Figure size 432x288 with 1 Axes>"
      ]
     },
     "metadata": {
      "needs_background": "light"
     },
     "output_type": "display_data"
    }
   ],
   "source": [
    "plot_acc_loss(history)"
   ]
  },
  {
   "cell_type": "markdown",
   "metadata": {},
   "source": [
    "As we saw above, the results are not too great. Next we are going to try to add some argumentation to the data. That could help our model to leren more. You can find the file where the data has been argumendated right [here](https://github.com/BB8-2020/EmpathicRobot/tree/main/data)."
   ]
  },
  {
   "cell_type": "markdown",
   "metadata": {},
   "source": [
    "## Argumet data"
   ]
  },
  {
   "cell_type": "markdown",
   "metadata": {},
   "source": [
    "We split the data again"
   ]
  },
  {
   "cell_type": "code",
   "execution_count": 20,
   "metadata": {},
   "outputs": [],
   "source": [
    "datagen, x_train_arg, y_train_arg, x_val_arg, y_val_arg, x_test_arg, y_test_arg = read_data('affectNet_augment', True)"
   ]
  },
  {
   "cell_type": "markdown",
   "metadata": {},
   "source": [
    "Now we are going to just fit the model using this data."
   ]
  },
  {
   "cell_type": "code",
   "execution_count": 21,
   "metadata": {},
   "outputs": [
    {
     "name": "stdout",
     "output_type": "stream",
     "text": [
      "Epoch 1/100\n",
      "239/239 - 9s - loss: 0.2941 - accuracy: 0.5899 - val_loss: 0.2156 - val_accuracy: 0.6606\n",
      "Epoch 2/100\n",
      "239/239 - 8s - loss: 0.2365 - accuracy: 0.6382 - val_loss: 0.2139 - val_accuracy: 0.6825\n",
      "Epoch 3/100\n",
      "239/239 - 8s - loss: 0.2293 - accuracy: 0.6463 - val_loss: 0.2006 - val_accuracy: 0.6872\n",
      "Epoch 4/100\n",
      "239/239 - 8s - loss: 0.2220 - accuracy: 0.6570 - val_loss: 0.1996 - val_accuracy: 0.6930\n",
      "Epoch 5/100\n",
      "239/239 - 8s - loss: 0.2181 - accuracy: 0.6628 - val_loss: 0.1965 - val_accuracy: 0.6956\n",
      "Epoch 6/100\n",
      "239/239 - 8s - loss: 0.2156 - accuracy: 0.6660 - val_loss: 0.1941 - val_accuracy: 0.6945\n",
      "Epoch 7/100\n",
      "239/239 - 8s - loss: 0.2112 - accuracy: 0.6734 - val_loss: 0.1955 - val_accuracy: 0.7044\n",
      "Epoch 8/100\n",
      "239/239 - 8s - loss: 0.2070 - accuracy: 0.6846 - val_loss: 0.1908 - val_accuracy: 0.7044\n",
      "Epoch 9/100\n",
      "239/239 - 8s - loss: 0.2059 - accuracy: 0.6830 - val_loss: 0.1905 - val_accuracy: 0.7112\n",
      "Epoch 10/100\n",
      "239/239 - 8s - loss: 0.2046 - accuracy: 0.6865 - val_loss: 0.1943 - val_accuracy: 0.6940\n",
      "Epoch 11/100\n",
      "239/239 - 8s - loss: 0.2021 - accuracy: 0.6907 - val_loss: 0.1859 - val_accuracy: 0.7107\n",
      "Epoch 12/100\n",
      "239/239 - 8s - loss: 0.1993 - accuracy: 0.6979 - val_loss: 0.1856 - val_accuracy: 0.7154\n",
      "Epoch 13/100\n",
      "239/239 - 8s - loss: 0.1984 - accuracy: 0.6938 - val_loss: 0.1869 - val_accuracy: 0.7102\n",
      "Epoch 14/100\n",
      "239/239 - 8s - loss: 0.1964 - accuracy: 0.6983 - val_loss: 0.1900 - val_accuracy: 0.7211\n",
      "Epoch 15/100\n",
      "239/239 - 8s - loss: 0.1955 - accuracy: 0.7008 - val_loss: 0.1931 - val_accuracy: 0.7123\n",
      "Epoch 16/100\n",
      "239/239 - 8s - loss: 0.1920 - accuracy: 0.7045 - val_loss: 0.1926 - val_accuracy: 0.7023\n",
      "Epoch 17/100\n",
      "239/239 - 8s - loss: 0.1908 - accuracy: 0.7102 - val_loss: 0.1853 - val_accuracy: 0.7117\n",
      "Epoch 18/100\n",
      "239/239 - 8s - loss: 0.1871 - accuracy: 0.7104 - val_loss: 0.1939 - val_accuracy: 0.7008\n",
      "Epoch 19/100\n",
      "239/239 - 8s - loss: 0.1876 - accuracy: 0.7134 - val_loss: 0.1851 - val_accuracy: 0.7175\n",
      "Epoch 20/100\n",
      "239/239 - 8s - loss: 0.1863 - accuracy: 0.7165 - val_loss: 0.1905 - val_accuracy: 0.7123\n",
      "Epoch 21/100\n",
      "239/239 - 8s - loss: 0.1849 - accuracy: 0.7172 - val_loss: 0.1904 - val_accuracy: 0.6992\n",
      "Epoch 22/100\n",
      "239/239 - 8s - loss: 0.1823 - accuracy: 0.7229 - val_loss: 0.1863 - val_accuracy: 0.7180\n",
      "Epoch 23/100\n",
      "239/239 - 8s - loss: 0.1816 - accuracy: 0.7242 - val_loss: 0.1840 - val_accuracy: 0.7149\n",
      "Epoch 24/100\n",
      "239/239 - 8s - loss: 0.1808 - accuracy: 0.7250 - val_loss: 0.1846 - val_accuracy: 0.7248\n",
      "Epoch 25/100\n",
      "239/239 - 8s - loss: 0.1807 - accuracy: 0.7275 - val_loss: 0.1860 - val_accuracy: 0.7211\n",
      "Epoch 26/100\n",
      "239/239 - 8s - loss: 0.1794 - accuracy: 0.7273 - val_loss: 0.1825 - val_accuracy: 0.7185\n",
      "Epoch 27/100\n",
      "239/239 - 8s - loss: 0.1767 - accuracy: 0.7295 - val_loss: 0.1823 - val_accuracy: 0.7159\n",
      "Epoch 28/100\n",
      "239/239 - 8s - loss: 0.1745 - accuracy: 0.7344 - val_loss: 0.1803 - val_accuracy: 0.7238\n",
      "Epoch 29/100\n",
      "239/239 - 8s - loss: 0.1760 - accuracy: 0.7352 - val_loss: 0.1866 - val_accuracy: 0.7144\n",
      "Epoch 30/100\n",
      "239/239 - 8s - loss: 0.1728 - accuracy: 0.7353 - val_loss: 0.1870 - val_accuracy: 0.7253\n",
      "Epoch 31/100\n",
      "239/239 - 8s - loss: 0.1723 - accuracy: 0.7364 - val_loss: 0.1841 - val_accuracy: 0.7102\n",
      "Epoch 32/100\n",
      "239/239 - 8s - loss: 0.1714 - accuracy: 0.7409 - val_loss: 0.1866 - val_accuracy: 0.7164\n",
      "Epoch 33/100\n",
      "239/239 - 8s - loss: 0.1698 - accuracy: 0.7439 - val_loss: 0.1850 - val_accuracy: 0.7211\n",
      "Epoch 34/100\n",
      "239/239 - 8s - loss: 0.1690 - accuracy: 0.7440 - val_loss: 0.1878 - val_accuracy: 0.7154\n",
      "Epoch 35/100\n",
      "239/239 - 8s - loss: 0.1678 - accuracy: 0.7473 - val_loss: 0.1848 - val_accuracy: 0.7232\n",
      "Epoch 36/100\n",
      "239/239 - 8s - loss: 0.1676 - accuracy: 0.7482 - val_loss: 0.1808 - val_accuracy: 0.7347\n",
      "Epoch 37/100\n",
      "239/239 - 8s - loss: 0.1668 - accuracy: 0.7490 - val_loss: 0.1867 - val_accuracy: 0.7222\n",
      "Epoch 38/100\n",
      "239/239 - 8s - loss: 0.1640 - accuracy: 0.7513 - val_loss: 0.1836 - val_accuracy: 0.7238\n",
      "Epoch 39/100\n",
      "239/239 - 8s - loss: 0.1640 - accuracy: 0.7537 - val_loss: 0.1849 - val_accuracy: 0.7206\n",
      "Epoch 40/100\n",
      "239/239 - 9s - loss: 0.1623 - accuracy: 0.7538 - val_loss: 0.1856 - val_accuracy: 0.7091\n",
      "Epoch 41/100\n",
      "239/239 - 9s - loss: 0.1594 - accuracy: 0.7581 - val_loss: 0.1846 - val_accuracy: 0.7185\n",
      "Epoch 42/100\n",
      "239/239 - 8s - loss: 0.1598 - accuracy: 0.7592 - val_loss: 0.1890 - val_accuracy: 0.7232\n",
      "Epoch 43/100\n",
      "239/239 - 8s - loss: 0.1593 - accuracy: 0.7595 - val_loss: 0.2038 - val_accuracy: 0.6987\n",
      "Epoch 44/100\n",
      "239/239 - 8s - loss: 0.1588 - accuracy: 0.7612 - val_loss: 0.1918 - val_accuracy: 0.7332\n",
      "Epoch 45/100\n",
      "239/239 - 8s - loss: 0.1559 - accuracy: 0.7670 - val_loss: 0.1931 - val_accuracy: 0.7185\n",
      "Epoch 46/100\n",
      "239/239 - 8s - loss: 0.1549 - accuracy: 0.7690 - val_loss: 0.1958 - val_accuracy: 0.7055\n",
      "Epoch 47/100\n",
      "239/239 - 8s - loss: 0.1541 - accuracy: 0.7694 - val_loss: 0.1958 - val_accuracy: 0.7117\n",
      "Epoch 48/100\n",
      "239/239 - 8s - loss: 0.1519 - accuracy: 0.7703 - val_loss: 0.1969 - val_accuracy: 0.7034\n",
      "Epoch 49/100\n",
      "239/239 - 8s - loss: 0.1513 - accuracy: 0.7741 - val_loss: 0.1950 - val_accuracy: 0.7008\n",
      "Epoch 50/100\n",
      "239/239 - 8s - loss: 0.1498 - accuracy: 0.7772 - val_loss: 0.1923 - val_accuracy: 0.7211\n",
      "Epoch 51/100\n",
      "239/239 - 8s - loss: 0.1502 - accuracy: 0.7745 - val_loss: 0.1985 - val_accuracy: 0.7248\n",
      "Epoch 52/100\n",
      "239/239 - 8s - loss: 0.1485 - accuracy: 0.7785 - val_loss: 0.1976 - val_accuracy: 0.7081\n",
      "Epoch 53/100\n",
      "239/239 - 8s - loss: 0.1476 - accuracy: 0.7776 - val_loss: 0.1939 - val_accuracy: 0.7154\n",
      "Epoch 54/100\n",
      "239/239 - 8s - loss: 0.1465 - accuracy: 0.7815 - val_loss: 0.1928 - val_accuracy: 0.7238\n",
      "Epoch 55/100\n",
      "239/239 - 8s - loss: 0.1441 - accuracy: 0.7839 - val_loss: 0.1956 - val_accuracy: 0.7112\n",
      "Epoch 56/100\n",
      "239/239 - 8s - loss: 0.1451 - accuracy: 0.7846 - val_loss: 0.2011 - val_accuracy: 0.6977\n",
      "Epoch 57/100\n",
      "239/239 - 8s - loss: 0.1429 - accuracy: 0.7883 - val_loss: 0.2028 - val_accuracy: 0.7081\n",
      "Epoch 58/100\n",
      "239/239 - 8s - loss: 0.1409 - accuracy: 0.7868 - val_loss: 0.2034 - val_accuracy: 0.7201\n",
      "Epoch 59/100\n",
      "239/239 - 8s - loss: 0.1426 - accuracy: 0.7849 - val_loss: 0.1980 - val_accuracy: 0.7107\n",
      "Epoch 60/100\n",
      "239/239 - 8s - loss: 0.1419 - accuracy: 0.7897 - val_loss: 0.1987 - val_accuracy: 0.7138\n",
      "Epoch 61/100\n",
      "239/239 - 8s - loss: 0.1407 - accuracy: 0.7846 - val_loss: 0.1974 - val_accuracy: 0.7102\n",
      "Epoch 62/100\n",
      "239/239 - 8s - loss: 0.1380 - accuracy: 0.7938 - val_loss: 0.2143 - val_accuracy: 0.6773\n",
      "Epoch 63/100\n",
      "239/239 - 8s - loss: 0.1386 - accuracy: 0.7916 - val_loss: 0.2066 - val_accuracy: 0.7128\n",
      "Epoch 64/100\n",
      "239/239 - 8s - loss: 0.1372 - accuracy: 0.7959 - val_loss: 0.2057 - val_accuracy: 0.7112\n",
      "Epoch 65/100\n",
      "239/239 - 8s - loss: 0.1347 - accuracy: 0.8011 - val_loss: 0.2014 - val_accuracy: 0.7107\n",
      "Epoch 66/100\n",
      "239/239 - 8s - loss: 0.1335 - accuracy: 0.8009 - val_loss: 0.2160 - val_accuracy: 0.7034\n",
      "Epoch 67/100\n",
      "239/239 - 8s - loss: 0.1343 - accuracy: 0.8013 - val_loss: 0.1974 - val_accuracy: 0.7164\n",
      "Epoch 68/100\n",
      "239/239 - 8s - loss: 0.1322 - accuracy: 0.8035 - val_loss: 0.2062 - val_accuracy: 0.6992\n",
      "Epoch 69/100\n",
      "239/239 - 8s - loss: 0.1319 - accuracy: 0.8049 - val_loss: 0.2004 - val_accuracy: 0.7055\n",
      "Epoch 70/100\n",
      "239/239 - 8s - loss: 0.1310 - accuracy: 0.8066 - val_loss: 0.2043 - val_accuracy: 0.7112\n",
      "Epoch 71/100\n",
      "239/239 - 8s - loss: 0.1297 - accuracy: 0.8107 - val_loss: 0.2079 - val_accuracy: 0.7039\n",
      "Epoch 72/100\n",
      "239/239 - 8s - loss: 0.1276 - accuracy: 0.8136 - val_loss: 0.2084 - val_accuracy: 0.7133\n",
      "Epoch 73/100\n",
      "239/239 - 8s - loss: 0.1283 - accuracy: 0.8067 - val_loss: 0.2080 - val_accuracy: 0.7159\n",
      "Epoch 74/100\n",
      "239/239 - 8s - loss: 0.1266 - accuracy: 0.8138 - val_loss: 0.2137 - val_accuracy: 0.7029\n",
      "Epoch 75/100\n",
      "239/239 - 8s - loss: 0.1263 - accuracy: 0.8170 - val_loss: 0.2146 - val_accuracy: 0.6987\n",
      "Epoch 76/100\n",
      "239/239 - 8s - loss: 0.1254 - accuracy: 0.8151 - val_loss: 0.2104 - val_accuracy: 0.7086\n",
      "Epoch 77/100\n",
      "239/239 - 8s - loss: 0.1225 - accuracy: 0.8183 - val_loss: 0.2075 - val_accuracy: 0.7144\n",
      "Epoch 78/100\n",
      "239/239 - 8s - loss: 0.1219 - accuracy: 0.8203 - val_loss: 0.2105 - val_accuracy: 0.7050\n",
      "Epoch 79/100\n",
      "239/239 - 8s - loss: 0.1205 - accuracy: 0.8235 - val_loss: 0.2284 - val_accuracy: 0.6935\n",
      "Epoch 80/100\n",
      "239/239 - 8s - loss: 0.1226 - accuracy: 0.8174 - val_loss: 0.2269 - val_accuracy: 0.7013\n",
      "Epoch 81/100\n",
      "239/239 - 8s - loss: 0.1204 - accuracy: 0.8198 - val_loss: 0.2188 - val_accuracy: 0.7180\n"
     ]
    },
    {
     "name": "stdout",
     "output_type": "stream",
     "text": [
      "Epoch 82/100\n",
      "239/239 - 8s - loss: 0.1178 - accuracy: 0.8295 - val_loss: 0.2267 - val_accuracy: 0.6856\n",
      "Epoch 83/100\n",
      "239/239 - 8s - loss: 0.1182 - accuracy: 0.8275 - val_loss: 0.2205 - val_accuracy: 0.7107\n",
      "Epoch 84/100\n",
      "239/239 - 8s - loss: 0.1186 - accuracy: 0.8258 - val_loss: 0.2308 - val_accuracy: 0.6888\n",
      "Epoch 85/100\n",
      "239/239 - 8s - loss: 0.1152 - accuracy: 0.8318 - val_loss: 0.2294 - val_accuracy: 0.7102\n",
      "Epoch 86/100\n",
      "239/239 - 8s - loss: 0.1146 - accuracy: 0.8334 - val_loss: 0.2323 - val_accuracy: 0.6997\n",
      "Epoch 87/100\n",
      "239/239 - 8s - loss: 0.1155 - accuracy: 0.8313 - val_loss: 0.2373 - val_accuracy: 0.7123\n",
      "Epoch 88/100\n",
      "239/239 - 8s - loss: 0.1151 - accuracy: 0.8324 - val_loss: 0.2340 - val_accuracy: 0.7044\n",
      "Epoch 89/100\n",
      "239/239 - 8s - loss: 0.1138 - accuracy: 0.8322 - val_loss: 0.2314 - val_accuracy: 0.7170\n",
      "Epoch 90/100\n",
      "239/239 - 8s - loss: 0.1123 - accuracy: 0.8351 - val_loss: 0.2321 - val_accuracy: 0.7091\n",
      "Epoch 91/100\n",
      "239/239 - 8s - loss: 0.1105 - accuracy: 0.8359 - val_loss: 0.2176 - val_accuracy: 0.7123\n",
      "Epoch 92/100\n",
      "239/239 - 8s - loss: 0.1100 - accuracy: 0.8428 - val_loss: 0.2380 - val_accuracy: 0.6992\n",
      "Epoch 93/100\n",
      "239/239 - 8s - loss: 0.1083 - accuracy: 0.8444 - val_loss: 0.2375 - val_accuracy: 0.6898\n",
      "Epoch 94/100\n",
      "239/239 - 8s - loss: 0.1083 - accuracy: 0.8413 - val_loss: 0.2365 - val_accuracy: 0.7044\n",
      "Epoch 95/100\n",
      "239/239 - 8s - loss: 0.1051 - accuracy: 0.8466 - val_loss: 0.2397 - val_accuracy: 0.6836\n",
      "Epoch 96/100\n",
      "239/239 - 8s - loss: 0.1078 - accuracy: 0.8434 - val_loss: 0.2329 - val_accuracy: 0.7180\n",
      "Epoch 97/100\n",
      "239/239 - 8s - loss: 0.1067 - accuracy: 0.8452 - val_loss: 0.2559 - val_accuracy: 0.6836\n",
      "Epoch 98/100\n",
      "239/239 - 8s - loss: 0.1052 - accuracy: 0.8462 - val_loss: 0.2574 - val_accuracy: 0.7013\n",
      "Epoch 99/100\n",
      "239/239 - 8s - loss: 0.1039 - accuracy: 0.8488 - val_loss: 0.2435 - val_accuracy: 0.6977\n",
      "Epoch 100/100\n",
      "239/239 - 8s - loss: 0.1043 - accuracy: 0.8496 - val_loss: 0.2478 - val_accuracy: 0.6997\n"
     ]
    }
   ],
   "source": [
    "history = fit_model(model2, 64, 100, True, datagen, x_train_arg, y_train_arg, x_val_arg, y_val_arg, x_test_arg)"
   ]
  },
  {
   "cell_type": "markdown",
   "metadata": {},
   "source": [
    "Now we're going to test our model using the test set for the model."
   ]
  },
  {
   "cell_type": "code",
   "execution_count": 22,
   "metadata": {},
   "outputs": [
    {
     "name": "stdout",
     "output_type": "stream",
     "text": [
      "30/30 [==============================] - 0s 9ms/step - loss: 0.2481 - accuracy: 0.7070\n"
     ]
    }
   ],
   "source": [
    "test_loss, test_acc = evaluate_model(model2, x_test_arg, y_test_arg, 64)"
   ]
  },
  {
   "cell_type": "code",
   "execution_count": 23,
   "metadata": {},
   "outputs": [
    {
     "name": "stdout",
     "output_type": "stream",
     "text": [
      "Test loss: 0.2481\n",
      "Test accuracy: 0.7070\n"
     ]
    }
   ],
   "source": [
    "print(f\"Test loss: {test_loss:.4f}\")\n",
    "print(f\"Test accuracy: {test_acc:.4f}\")"
   ]
  },
  {
   "cell_type": "code",
   "execution_count": 24,
   "metadata": {},
   "outputs": [
    {
     "data": {
      "image/png": "[encoded data removed]",
      "text/plain": [
       "<Figure size 432x288 with 1 Axes>"
      ]
     },
     "metadata": {
      "needs_background": "light"
     },
     "output_type": "display_data"
    },
    {
     "data": {
      "image/png": "[encoded data removed]",
      "text/plain": [
       "<Figure size 432x288 with 1 Axes>"
      ]
     },
     "metadata": {
      "needs_background": "light"
     },
     "output_type": "display_data"
    }
   ],
   "source": [
    "plot_acc_loss(history)"
   ]
  },
  {
   "cell_type": "markdown",
   "metadata": {},
   "source": [
    "The model is still overfit :("
   ]
  },
  {
   "cell_type": "code",
   "execution_count": 25,
   "metadata": {},
   "outputs": [
    {
     "name": "stdout",
     "output_type": "stream",
     "text": [
      "INFO:tensorflow:Assets written to: C:\\Users\\storm\\AppData\\Local\\Temp\\tmprv6qaiwi\\assets\n"
     ]
    }
   ],
   "source": [
    "save_model_to_lite(model2, test_acc)"
   ]
  },
  {
   "cell_type": "code",
   "execution_count": 26,
   "metadata": {},
   "outputs": [
    {
     "name": "stdout",
     "output_type": "stream",
     "text": [
      "INFO:tensorflow:Assets written to: saved_all_model7070\\assets\n"
     ]
    },
    {
     "name": "stderr",
     "output_type": "stream",
     "text": [
      "INFO:tensorflow:Assets written to: saved_all_model7070\\assets\n"
     ]
    },
    {
     "name": "stdout",
     "output_type": "stream",
     "text": [
      "Model is saved in a file.\n"
     ]
    }
   ],
   "source": [
    "save_all_model(model2, test_acc)"
   ]
  },
  {
   "cell_type": "markdown",
   "metadata": {},
   "source": [
    "## Conclusion\n"
   ]
  },
  {
   "cell_type": "markdown",
   "metadata": {},
   "source": [
    "The edited data helped the model a bit to get better results. Unfortunately, the results are still not too good. This model will not be used for our final presentation.\n",
    "\n",
    "this data set is therefore not entirely suitable for this model. [Here](https://github.com/BB8-2020/EmpathicRobot/tree/main/models/classification_model/vgg16) we are going to try to use the data in vgg16 model."
   ]
  }
 ],
 "metadata": {
  "kernelspec": {
   "display_name": "Python 3",
   "language": "python",
   "name": "python3"
  },
  "language_info": {
   "codemirror_mode": {
    "name": "ipython",
    "version": 3
   },
   "file_extension": ".py",
   "mimetype": "text/x-python",
   "name": "python",
   "nbconvert_exporter": "python",
   "pygments_lexer": "ipython3",
   "version": "3.7.6"
  }
 },
 "nbformat": 4,
 "nbformat_minor": 4
}
