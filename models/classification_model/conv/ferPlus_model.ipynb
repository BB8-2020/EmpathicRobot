{
 "cells": [
  {
   "cell_type": "markdown",
   "metadata": {},
   "source": [
    "# Analyse and run models using FerPlus dataset"
   ]
  },
  {
   "cell_type": "markdown",
   "metadata": {},
   "source": [
    "In this notebook we are going to build, test, analyze and compare the model with the previous versions. This is followed by improvements to the model and the data. We run this cycle a few times until we achieve realistic and nice results.\n",
    "\n",
    "This model has been build in [this](https://github.com/BB8-2020/EmpathicRobot/tree/main/models/classification_model) file. \n",
    "\n",
    "If you have any quesentions about this notebook, send us a mail at maria.dukmak@student.hu.nl"
   ]
  },
  {
   "cell_type": "code",
   "execution_count": 1,
   "metadata": {},
   "outputs": [],
   "source": [
    "# To read the data \n",
    "import _pickle as cPickle\n",
    "import bz2\n",
    "# To creat the model\n",
    "from tensorflow.keras import Sequential\n",
    "\n",
    "# Import the file with the model functions\n",
    "import sys\n",
    "# You need to change this path to your project path\n",
    "sys.path.append('/Users/storm/OneDrive/Documenten/HU/Jaar_2/BB8/EmpathicRobot')\n",
    "from conv_model import *\n",
    "from models.functions import *"
   ]
  },
  {
   "cell_type": "markdown",
   "metadata": {},
   "source": [
    "## Read data\n",
    "As we have done before, our data is ready to use. In this section we will use **ferPlus** to train the model. This data has already been read, prepared and stored in **hier linkje zetten** this file. For now, our data is in a pickel file that we will read as follows:\n",
    "\n",
    "For simplicity, we set up the path to the data as follows, you can also set it to your own path."
   ]
  },
  {
   "cell_type": "code",
   "execution_count": 2,
   "metadata": {},
   "outputs": [],
   "source": [
    "os.chdir(os.getcwd() + '/data/')"
   ]
  },
  {
   "cell_type": "markdown",
   "metadata": {},
   "source": [
    "We immediately split the data into train, test and validation set."
   ]
  },
  {
   "cell_type": "code",
   "execution_count": 3,
   "metadata": {},
   "outputs": [],
   "source": [
    "x_train, y_train, x_val, y_val, x_test, y_test = read_data(str('ferPlus_processed'))"
   ]
  },
  {
   "cell_type": "markdown",
   "metadata": {},
   "source": [
    "As we see, the data consists of train set that contains 80% of the data. The validation and the test set are equal in size 20% and are used to subsequently test the model.\n",
    "\n",
    "This data has already been cleaned and normalized so we don't have to do anything with the data anymore."
   ]
  },
  {
   "cell_type": "code",
   "execution_count": 4,
   "metadata": {},
   "outputs": [
    {
     "name": "stdout",
     "output_type": "stream",
     "text": [
      "Train set: X_train shape:(28390, 48, 48, 1) Y_train shape:(28390, 7)\n",
      "Test set: X_test shape:(3549, 48, 48, 1) Y_test shape:(3549, 7)\n",
      "Validation set: X_val shape:(3549, 48, 48, 1) Y_val shape:(3549, 7)\n"
     ]
    }
   ],
   "source": [
    "print(f\"Train set: X_train shape:{x_train.shape} Y_train shape:{y_train.shape}\")\n",
    "\n",
    "print(f\"Test set: X_test shape:{x_test.shape} Y_test shape:{y_test.shape}\")\n",
    "\n",
    "print(f\"Validation set: X_val shape:{x_val.shape} Y_val shape:{y_val.shape}\")"
   ]
  },
  {
   "cell_type": "markdown",
   "metadata": {},
   "source": [
    "## Models"
   ]
  },
  {
   "cell_type": "code",
   "execution_count": 5,
   "metadata": {},
   "outputs": [],
   "source": [
    "# We create all the models that we got \n",
    "models = build_models(input_shape=(48, 48, 1), num_classes=7)"
   ]
  },
  {
   "cell_type": "markdown",
   "metadata": {},
   "source": [
    "### Model version 1 "
   ]
  },
  {
   "cell_type": "markdown",
   "metadata": {},
   "source": [
    "Now it is finally time to start working on the model. We are going to start with the following model:"
   ]
  },
  {
   "cell_type": "code",
   "execution_count": 6,
   "metadata": {},
   "outputs": [],
   "source": [
    "model1 = Sequential(models[0]['layers'], name = models[0]['name'])"
   ]
  },
  {
   "cell_type": "markdown",
   "metadata": {},
   "source": [
    "Let's check the summary out:"
   ]
  },
  {
   "cell_type": "code",
   "execution_count": 7,
   "metadata": {},
   "outputs": [
    {
     "name": "stdout",
     "output_type": "stream",
     "text": [
      "Model: \"Version_1\"\n",
      "_________________________________________________________________\n",
      "Layer (type)                 Output Shape              Param #   \n",
      "=================================================================\n",
      "conv2d (Conv2D)              (None, 46, 46, 64)        640       \n",
      "_________________________________________________________________\n",
      "batch_normalization (BatchNo (None, 46, 46, 64)        256       \n",
      "_________________________________________________________________\n",
      "dropout (Dropout)            (None, 46, 46, 64)        0         \n",
      "_________________________________________________________________\n",
      "conv2d_1 (Conv2D)            (None, 44, 44, 64)        36928     \n",
      "_________________________________________________________________\n",
      "max_pooling2d (MaxPooling2D) (None, 22, 22, 64)        0         \n",
      "_________________________________________________________________\n",
      "conv2d_2 (Conv2D)            (None, 20, 20, 128)       73856     \n",
      "_________________________________________________________________\n",
      "batch_normalization_1 (Batch (None, 20, 20, 128)       512       \n",
      "_________________________________________________________________\n",
      "conv2d_3 (Conv2D)            (None, 18, 18, 128)       147584    \n",
      "_________________________________________________________________\n",
      "max_pooling2d_1 (MaxPooling2 (None, 9, 9, 128)         0         \n",
      "_________________________________________________________________\n",
      "conv2d_4 (Conv2D)            (None, 7, 7, 256)         295168    \n",
      "_________________________________________________________________\n",
      "batch_normalization_2 (Batch (None, 7, 7, 256)         1024      \n",
      "_________________________________________________________________\n",
      "flatten (Flatten)            (None, 12544)             0         \n",
      "_________________________________________________________________\n",
      "dense (Dense)                (None, 1024)              12846080  \n",
      "_________________________________________________________________\n",
      "dropout_1 (Dropout)          (None, 1024)              0         \n",
      "_________________________________________________________________\n",
      "dense_1 (Dense)              (None, 1024)              1049600   \n",
      "_________________________________________________________________\n",
      "dropout_2 (Dropout)          (None, 1024)              0         \n",
      "_________________________________________________________________\n",
      "dense_2 (Dense)              (None, 7)                 7175      \n",
      "=================================================================\n",
      "Total params: 14,458,823\n",
      "Trainable params: 14,457,927\n",
      "Non-trainable params: 896\n",
      "_________________________________________________________________\n"
     ]
    }
   ],
   "source": [
    "model1.summary()"
   ]
  },
  {
   "cell_type": "markdown",
   "metadata": {},
   "source": [
    "Looks good, time to compile!"
   ]
  },
  {
   "cell_type": "markdown",
   "metadata": {},
   "source": [
    "### Compile and train"
   ]
  },
  {
   "cell_type": "markdown",
   "metadata": {},
   "source": [
    "To compile the model we use Adam optimaizer and binary crossentropy as los function. Let us now train the model."
   ]
  },
  {
   "cell_type": "code",
   "execution_count": 8,
   "metadata": {},
   "outputs": [],
   "source": [
    "compile_model(model1)"
   ]
  },
  {
   "cell_type": "code",
   "execution_count": 9,
   "metadata": {},
   "outputs": [
    {
     "name": "stdout",
     "output_type": "stream",
     "text": [
      "Epoch 1/100\n",
      "443/443 - 14s - loss: 0.3215 - accuracy: 0.5143 - val_loss: 0.3574 - val_accuracy: 0.3959\n",
      "Epoch 2/100\n",
      "443/443 - 11s - loss: 0.2712 - accuracy: 0.6307 - val_loss: 0.2742 - val_accuracy: 0.6176\n",
      "Epoch 3/100\n",
      "443/443 - 10s - loss: 0.2464 - accuracy: 0.6926 - val_loss: 0.2475 - val_accuracy: 0.6850\n",
      "Epoch 4/100\n",
      "443/443 - 10s - loss: 0.2273 - accuracy: 0.7418 - val_loss: 0.2408 - val_accuracy: 0.6988\n",
      "Epoch 5/100\n",
      "443/443 - 10s - loss: 0.2117 - accuracy: 0.7871 - val_loss: 0.2405 - val_accuracy: 0.7112\n",
      "Epoch 6/100\n",
      "443/443 - 10s - loss: 0.1981 - accuracy: 0.8240 - val_loss: 0.2308 - val_accuracy: 0.7411\n",
      "Epoch 7/100\n",
      "443/443 - 42s - loss: 0.1873 - accuracy: 0.8510 - val_loss: 0.2351 - val_accuracy: 0.7337\n",
      "Epoch 8/100\n",
      "443/443 - 11s - loss: 0.1786 - accuracy: 0.8756 - val_loss: 0.2301 - val_accuracy: 0.7396\n",
      "Epoch 9/100\n",
      "443/443 - 10s - loss: 0.1728 - accuracy: 0.8888 - val_loss: 0.2305 - val_accuracy: 0.7394\n",
      "Epoch 10/100\n",
      "443/443 - 11s - loss: 0.1681 - accuracy: 0.8980 - val_loss: 0.2258 - val_accuracy: 0.7574\n",
      "Epoch 11/100\n",
      "443/443 - 11s - loss: 0.1640 - accuracy: 0.9060 - val_loss: 0.2265 - val_accuracy: 0.7566\n",
      "Epoch 12/100\n",
      "443/443 - 10s - loss: 0.1617 - accuracy: 0.9079 - val_loss: 0.2246 - val_accuracy: 0.7515\n",
      "Epoch 13/100\n",
      "443/443 - 10s - loss: 0.1595 - accuracy: 0.9100 - val_loss: 0.2254 - val_accuracy: 0.7566\n",
      "Epoch 14/100\n",
      "443/443 - 10s - loss: 0.1571 - accuracy: 0.9146 - val_loss: 0.2251 - val_accuracy: 0.7427\n",
      "Epoch 15/100\n",
      "443/443 - 10s - loss: 0.1563 - accuracy: 0.9132 - val_loss: 0.2204 - val_accuracy: 0.7588\n",
      "Epoch 16/100\n",
      "443/443 - 10s - loss: 0.1545 - accuracy: 0.9139 - val_loss: 0.2244 - val_accuracy: 0.7602\n",
      "Epoch 17/100\n",
      "443/443 - 10s - loss: 0.1534 - accuracy: 0.9159 - val_loss: 0.2250 - val_accuracy: 0.7661\n",
      "Epoch 18/100\n",
      "443/443 - 10s - loss: 0.1519 - accuracy: 0.9180 - val_loss: 0.2183 - val_accuracy: 0.7616\n",
      "Epoch 19/100\n",
      "443/443 - 10s - loss: 0.1510 - accuracy: 0.9195 - val_loss: 0.2229 - val_accuracy: 0.7616\n",
      "Epoch 20/100\n",
      "443/443 - 10s - loss: 0.1501 - accuracy: 0.9186 - val_loss: 0.2223 - val_accuracy: 0.7622\n",
      "Epoch 21/100\n",
      "443/443 - 10s - loss: 0.1491 - accuracy: 0.9201 - val_loss: 0.2201 - val_accuracy: 0.7701\n",
      "Epoch 22/100\n",
      "443/443 - 10s - loss: 0.1481 - accuracy: 0.9218 - val_loss: 0.2189 - val_accuracy: 0.7664\n",
      "Epoch 23/100\n",
      "443/443 - 10s - loss: 0.1478 - accuracy: 0.9230 - val_loss: 0.2188 - val_accuracy: 0.7718\n",
      "Epoch 24/100\n",
      "443/443 - 10s - loss: 0.1466 - accuracy: 0.9277 - val_loss: 0.2229 - val_accuracy: 0.7667\n",
      "Epoch 25/100\n",
      "443/443 - 10s - loss: 0.1464 - accuracy: 0.9263 - val_loss: 0.2207 - val_accuracy: 0.7670\n",
      "Epoch 26/100\n",
      "443/443 - 10s - loss: 0.1458 - accuracy: 0.9294 - val_loss: 0.2190 - val_accuracy: 0.7760\n",
      "Epoch 27/100\n",
      "443/443 - 10s - loss: 0.1452 - accuracy: 0.9291 - val_loss: 0.2226 - val_accuracy: 0.7698\n",
      "Epoch 28/100\n",
      "443/443 - 10s - loss: 0.1448 - accuracy: 0.9343 - val_loss: 0.2220 - val_accuracy: 0.7729\n",
      "Epoch 29/100\n",
      "443/443 - 10s - loss: 0.1440 - accuracy: 0.9323 - val_loss: 0.2233 - val_accuracy: 0.7667\n",
      "Epoch 30/100\n",
      "443/443 - 10s - loss: 0.1437 - accuracy: 0.9335 - val_loss: 0.2209 - val_accuracy: 0.7650\n",
      "Epoch 31/100\n",
      "443/443 - 10s - loss: 0.1434 - accuracy: 0.9349 - val_loss: 0.2200 - val_accuracy: 0.7732\n",
      "Epoch 32/100\n",
      "443/443 - 10s - loss: 0.1425 - accuracy: 0.9356 - val_loss: 0.2235 - val_accuracy: 0.7746\n",
      "Epoch 33/100\n",
      "443/443 - 10s - loss: 0.1427 - accuracy: 0.9391 - val_loss: 0.2214 - val_accuracy: 0.7808\n",
      "Epoch 34/100\n",
      "443/443 - 10s - loss: 0.1423 - accuracy: 0.9365 - val_loss: 0.2216 - val_accuracy: 0.7785\n",
      "Epoch 35/100\n",
      "443/443 - 10s - loss: 0.1419 - accuracy: 0.9408 - val_loss: 0.2231 - val_accuracy: 0.7766\n",
      "Epoch 36/100\n",
      "443/443 - 10s - loss: 0.1410 - accuracy: 0.9395 - val_loss: 0.2232 - val_accuracy: 0.7825\n",
      "Epoch 37/100\n",
      "443/443 - 10s - loss: 0.1412 - accuracy: 0.9456 - val_loss: 0.2241 - val_accuracy: 0.7788\n",
      "Epoch 38/100\n",
      "443/443 - 10s - loss: 0.1409 - accuracy: 0.9446 - val_loss: 0.2236 - val_accuracy: 0.7766\n",
      "Epoch 39/100\n",
      "443/443 - 10s - loss: 0.1411 - accuracy: 0.9439 - val_loss: 0.2241 - val_accuracy: 0.7695\n",
      "Epoch 40/100\n",
      "443/443 - 11s - loss: 0.1402 - accuracy: 0.9481 - val_loss: 0.2229 - val_accuracy: 0.7729\n",
      "Epoch 41/100\n",
      "443/443 - 10s - loss: 0.1398 - accuracy: 0.9479 - val_loss: 0.2253 - val_accuracy: 0.7751\n",
      "Epoch 42/100\n",
      "443/443 - 10s - loss: 0.1404 - accuracy: 0.9461 - val_loss: 0.2264 - val_accuracy: 0.7715\n",
      "Epoch 43/100\n",
      "443/443 - 10s - loss: 0.1395 - accuracy: 0.9487 - val_loss: 0.2237 - val_accuracy: 0.7768\n",
      "Epoch 44/100\n",
      "443/443 - 11s - loss: 0.1394 - accuracy: 0.9491 - val_loss: 0.2274 - val_accuracy: 0.7749\n",
      "Epoch 45/100\n",
      "443/443 - 10s - loss: 0.1397 - accuracy: 0.9502 - val_loss: 0.2299 - val_accuracy: 0.7673\n",
      "Epoch 46/100\n",
      "443/443 - 10s - loss: 0.1392 - accuracy: 0.9507 - val_loss: 0.2282 - val_accuracy: 0.7763\n",
      "Epoch 47/100\n",
      "443/443 - 11s - loss: 0.1392 - accuracy: 0.9503 - val_loss: 0.2270 - val_accuracy: 0.7774\n",
      "Epoch 48/100\n",
      "443/443 - 10s - loss: 0.1390 - accuracy: 0.9538 - val_loss: 0.2296 - val_accuracy: 0.7791\n",
      "Epoch 49/100\n",
      "443/443 - 10s - loss: 0.1383 - accuracy: 0.9546 - val_loss: 0.2284 - val_accuracy: 0.7833\n",
      "Epoch 50/100\n",
      "443/443 - 10s - loss: 0.1382 - accuracy: 0.9541 - val_loss: 0.2329 - val_accuracy: 0.7726\n",
      "Epoch 51/100\n",
      "443/443 - 10s - loss: 0.1385 - accuracy: 0.9538 - val_loss: 0.2370 - val_accuracy: 0.7726\n",
      "Epoch 52/100\n",
      "443/443 - 10s - loss: 0.1381 - accuracy: 0.9558 - val_loss: 0.2345 - val_accuracy: 0.7771\n",
      "Epoch 53/100\n",
      "443/443 - 10s - loss: 0.1378 - accuracy: 0.9547 - val_loss: 0.2360 - val_accuracy: 0.7819\n",
      "Epoch 54/100\n",
      "443/443 - 10s - loss: 0.1380 - accuracy: 0.9574 - val_loss: 0.2315 - val_accuracy: 0.7875\n",
      "Epoch 55/100\n",
      "443/443 - 10s - loss: 0.1382 - accuracy: 0.9562 - val_loss: 0.2355 - val_accuracy: 0.7802\n",
      "Epoch 56/100\n",
      "443/443 - 10s - loss: 0.1380 - accuracy: 0.9557 - val_loss: 0.2345 - val_accuracy: 0.7794\n",
      "Epoch 57/100\n",
      "443/443 - 10s - loss: 0.1368 - accuracy: 0.9582 - val_loss: 0.2375 - val_accuracy: 0.7785\n",
      "Epoch 58/100\n",
      "443/443 - 10s - loss: 0.1379 - accuracy: 0.9561 - val_loss: 0.2397 - val_accuracy: 0.7828\n",
      "Epoch 59/100\n",
      "443/443 - 10s - loss: 0.1374 - accuracy: 0.9571 - val_loss: 0.2432 - val_accuracy: 0.7797\n",
      "Epoch 60/100\n",
      "443/443 - 10s - loss: 0.1369 - accuracy: 0.9598 - val_loss: 0.2406 - val_accuracy: 0.7794\n",
      "Epoch 61/100\n",
      "443/443 - 10s - loss: 0.1372 - accuracy: 0.9562 - val_loss: 0.2416 - val_accuracy: 0.7774\n",
      "Epoch 62/100\n",
      "443/443 - 10s - loss: 0.1376 - accuracy: 0.9586 - val_loss: 0.2389 - val_accuracy: 0.7766\n",
      "Epoch 63/100\n",
      "443/443 - 10s - loss: 0.1364 - accuracy: 0.9591 - val_loss: 0.2441 - val_accuracy: 0.7813\n",
      "Epoch 64/100\n",
      "443/443 - 23s - loss: 0.1369 - accuracy: 0.9615 - val_loss: 0.2454 - val_accuracy: 0.7768\n",
      "Epoch 65/100\n",
      "443/443 - 17s - loss: 0.1367 - accuracy: 0.9596 - val_loss: 0.2439 - val_accuracy: 0.7794\n",
      "Epoch 66/100\n",
      "443/443 - 10s - loss: 0.1370 - accuracy: 0.9612 - val_loss: 0.2468 - val_accuracy: 0.7822\n",
      "Epoch 67/100\n",
      "443/443 - 10s - loss: 0.1368 - accuracy: 0.9613 - val_loss: 0.2474 - val_accuracy: 0.7768\n",
      "Epoch 68/100\n",
      "443/443 - 10s - loss: 0.1358 - accuracy: 0.9621 - val_loss: 0.2523 - val_accuracy: 0.7805\n",
      "Epoch 69/100\n",
      "443/443 - 10s - loss: 0.1366 - accuracy: 0.9596 - val_loss: 0.2518 - val_accuracy: 0.7828\n",
      "Epoch 70/100\n",
      "443/443 - 10s - loss: 0.1369 - accuracy: 0.9617 - val_loss: 0.2490 - val_accuracy: 0.7768\n",
      "Epoch 71/100\n",
      "443/443 - 10s - loss: 0.1354 - accuracy: 0.9625 - val_loss: 0.2537 - val_accuracy: 0.7794\n",
      "Epoch 72/100\n",
      "443/443 - 10s - loss: 0.1367 - accuracy: 0.9618 - val_loss: 0.2511 - val_accuracy: 0.7808\n",
      "Epoch 73/100\n",
      "443/443 - 11s - loss: 0.1362 - accuracy: 0.9642 - val_loss: 0.2556 - val_accuracy: 0.7726\n",
      "Epoch 74/100\n",
      "443/443 - 11s - loss: 0.1359 - accuracy: 0.9642 - val_loss: 0.2578 - val_accuracy: 0.7774\n",
      "Epoch 75/100\n",
      "443/443 - 10s - loss: 0.1356 - accuracy: 0.9625 - val_loss: 0.2669 - val_accuracy: 0.7777\n",
      "Epoch 76/100\n",
      "443/443 - 10s - loss: 0.1358 - accuracy: 0.9639 - val_loss: 0.2649 - val_accuracy: 0.7718\n",
      "Epoch 77/100\n",
      "443/443 - 10s - loss: 0.1363 - accuracy: 0.9632 - val_loss: 0.2600 - val_accuracy: 0.7813\n",
      "Epoch 78/100\n",
      "443/443 - 10s - loss: 0.1359 - accuracy: 0.9629 - val_loss: 0.2536 - val_accuracy: 0.7797\n",
      "Epoch 79/100\n",
      "443/443 - 10s - loss: 0.1357 - accuracy: 0.9633 - val_loss: 0.2632 - val_accuracy: 0.7794\n",
      "Epoch 80/100\n",
      "443/443 - 11s - loss: 0.1355 - accuracy: 0.9630 - val_loss: 0.2703 - val_accuracy: 0.7692\n"
     ]
    },
    {
     "name": "stdout",
     "output_type": "stream",
     "text": [
      "Epoch 81/100\n",
      "443/443 - 10s - loss: 0.1359 - accuracy: 0.9614 - val_loss: 0.2651 - val_accuracy: 0.7732\n",
      "Epoch 82/100\n",
      "443/443 - 11s - loss: 0.1360 - accuracy: 0.9642 - val_loss: 0.2727 - val_accuracy: 0.7768\n",
      "Epoch 83/100\n",
      "443/443 - 10s - loss: 0.1354 - accuracy: 0.9644 - val_loss: 0.2593 - val_accuracy: 0.7751\n",
      "Epoch 84/100\n",
      "443/443 - 10s - loss: 0.1354 - accuracy: 0.9638 - val_loss: 0.2725 - val_accuracy: 0.7732\n",
      "Epoch 85/100\n",
      "443/443 - 10s - loss: 0.1354 - accuracy: 0.9650 - val_loss: 0.2716 - val_accuracy: 0.7757\n",
      "Epoch 86/100\n",
      "443/443 - 10s - loss: 0.1359 - accuracy: 0.9655 - val_loss: 0.2702 - val_accuracy: 0.7737\n",
      "Epoch 87/100\n",
      "443/443 - 10s - loss: 0.1350 - accuracy: 0.9648 - val_loss: 0.2651 - val_accuracy: 0.7746\n",
      "Epoch 88/100\n",
      "443/443 - 10s - loss: 0.1355 - accuracy: 0.9653 - val_loss: 0.2783 - val_accuracy: 0.7766\n",
      "Epoch 89/100\n",
      "443/443 - 11s - loss: 0.1355 - accuracy: 0.9641 - val_loss: 0.2803 - val_accuracy: 0.7774\n",
      "Epoch 90/100\n",
      "443/443 - 10s - loss: 0.1354 - accuracy: 0.9649 - val_loss: 0.2713 - val_accuracy: 0.7797\n",
      "Epoch 91/100\n",
      "443/443 - 10s - loss: 0.1352 - accuracy: 0.9659 - val_loss: 0.2864 - val_accuracy: 0.7805\n",
      "Epoch 92/100\n",
      "443/443 - 10s - loss: 0.1355 - accuracy: 0.9654 - val_loss: 0.2764 - val_accuracy: 0.7794\n",
      "Epoch 93/100\n",
      "443/443 - 10s - loss: 0.1348 - accuracy: 0.9667 - val_loss: 0.2824 - val_accuracy: 0.7811\n",
      "Epoch 94/100\n",
      "443/443 - 10s - loss: 0.1353 - accuracy: 0.9652 - val_loss: 0.2806 - val_accuracy: 0.7805\n",
      "Epoch 95/100\n",
      "443/443 - 10s - loss: 0.1352 - accuracy: 0.9663 - val_loss: 0.2893 - val_accuracy: 0.7740\n",
      "Epoch 96/100\n",
      "443/443 - 10s - loss: 0.1348 - accuracy: 0.9663 - val_loss: 0.2863 - val_accuracy: 0.7766\n",
      "Epoch 97/100\n",
      "443/443 - 10s - loss: 0.1353 - accuracy: 0.9664 - val_loss: 0.2914 - val_accuracy: 0.7735\n",
      "Epoch 98/100\n",
      "443/443 - 10s - loss: 0.1351 - accuracy: 0.9673 - val_loss: 0.2937 - val_accuracy: 0.7743\n",
      "Epoch 99/100\n",
      "443/443 - 11s - loss: 0.1351 - accuracy: 0.9664 - val_loss: 0.2934 - val_accuracy: 0.7692\n",
      "Epoch 100/100\n",
      "443/443 - 10s - loss: 0.1352 - accuracy: 0.9653 - val_loss: 0.2832 - val_accuracy: 0.7751\n"
     ]
    }
   ],
   "source": [
    "# to do: set epoches to 100\n",
    "history = fit_model(model1, 64, 100, False, x_train, y_train, x_val, y_val, x_test)"
   ]
  },
  {
   "cell_type": "markdown",
   "metadata": {},
   "source": [
    "Now we're going to test our model using the test set for the model."
   ]
  },
  {
   "cell_type": "code",
   "execution_count": 10,
   "metadata": {},
   "outputs": [
    {
     "name": "stdout",
     "output_type": "stream",
     "text": [
      "56/56 [==============================] - 0s 7ms/step - loss: 0.2791 - accuracy: 0.7684\n"
     ]
    }
   ],
   "source": [
    "test_loss, test_acc = evaluate_model(model1, x_test, y_test,  64)"
   ]
  },
  {
   "cell_type": "code",
   "execution_count": 11,
   "metadata": {},
   "outputs": [
    {
     "name": "stdout",
     "output_type": "stream",
     "text": [
      "Test loss: 0.2791\n",
      "Test accuracy: 0.7684\n"
     ]
    }
   ],
   "source": [
    "print(f\"Test loss: {test_loss:.4f}\")\n",
    "print(f\"Test accuracy: {test_acc:.4f}\")"
   ]
  },
  {
   "cell_type": "code",
   "execution_count": 12,
   "metadata": {},
   "outputs": [
    {
     "data": {
      "image/png": "[encoded data removed]",
      "text/plain": [
       "<Figure size 432x288 with 1 Axes>"
      ]
     },
     "metadata": {
      "needs_background": "light"
     },
     "output_type": "display_data"
    },
    {
     "data": {
      "image/png": "[encoded data removed]",
      "text/plain": [
       "<Figure size 432x288 with 1 Axes>"
      ]
     },
     "metadata": {
      "needs_background": "light"
     },
     "output_type": "display_data"
    }
   ],
   "source": [
    "plot_acc_loss(history)"
   ]
  },
  {
   "cell_type": "code",
   "execution_count": 13,
   "metadata": {},
   "outputs": [],
   "source": [
    "## bespreek de resultaten van deze train"
   ]
  },
  {
   "cell_type": "markdown",
   "metadata": {},
   "source": [
    "As we saw above, the results are not too great. Therefore we will now try to adjust the settings of the model ."
   ]
  },
  {
   "cell_type": "markdown",
   "metadata": {},
   "source": [
    "### Model version 2"
   ]
  },
  {
   "cell_type": "markdown",
   "metadata": {},
   "source": [
    "Now we are going the same as above. So we are going to creat the model, complie it and fit it."
   ]
  },
  {
   "cell_type": "code",
   "execution_count": 14,
   "metadata": {},
   "outputs": [],
   "source": [
    "model2 = Sequential(models[1]['layers'], name = models[1]['name'])"
   ]
  },
  {
   "cell_type": "code",
   "execution_count": 15,
   "metadata": {},
   "outputs": [
    {
     "name": "stdout",
     "output_type": "stream",
     "text": [
      "Model: \"Version_2\"\n",
      "_________________________________________________________________\n",
      "Layer (type)                 Output Shape              Param #   \n",
      "=================================================================\n",
      "conv2d_5 (Conv2D)            (None, 46, 46, 64)        640       \n",
      "_________________________________________________________________\n",
      "batch_normalization_3 (Batch (None, 46, 46, 64)        256       \n",
      "_________________________________________________________________\n",
      "conv2d_6 (Conv2D)            (None, 44, 44, 64)        36928     \n",
      "_________________________________________________________________\n",
      "batch_normalization_4 (Batch (None, 44, 44, 64)        256       \n",
      "_________________________________________________________________\n",
      "dropout_3 (Dropout)          (None, 44, 44, 64)        0         \n",
      "_________________________________________________________________\n",
      "conv2d_7 (Conv2D)            (None, 42, 42, 64)        36928     \n",
      "_________________________________________________________________\n",
      "conv2d_8 (Conv2D)            (None, 40, 40, 64)        36928     \n",
      "_________________________________________________________________\n",
      "max_pooling2d_2 (MaxPooling2 (None, 20, 20, 64)        0         \n",
      "_________________________________________________________________\n",
      "conv2d_9 (Conv2D)            (None, 18, 18, 128)       73856     \n",
      "_________________________________________________________________\n",
      "batch_normalization_5 (Batch (None, 18, 18, 128)       512       \n",
      "_________________________________________________________________\n",
      "conv2d_10 (Conv2D)           (None, 16, 16, 128)       147584    \n",
      "_________________________________________________________________\n",
      "batch_normalization_6 (Batch (None, 16, 16, 128)       512       \n",
      "_________________________________________________________________\n",
      "conv2d_11 (Conv2D)           (None, 14, 14, 128)       147584    \n",
      "_________________________________________________________________\n",
      "conv2d_12 (Conv2D)           (None, 12, 12, 128)       147584    \n",
      "_________________________________________________________________\n",
      "max_pooling2d_3 (MaxPooling2 (None, 6, 6, 128)         0         \n",
      "_________________________________________________________________\n",
      "conv2d_13 (Conv2D)           (None, 4, 4, 256)         295168    \n",
      "_________________________________________________________________\n",
      "batch_normalization_7 (Batch (None, 4, 4, 256)         1024      \n",
      "_________________________________________________________________\n",
      "conv2d_14 (Conv2D)           (None, 2, 2, 256)         590080    \n",
      "_________________________________________________________________\n",
      "batch_normalization_8 (Batch (None, 2, 2, 256)         1024      \n",
      "_________________________________________________________________\n",
      "flatten_1 (Flatten)          (None, 1024)              0         \n",
      "_________________________________________________________________\n",
      "dense_3 (Dense)              (None, 1024)              1049600   \n",
      "_________________________________________________________________\n",
      "dropout_4 (Dropout)          (None, 1024)              0         \n",
      "_________________________________________________________________\n",
      "dense_4 (Dense)              (None, 1024)              1049600   \n",
      "_________________________________________________________________\n",
      "dropout_5 (Dropout)          (None, 1024)              0         \n",
      "_________________________________________________________________\n",
      "dense_5 (Dense)              (None, 7)                 7175      \n",
      "=================================================================\n",
      "Total params: 3,623,239\n",
      "Trainable params: 3,621,447\n",
      "Non-trainable params: 1,792\n",
      "_________________________________________________________________\n"
     ]
    }
   ],
   "source": [
    "model2.summary()"
   ]
  },
  {
   "cell_type": "markdown",
   "metadata": {},
   "source": [
    "Perfect! Lets compile "
   ]
  },
  {
   "cell_type": "markdown",
   "metadata": {},
   "source": [
    "### Compile and train"
   ]
  },
  {
   "cell_type": "code",
   "execution_count": 16,
   "metadata": {},
   "outputs": [],
   "source": [
    "compile_model(model2)"
   ]
  },
  {
   "cell_type": "code",
   "execution_count": 17,
   "metadata": {},
   "outputs": [
    {
     "name": "stdout",
     "output_type": "stream",
     "text": [
      "Epoch 1/100\n",
      "443/443 - 17s - loss: 0.3298 - accuracy: 0.4830 - val_loss: 0.4043 - val_accuracy: 0.3824\n",
      "Epoch 2/100\n",
      "443/443 - 15s - loss: 0.2787 - accuracy: 0.6127 - val_loss: 0.2766 - val_accuracy: 0.6157\n",
      "Epoch 3/100\n",
      "443/443 - 14s - loss: 0.2569 - accuracy: 0.6608 - val_loss: 0.2645 - val_accuracy: 0.6213\n",
      "Epoch 4/100\n",
      "443/443 - 14s - loss: 0.2420 - accuracy: 0.6981 - val_loss: 0.2455 - val_accuracy: 0.6813\n",
      "Epoch 5/100\n",
      "443/443 - 14s - loss: 0.2298 - accuracy: 0.7257 - val_loss: 0.2427 - val_accuracy: 0.6934\n",
      "Epoch 6/100\n",
      "443/443 - 15s - loss: 0.2206 - accuracy: 0.7503 - val_loss: 0.2293 - val_accuracy: 0.7171\n",
      "Epoch 7/100\n",
      "443/443 - 15s - loss: 0.2121 - accuracy: 0.7713 - val_loss: 0.2245 - val_accuracy: 0.7399\n",
      "Epoch 8/100\n",
      "443/443 - 15s - loss: 0.2056 - accuracy: 0.7926 - val_loss: 0.2261 - val_accuracy: 0.7222\n",
      "Epoch 9/100\n",
      "443/443 - 15s - loss: 0.1988 - accuracy: 0.8107 - val_loss: 0.2219 - val_accuracy: 0.7506\n",
      "Epoch 10/100\n",
      "443/443 - 14s - loss: 0.1925 - accuracy: 0.8275 - val_loss: 0.2196 - val_accuracy: 0.7546\n",
      "Epoch 11/100\n",
      "443/443 - 14s - loss: 0.1876 - accuracy: 0.8416 - val_loss: 0.2173 - val_accuracy: 0.7515\n",
      "Epoch 12/100\n",
      "443/443 - 14s - loss: 0.1819 - accuracy: 0.8577 - val_loss: 0.2197 - val_accuracy: 0.7599\n",
      "Epoch 13/100\n",
      "443/443 - 14s - loss: 0.1778 - accuracy: 0.8686 - val_loss: 0.2156 - val_accuracy: 0.7670\n",
      "Epoch 14/100\n",
      "443/443 - 14s - loss: 0.1743 - accuracy: 0.8784 - val_loss: 0.2177 - val_accuracy: 0.7577\n",
      "Epoch 15/100\n",
      "443/443 - 14s - loss: 0.1710 - accuracy: 0.8883 - val_loss: 0.2183 - val_accuracy: 0.7664\n",
      "Epoch 16/100\n",
      "443/443 - 14s - loss: 0.1685 - accuracy: 0.8897 - val_loss: 0.2231 - val_accuracy: 0.7467\n",
      "Epoch 17/100\n",
      "443/443 - 15s - loss: 0.1662 - accuracy: 0.8998 - val_loss: 0.2188 - val_accuracy: 0.7532\n",
      "Epoch 18/100\n",
      "443/443 - 14s - loss: 0.1644 - accuracy: 0.9018 - val_loss: 0.2136 - val_accuracy: 0.7692\n",
      "Epoch 19/100\n",
      "443/443 - 15s - loss: 0.1622 - accuracy: 0.9055 - val_loss: 0.2166 - val_accuracy: 0.7780\n",
      "Epoch 20/100\n",
      "443/443 - 14s - loss: 0.1611 - accuracy: 0.9079 - val_loss: 0.2162 - val_accuracy: 0.7642\n",
      "Epoch 21/100\n",
      "443/443 - 14s - loss: 0.1596 - accuracy: 0.9120 - val_loss: 0.2183 - val_accuracy: 0.7557\n",
      "Epoch 22/100\n",
      "443/443 - 14s - loss: 0.1578 - accuracy: 0.9137 - val_loss: 0.2183 - val_accuracy: 0.7619\n",
      "Epoch 23/100\n",
      "443/443 - 14s - loss: 0.1576 - accuracy: 0.9146 - val_loss: 0.2168 - val_accuracy: 0.7636\n",
      "Epoch 24/100\n",
      "443/443 - 14s - loss: 0.1566 - accuracy: 0.9110 - val_loss: 0.2172 - val_accuracy: 0.7613\n",
      "Epoch 25/100\n",
      "443/443 - 14s - loss: 0.1555 - accuracy: 0.9163 - val_loss: 0.2162 - val_accuracy: 0.7599\n",
      "Epoch 26/100\n",
      "443/443 - 14s - loss: 0.1542 - accuracy: 0.9165 - val_loss: 0.2223 - val_accuracy: 0.7644\n",
      "Epoch 27/100\n",
      "443/443 - 14s - loss: 0.1539 - accuracy: 0.9157 - val_loss: 0.2170 - val_accuracy: 0.7684\n",
      "Epoch 28/100\n",
      "443/443 - 14s - loss: 0.1528 - accuracy: 0.9182 - val_loss: 0.2168 - val_accuracy: 0.7757\n",
      "Epoch 29/100\n",
      "443/443 - 14s - loss: 0.1517 - accuracy: 0.9216 - val_loss: 0.2155 - val_accuracy: 0.7689\n",
      "Epoch 30/100\n",
      "443/443 - 14s - loss: 0.1514 - accuracy: 0.9217 - val_loss: 0.2184 - val_accuracy: 0.7647\n",
      "Epoch 31/100\n",
      "443/443 - 14s - loss: 0.1503 - accuracy: 0.9221 - val_loss: 0.2160 - val_accuracy: 0.7684\n",
      "Epoch 32/100\n",
      "443/443 - 15s - loss: 0.1499 - accuracy: 0.9225 - val_loss: 0.2165 - val_accuracy: 0.7704\n",
      "Epoch 33/100\n",
      "443/443 - 16s - loss: 0.1498 - accuracy: 0.9237 - val_loss: 0.2187 - val_accuracy: 0.7664\n",
      "Epoch 34/100\n",
      "443/443 - 14s - loss: 0.1487 - accuracy: 0.9254 - val_loss: 0.2193 - val_accuracy: 0.7684\n",
      "Epoch 35/100\n",
      "443/443 - 14s - loss: 0.1487 - accuracy: 0.9249 - val_loss: 0.2194 - val_accuracy: 0.7689\n",
      "Epoch 36/100\n",
      "443/443 - 15s - loss: 0.1476 - accuracy: 0.9273 - val_loss: 0.2246 - val_accuracy: 0.7698\n",
      "Epoch 37/100\n",
      "443/443 - 15s - loss: 0.1475 - accuracy: 0.9263 - val_loss: 0.2189 - val_accuracy: 0.7715\n",
      "Epoch 38/100\n",
      "443/443 - 15s - loss: 0.1468 - accuracy: 0.9291 - val_loss: 0.2173 - val_accuracy: 0.7768\n",
      "Epoch 39/100\n",
      "443/443 - 15s - loss: 0.1459 - accuracy: 0.9303 - val_loss: 0.2195 - val_accuracy: 0.7785\n",
      "Epoch 40/100\n",
      "443/443 - 14s - loss: 0.1457 - accuracy: 0.9308 - val_loss: 0.2197 - val_accuracy: 0.7760\n",
      "Epoch 41/100\n",
      "443/443 - 15s - loss: 0.1462 - accuracy: 0.9321 - val_loss: 0.2210 - val_accuracy: 0.7704\n",
      "Epoch 42/100\n",
      "443/443 - 14s - loss: 0.1449 - accuracy: 0.9318 - val_loss: 0.2209 - val_accuracy: 0.7791\n",
      "Epoch 43/100\n",
      "443/443 - 14s - loss: 0.1451 - accuracy: 0.9310 - val_loss: 0.2216 - val_accuracy: 0.7695\n",
      "Epoch 44/100\n",
      "443/443 - 14s - loss: 0.1448 - accuracy: 0.9345 - val_loss: 0.2209 - val_accuracy: 0.7799\n",
      "Epoch 45/100\n",
      "443/443 - 14s - loss: 0.1441 - accuracy: 0.9348 - val_loss: 0.2196 - val_accuracy: 0.7819\n",
      "Epoch 46/100\n",
      "443/443 - 14s - loss: 0.1439 - accuracy: 0.9356 - val_loss: 0.2216 - val_accuracy: 0.7797\n",
      "Epoch 47/100\n",
      "443/443 - 14s - loss: 0.1431 - accuracy: 0.9378 - val_loss: 0.2230 - val_accuracy: 0.7828\n",
      "Epoch 48/100\n",
      "443/443 - 14s - loss: 0.1435 - accuracy: 0.9374 - val_loss: 0.2211 - val_accuracy: 0.7782\n",
      "Epoch 49/100\n",
      "443/443 - 14s - loss: 0.1431 - accuracy: 0.9377 - val_loss: 0.2205 - val_accuracy: 0.7844\n",
      "Epoch 50/100\n",
      "443/443 - 14s - loss: 0.1428 - accuracy: 0.9366 - val_loss: 0.2213 - val_accuracy: 0.7771\n",
      "Epoch 51/100\n",
      "443/443 - 14s - loss: 0.1426 - accuracy: 0.9379 - val_loss: 0.2213 - val_accuracy: 0.7797\n",
      "Epoch 52/100\n",
      "443/443 - 14s - loss: 0.1422 - accuracy: 0.9392 - val_loss: 0.2239 - val_accuracy: 0.7853\n",
      "Epoch 53/100\n",
      "443/443 - 14s - loss: 0.1420 - accuracy: 0.9401 - val_loss: 0.2244 - val_accuracy: 0.7861\n",
      "Epoch 54/100\n",
      "443/443 - 14s - loss: 0.1419 - accuracy: 0.9404 - val_loss: 0.2236 - val_accuracy: 0.7830\n",
      "Epoch 55/100\n",
      "443/443 - 14s - loss: 0.1415 - accuracy: 0.9440 - val_loss: 0.2262 - val_accuracy: 0.7774\n",
      "Epoch 56/100\n",
      "443/443 - 14s - loss: 0.1421 - accuracy: 0.9397 - val_loss: 0.2252 - val_accuracy: 0.7805\n",
      "Epoch 57/100\n",
      "443/443 - 14s - loss: 0.1406 - accuracy: 0.9439 - val_loss: 0.2271 - val_accuracy: 0.7842\n",
      "Epoch 58/100\n",
      "443/443 - 14s - loss: 0.1412 - accuracy: 0.9445 - val_loss: 0.2260 - val_accuracy: 0.7766\n",
      "Epoch 59/100\n",
      "443/443 - 14s - loss: 0.1412 - accuracy: 0.9446 - val_loss: 0.2303 - val_accuracy: 0.7859\n",
      "Epoch 60/100\n",
      "443/443 - 14s - loss: 0.1408 - accuracy: 0.9452 - val_loss: 0.2272 - val_accuracy: 0.7816\n",
      "Epoch 61/100\n",
      "443/443 - 14s - loss: 0.1404 - accuracy: 0.9461 - val_loss: 0.2282 - val_accuracy: 0.7839\n",
      "Epoch 62/100\n",
      "443/443 - 14s - loss: 0.1405 - accuracy: 0.9469 - val_loss: 0.2283 - val_accuracy: 0.7777\n",
      "Epoch 63/100\n",
      "443/443 - 14s - loss: 0.1402 - accuracy: 0.9436 - val_loss: 0.2304 - val_accuracy: 0.7833\n",
      "Epoch 64/100\n",
      "443/443 - 14s - loss: 0.1400 - accuracy: 0.9460 - val_loss: 0.2329 - val_accuracy: 0.7870\n",
      "Epoch 65/100\n",
      "443/443 - 14s - loss: 0.1403 - accuracy: 0.9469 - val_loss: 0.2304 - val_accuracy: 0.7816\n",
      "Epoch 66/100\n",
      "443/443 - 13s - loss: 0.1401 - accuracy: 0.9481 - val_loss: 0.2307 - val_accuracy: 0.7808\n",
      "Epoch 67/100\n",
      "443/443 - 14s - loss: 0.1397 - accuracy: 0.9492 - val_loss: 0.2336 - val_accuracy: 0.7780\n",
      "Epoch 68/100\n",
      "443/443 - 14s - loss: 0.1394 - accuracy: 0.9477 - val_loss: 0.2327 - val_accuracy: 0.7746\n",
      "Epoch 69/100\n",
      "443/443 - 14s - loss: 0.1399 - accuracy: 0.9485 - val_loss: 0.2347 - val_accuracy: 0.7811\n",
      "Epoch 70/100\n",
      "443/443 - 14s - loss: 0.1393 - accuracy: 0.9493 - val_loss: 0.2429 - val_accuracy: 0.7844\n",
      "Epoch 71/100\n",
      "443/443 - 14s - loss: 0.1393 - accuracy: 0.9483 - val_loss: 0.2336 - val_accuracy: 0.7842\n",
      "Epoch 72/100\n",
      "443/443 - 14s - loss: 0.1390 - accuracy: 0.9483 - val_loss: 0.2351 - val_accuracy: 0.7892\n",
      "Epoch 73/100\n",
      "443/443 - 14s - loss: 0.1394 - accuracy: 0.9500 - val_loss: 0.2346 - val_accuracy: 0.7836\n",
      "Epoch 74/100\n",
      "443/443 - 14s - loss: 0.1389 - accuracy: 0.9496 - val_loss: 0.2373 - val_accuracy: 0.7802\n",
      "Epoch 75/100\n",
      "443/443 - 14s - loss: 0.1383 - accuracy: 0.9508 - val_loss: 0.2403 - val_accuracy: 0.7813\n",
      "Epoch 76/100\n",
      "443/443 - 14s - loss: 0.1394 - accuracy: 0.9506 - val_loss: 0.2401 - val_accuracy: 0.7898\n",
      "Epoch 77/100\n",
      "443/443 - 14s - loss: 0.1382 - accuracy: 0.9525 - val_loss: 0.2422 - val_accuracy: 0.7822\n",
      "Epoch 78/100\n",
      "443/443 - 14s - loss: 0.1389 - accuracy: 0.9513 - val_loss: 0.2386 - val_accuracy: 0.7847\n",
      "Epoch 79/100\n",
      "443/443 - 14s - loss: 0.1385 - accuracy: 0.9520 - val_loss: 0.2426 - val_accuracy: 0.7892\n",
      "Epoch 80/100\n",
      "443/443 - 14s - loss: 0.1379 - accuracy: 0.9520 - val_loss: 0.2409 - val_accuracy: 0.7825\n"
     ]
    },
    {
     "name": "stdout",
     "output_type": "stream",
     "text": [
      "Epoch 81/100\n",
      "443/443 - 14s - loss: 0.1382 - accuracy: 0.9507 - val_loss: 0.2476 - val_accuracy: 0.7861\n",
      "Epoch 82/100\n",
      "443/443 - 14s - loss: 0.1383 - accuracy: 0.9505 - val_loss: 0.2397 - val_accuracy: 0.7861\n",
      "Epoch 83/100\n",
      "443/443 - 14s - loss: 0.1380 - accuracy: 0.9516 - val_loss: 0.2450 - val_accuracy: 0.7836\n",
      "Epoch 84/100\n",
      "443/443 - 14s - loss: 0.1386 - accuracy: 0.9521 - val_loss: 0.2449 - val_accuracy: 0.7918\n",
      "Epoch 85/100\n",
      "443/443 - 14s - loss: 0.1373 - accuracy: 0.9540 - val_loss: 0.2465 - val_accuracy: 0.7816\n",
      "Epoch 86/100\n",
      "443/443 - 14s - loss: 0.1376 - accuracy: 0.9538 - val_loss: 0.2527 - val_accuracy: 0.7808\n",
      "Epoch 87/100\n",
      "443/443 - 14s - loss: 0.1383 - accuracy: 0.9536 - val_loss: 0.2493 - val_accuracy: 0.7884\n",
      "Epoch 88/100\n",
      "443/443 - 14s - loss: 0.1379 - accuracy: 0.9535 - val_loss: 0.2463 - val_accuracy: 0.7785\n",
      "Epoch 89/100\n",
      "443/443 - 14s - loss: 0.1373 - accuracy: 0.9550 - val_loss: 0.2520 - val_accuracy: 0.7777\n",
      "Epoch 90/100\n",
      "443/443 - 14s - loss: 0.1376 - accuracy: 0.9560 - val_loss: 0.2495 - val_accuracy: 0.7875\n",
      "Epoch 91/100\n",
      "443/443 - 14s - loss: 0.1377 - accuracy: 0.9538 - val_loss: 0.2585 - val_accuracy: 0.7864\n",
      "Epoch 92/100\n",
      "443/443 - 14s - loss: 0.1377 - accuracy: 0.9552 - val_loss: 0.2554 - val_accuracy: 0.7875\n",
      "Epoch 93/100\n",
      "443/443 - 14s - loss: 0.1374 - accuracy: 0.9548 - val_loss: 0.2524 - val_accuracy: 0.7844\n",
      "Epoch 94/100\n",
      "443/443 - 14s - loss: 0.1373 - accuracy: 0.9552 - val_loss: 0.2549 - val_accuracy: 0.7895\n",
      "Epoch 95/100\n",
      "443/443 - 14s - loss: 0.1370 - accuracy: 0.9572 - val_loss: 0.2539 - val_accuracy: 0.7844\n",
      "Epoch 96/100\n",
      "443/443 - 14s - loss: 0.1370 - accuracy: 0.9566 - val_loss: 0.2571 - val_accuracy: 0.7861\n",
      "Epoch 97/100\n",
      "443/443 - 14s - loss: 0.1372 - accuracy: 0.9565 - val_loss: 0.2561 - val_accuracy: 0.7763\n",
      "Epoch 98/100\n",
      "443/443 - 14s - loss: 0.1365 - accuracy: 0.9575 - val_loss: 0.2592 - val_accuracy: 0.7802\n",
      "Epoch 99/100\n",
      "443/443 - 14s - loss: 0.1381 - accuracy: 0.9545 - val_loss: 0.2568 - val_accuracy: 0.7839\n",
      "Epoch 100/100\n",
      "443/443 - 14s - loss: 0.1367 - accuracy: 0.9566 - val_loss: 0.2641 - val_accuracy: 0.7867\n"
     ]
    }
   ],
   "source": [
    "# to do: set epoches to 100\n",
    "history = fit_model(model2, 64, 100, False, x_train, y_train, x_val, y_val, x_test)"
   ]
  },
  {
   "cell_type": "markdown",
   "metadata": {},
   "source": [
    "Now we're going to test our model using the test set for the model."
   ]
  },
  {
   "cell_type": "code",
   "execution_count": 18,
   "metadata": {},
   "outputs": [
    {
     "name": "stdout",
     "output_type": "stream",
     "text": [
      "56/56 [==============================] - 1s 10ms/step - loss: 0.2610 - accuracy: 0.7785\n"
     ]
    }
   ],
   "source": [
    "test_loss, test_acc = evaluate_model(model2, x_test, y_test,  64)"
   ]
  },
  {
   "cell_type": "code",
   "execution_count": 19,
   "metadata": {},
   "outputs": [
    {
     "name": "stdout",
     "output_type": "stream",
     "text": [
      "Test loss: 0.2610\n",
      "Test accuracy: 0.7785\n"
     ]
    }
   ],
   "source": [
    "print(f\"Test loss: {test_loss:.4f}\")\n",
    "print(f\"Test accuracy: {test_acc:.4f}\")"
   ]
  },
  {
   "cell_type": "code",
   "execution_count": 20,
   "metadata": {},
   "outputs": [
    {
     "data": {
      "image/png": "[encoded data removed]",
      "text/plain": [
       "<Figure size 432x288 with 1 Axes>"
      ]
     },
     "metadata": {
      "needs_background": "light"
     },
     "output_type": "display_data"
    },
    {
     "data": {
      "image/png": "[encoded data removed]",
      "text/plain": [
       "<Figure size 432x288 with 1 Axes>"
      ]
     },
     "metadata": {
      "needs_background": "light"
     },
     "output_type": "display_data"
    }
   ],
   "source": [
    "plot_acc_loss(history)"
   ]
  },
  {
   "cell_type": "code",
   "execution_count": 21,
   "metadata": {},
   "outputs": [],
   "source": [
    "## bespreek de resultaten van deze train"
   ]
  },
  {
   "cell_type": "markdown",
   "metadata": {},
   "source": [
    "The results are going beter, next we are going to try to add some argumentation to the data. That could help our model to leren more. You can find the file where the data has been argumendated right hier fix it!"
   ]
  },
  {
   "cell_type": "markdown",
   "metadata": {},
   "source": [
    "## Augment data"
   ]
  },
  {
   "cell_type": "markdown",
   "metadata": {},
   "source": [
    "We split the data again"
   ]
  },
  {
   "cell_type": "code",
   "execution_count": 22,
   "metadata": {},
   "outputs": [],
   "source": [
    "datagen,x_train_arg, y_train_arg, x_val_arg, y_val_arg, x_test_arg, y_test_arg = cPickle.load(bz2.BZ2File('ferPlus_augment', 'rb'))"
   ]
  },
  {
   "cell_type": "markdown",
   "metadata": {},
   "source": [
    "Now we are going to just fit the model using this data."
   ]
  },
  {
   "cell_type": "code",
   "execution_count": 23,
   "metadata": {},
   "outputs": [
    {
     "name": "stdout",
     "output_type": "stream",
     "text": [
      "Epoch 1/100\n",
      "443/443 - 16s - loss: 0.2438 - accuracy: 0.7074 - val_loss: 0.2098 - val_accuracy: 0.7718\n",
      "Epoch 2/100\n",
      "443/443 - 15s - loss: 0.2238 - accuracy: 0.7385 - val_loss: 0.2063 - val_accuracy: 0.7822\n",
      "Epoch 3/100\n",
      "443/443 - 15s - loss: 0.2180 - accuracy: 0.7540 - val_loss: 0.2056 - val_accuracy: 0.7830\n",
      "Epoch 4/100\n",
      "443/443 - 14s - loss: 0.2141 - accuracy: 0.7637 - val_loss: 0.2041 - val_accuracy: 0.7864\n",
      "Epoch 5/100\n",
      "443/443 - 15s - loss: 0.2117 - accuracy: 0.7706 - val_loss: 0.2045 - val_accuracy: 0.7904\n",
      "Epoch 6/100\n",
      "443/443 - 15s - loss: 0.2088 - accuracy: 0.7765 - val_loss: 0.1989 - val_accuracy: 0.7980\n",
      "Epoch 7/100\n",
      "443/443 - 15s - loss: 0.2074 - accuracy: 0.7784 - val_loss: 0.2027 - val_accuracy: 0.7923\n",
      "Epoch 8/100\n",
      "443/443 - 14s - loss: 0.2059 - accuracy: 0.7854 - val_loss: 0.2020 - val_accuracy: 0.7943\n",
      "Epoch 9/100\n",
      "443/443 - 15s - loss: 0.2043 - accuracy: 0.7870 - val_loss: 0.1987 - val_accuracy: 0.8014\n",
      "Epoch 10/100\n",
      "443/443 - 14s - loss: 0.2033 - accuracy: 0.7886 - val_loss: 0.1997 - val_accuracy: 0.7935\n",
      "Epoch 11/100\n",
      "443/443 - 14s - loss: 0.2019 - accuracy: 0.7925 - val_loss: 0.1983 - val_accuracy: 0.8008\n",
      "Epoch 12/100\n",
      "443/443 - 14s - loss: 0.2006 - accuracy: 0.7952 - val_loss: 0.1973 - val_accuracy: 0.8033\n",
      "Epoch 13/100\n",
      "443/443 - 15s - loss: 0.1992 - accuracy: 0.8000 - val_loss: 0.1967 - val_accuracy: 0.8152\n",
      "Epoch 14/100\n",
      "443/443 - 15s - loss: 0.1978 - accuracy: 0.8027 - val_loss: 0.1963 - val_accuracy: 0.8104\n",
      "Epoch 15/100\n",
      "443/443 - 15s - loss: 0.1978 - accuracy: 0.8024 - val_loss: 0.1957 - val_accuracy: 0.8087\n",
      "Epoch 16/100\n",
      "443/443 - 15s - loss: 0.1968 - accuracy: 0.8063 - val_loss: 0.1954 - val_accuracy: 0.8050\n",
      "Epoch 17/100\n",
      "443/443 - 16s - loss: 0.1958 - accuracy: 0.8086 - val_loss: 0.1962 - val_accuracy: 0.8109\n",
      "Epoch 18/100\n",
      "443/443 - 17s - loss: 0.1956 - accuracy: 0.8112 - val_loss: 0.1961 - val_accuracy: 0.8090\n",
      "Epoch 19/100\n",
      "443/443 - 16s - loss: 0.1952 - accuracy: 0.8080 - val_loss: 0.1961 - val_accuracy: 0.8067\n",
      "Epoch 20/100\n",
      "443/443 - 15s - loss: 0.1935 - accuracy: 0.8183 - val_loss: 0.1937 - val_accuracy: 0.8121\n",
      "Epoch 21/100\n",
      "443/443 - 15s - loss: 0.1935 - accuracy: 0.8152 - val_loss: 0.1950 - val_accuracy: 0.8033\n",
      "Epoch 22/100\n",
      "443/443 - 15s - loss: 0.1922 - accuracy: 0.8180 - val_loss: 0.1946 - val_accuracy: 0.8149\n",
      "Epoch 23/100\n",
      "443/443 - 16s - loss: 0.1915 - accuracy: 0.8230 - val_loss: 0.1942 - val_accuracy: 0.8149\n",
      "Epoch 24/100\n",
      "443/443 - 14s - loss: 0.1918 - accuracy: 0.8189 - val_loss: 0.1921 - val_accuracy: 0.8247\n",
      "Epoch 25/100\n",
      "443/443 - 14s - loss: 0.1908 - accuracy: 0.8218 - val_loss: 0.1936 - val_accuracy: 0.8149\n",
      "Epoch 26/100\n",
      "443/443 - 14s - loss: 0.1902 - accuracy: 0.8252 - val_loss: 0.1919 - val_accuracy: 0.8171\n",
      "Epoch 27/100\n",
      "443/443 - 14s - loss: 0.1899 - accuracy: 0.8258 - val_loss: 0.1899 - val_accuracy: 0.8307\n",
      "Epoch 28/100\n",
      "443/443 - 14s - loss: 0.1894 - accuracy: 0.8255 - val_loss: 0.1917 - val_accuracy: 0.8270\n",
      "Epoch 29/100\n",
      "443/443 - 14s - loss: 0.1890 - accuracy: 0.8298 - val_loss: 0.1900 - val_accuracy: 0.8264\n",
      "Epoch 30/100\n",
      "443/443 - 14s - loss: 0.1884 - accuracy: 0.8289 - val_loss: 0.1957 - val_accuracy: 0.8092\n",
      "Epoch 31/100\n",
      "443/443 - 14s - loss: 0.1878 - accuracy: 0.8278 - val_loss: 0.1901 - val_accuracy: 0.8267\n",
      "Epoch 32/100\n",
      "443/443 - 14s - loss: 0.1874 - accuracy: 0.8335 - val_loss: 0.1920 - val_accuracy: 0.8202\n",
      "Epoch 33/100\n",
      "443/443 - 13s - loss: 0.1876 - accuracy: 0.8301 - val_loss: 0.1925 - val_accuracy: 0.8166\n",
      "Epoch 34/100\n",
      "443/443 - 14s - loss: 0.1869 - accuracy: 0.8314 - val_loss: 0.1923 - val_accuracy: 0.8118\n",
      "Epoch 35/100\n",
      "443/443 - 13s - loss: 0.1867 - accuracy: 0.8322 - val_loss: 0.1904 - val_accuracy: 0.8211\n",
      "Epoch 36/100\n",
      "443/443 - 14s - loss: 0.1863 - accuracy: 0.8350 - val_loss: 0.1903 - val_accuracy: 0.8222\n",
      "Epoch 37/100\n",
      "443/443 - 14s - loss: 0.1855 - accuracy: 0.8387 - val_loss: 0.1923 - val_accuracy: 0.8171\n",
      "Epoch 38/100\n",
      "443/443 - 13s - loss: 0.1850 - accuracy: 0.8402 - val_loss: 0.1894 - val_accuracy: 0.8197\n",
      "Epoch 39/100\n",
      "443/443 - 14s - loss: 0.1843 - accuracy: 0.8400 - val_loss: 0.1920 - val_accuracy: 0.8236\n",
      "Epoch 40/100\n",
      "443/443 - 14s - loss: 0.1843 - accuracy: 0.8397 - val_loss: 0.1914 - val_accuracy: 0.8205\n",
      "Epoch 41/100\n",
      "443/443 - 14s - loss: 0.1838 - accuracy: 0.8422 - val_loss: 0.1895 - val_accuracy: 0.8318\n",
      "Epoch 42/100\n",
      "443/443 - 14s - loss: 0.1840 - accuracy: 0.8414 - val_loss: 0.1900 - val_accuracy: 0.8228\n",
      "Epoch 43/100\n",
      "443/443 - 14s - loss: 0.1833 - accuracy: 0.8428 - val_loss: 0.1890 - val_accuracy: 0.8273\n",
      "Epoch 44/100\n",
      "443/443 - 14s - loss: 0.1830 - accuracy: 0.8429 - val_loss: 0.1881 - val_accuracy: 0.8318\n",
      "Epoch 45/100\n",
      "443/443 - 14s - loss: 0.1832 - accuracy: 0.8432 - val_loss: 0.1882 - val_accuracy: 0.8264\n",
      "Epoch 46/100\n",
      "443/443 - 14s - loss: 0.1828 - accuracy: 0.8441 - val_loss: 0.1908 - val_accuracy: 0.8284\n",
      "Epoch 47/100\n",
      "443/443 - 14s - loss: 0.1824 - accuracy: 0.8467 - val_loss: 0.1888 - val_accuracy: 0.8321\n",
      "Epoch 48/100\n",
      "443/443 - 14s - loss: 0.1817 - accuracy: 0.8489 - val_loss: 0.1886 - val_accuracy: 0.8270\n",
      "Epoch 49/100\n",
      "443/443 - 14s - loss: 0.1817 - accuracy: 0.8481 - val_loss: 0.1889 - val_accuracy: 0.8346\n",
      "Epoch 50/100\n",
      "443/443 - 14s - loss: 0.1812 - accuracy: 0.8480 - val_loss: 0.1883 - val_accuracy: 0.8329\n",
      "Epoch 51/100\n",
      "443/443 - 14s - loss: 0.1809 - accuracy: 0.8475 - val_loss: 0.1892 - val_accuracy: 0.8346\n",
      "Epoch 52/100\n",
      "443/443 - 14s - loss: 0.1806 - accuracy: 0.8508 - val_loss: 0.1905 - val_accuracy: 0.8239\n",
      "Epoch 53/100\n",
      "443/443 - 14s - loss: 0.1809 - accuracy: 0.8500 - val_loss: 0.1889 - val_accuracy: 0.8292\n",
      "Epoch 54/100\n",
      "443/443 - 14s - loss: 0.1805 - accuracy: 0.8499 - val_loss: 0.1917 - val_accuracy: 0.8163\n",
      "Epoch 55/100\n",
      "443/443 - 14s - loss: 0.1801 - accuracy: 0.8508 - val_loss: 0.1897 - val_accuracy: 0.8273\n",
      "Epoch 56/100\n",
      "443/443 - 14s - loss: 0.1801 - accuracy: 0.8527 - val_loss: 0.1899 - val_accuracy: 0.8160\n",
      "Epoch 57/100\n",
      "443/443 - 14s - loss: 0.1794 - accuracy: 0.8564 - val_loss: 0.1868 - val_accuracy: 0.8363\n",
      "Epoch 58/100\n",
      "443/443 - 14s - loss: 0.1791 - accuracy: 0.8536 - val_loss: 0.1879 - val_accuracy: 0.8292\n",
      "Epoch 59/100\n",
      "443/443 - 14s - loss: 0.1788 - accuracy: 0.8579 - val_loss: 0.1901 - val_accuracy: 0.8211\n",
      "Epoch 60/100\n",
      "443/443 - 14s - loss: 0.1788 - accuracy: 0.8570 - val_loss: 0.1883 - val_accuracy: 0.8346\n",
      "Epoch 61/100\n",
      "443/443 - 14s - loss: 0.1788 - accuracy: 0.8560 - val_loss: 0.1880 - val_accuracy: 0.8360\n",
      "Epoch 62/100\n",
      "443/443 - 14s - loss: 0.1782 - accuracy: 0.8580 - val_loss: 0.1879 - val_accuracy: 0.8383\n",
      "Epoch 63/100\n",
      "443/443 - 14s - loss: 0.1782 - accuracy: 0.8604 - val_loss: 0.1866 - val_accuracy: 0.8357\n",
      "Epoch 64/100\n",
      "443/443 - 15s - loss: 0.1780 - accuracy: 0.8596 - val_loss: 0.1865 - val_accuracy: 0.8385\n",
      "Epoch 65/100\n",
      "443/443 - 14s - loss: 0.1778 - accuracy: 0.8573 - val_loss: 0.1872 - val_accuracy: 0.8383\n",
      "Epoch 66/100\n",
      "443/443 - 14s - loss: 0.1778 - accuracy: 0.8587 - val_loss: 0.1876 - val_accuracy: 0.8281\n",
      "Epoch 67/100\n",
      "443/443 - 14s - loss: 0.1776 - accuracy: 0.8594 - val_loss: 0.1887 - val_accuracy: 0.8253\n",
      "Epoch 68/100\n",
      "443/443 - 14s - loss: 0.1770 - accuracy: 0.8588 - val_loss: 0.1870 - val_accuracy: 0.8329\n",
      "Epoch 69/100\n",
      "443/443 - 14s - loss: 0.1768 - accuracy: 0.8607 - val_loss: 0.1884 - val_accuracy: 0.8276\n",
      "Epoch 70/100\n",
      "443/443 - 14s - loss: 0.1770 - accuracy: 0.8611 - val_loss: 0.1879 - val_accuracy: 0.8270\n",
      "Epoch 71/100\n",
      "443/443 - 14s - loss: 0.1767 - accuracy: 0.8629 - val_loss: 0.1877 - val_accuracy: 0.8256\n",
      "Epoch 72/100\n",
      "443/443 - 14s - loss: 0.1762 - accuracy: 0.8595 - val_loss: 0.1876 - val_accuracy: 0.8250\n",
      "Epoch 73/100\n",
      "443/443 - 14s - loss: 0.1760 - accuracy: 0.8659 - val_loss: 0.1856 - val_accuracy: 0.8369\n",
      "Epoch 74/100\n",
      "443/443 - 15s - loss: 0.1757 - accuracy: 0.8641 - val_loss: 0.1873 - val_accuracy: 0.8363\n",
      "Epoch 75/100\n",
      "443/443 - 14s - loss: 0.1757 - accuracy: 0.8620 - val_loss: 0.1869 - val_accuracy: 0.8397\n",
      "Epoch 76/100\n",
      "443/443 - 14s - loss: 0.1756 - accuracy: 0.8650 - val_loss: 0.1872 - val_accuracy: 0.8352\n",
      "Epoch 77/100\n",
      "443/443 - 14s - loss: 0.1751 - accuracy: 0.8696 - val_loss: 0.1867 - val_accuracy: 0.8307\n",
      "Epoch 78/100\n",
      "443/443 - 14s - loss: 0.1754 - accuracy: 0.8645 - val_loss: 0.1895 - val_accuracy: 0.8230\n",
      "Epoch 79/100\n",
      "443/443 - 14s - loss: 0.1751 - accuracy: 0.8656 - val_loss: 0.1879 - val_accuracy: 0.8219\n",
      "Epoch 80/100\n",
      "443/443 - 15s - loss: 0.1748 - accuracy: 0.8683 - val_loss: 0.1861 - val_accuracy: 0.8363\n"
     ]
    },
    {
     "name": "stdout",
     "output_type": "stream",
     "text": [
      "Epoch 81/100\n",
      "443/443 - 14s - loss: 0.1746 - accuracy: 0.8684 - val_loss: 0.1884 - val_accuracy: 0.8312\n",
      "Epoch 82/100\n",
      "443/443 - 14s - loss: 0.1745 - accuracy: 0.8697 - val_loss: 0.1860 - val_accuracy: 0.8366\n",
      "Epoch 83/100\n",
      "443/443 - 15s - loss: 0.1744 - accuracy: 0.8682 - val_loss: 0.1884 - val_accuracy: 0.8174\n",
      "Epoch 84/100\n",
      "443/443 - 15s - loss: 0.1745 - accuracy: 0.8701 - val_loss: 0.1853 - val_accuracy: 0.8377\n",
      "Epoch 85/100\n",
      "443/443 - 14s - loss: 0.1737 - accuracy: 0.8703 - val_loss: 0.1865 - val_accuracy: 0.8385\n",
      "Epoch 86/100\n",
      "443/443 - 14s - loss: 0.1740 - accuracy: 0.8699 - val_loss: 0.1873 - val_accuracy: 0.8307\n",
      "Epoch 87/100\n",
      "443/443 - 15s - loss: 0.1736 - accuracy: 0.8706 - val_loss: 0.1855 - val_accuracy: 0.8284\n",
      "Epoch 88/100\n",
      "443/443 - 15s - loss: 0.1736 - accuracy: 0.8685 - val_loss: 0.1882 - val_accuracy: 0.8205\n",
      "Epoch 89/100\n",
      "443/443 - 15s - loss: 0.1733 - accuracy: 0.8671 - val_loss: 0.1869 - val_accuracy: 0.8360\n",
      "Epoch 90/100\n",
      "443/443 - 15s - loss: 0.1732 - accuracy: 0.8715 - val_loss: 0.1873 - val_accuracy: 0.8323\n",
      "Epoch 91/100\n",
      "443/443 - 15s - loss: 0.1734 - accuracy: 0.8703 - val_loss: 0.1856 - val_accuracy: 0.8309\n",
      "Epoch 92/100\n",
      "443/443 - 15s - loss: 0.1730 - accuracy: 0.8744 - val_loss: 0.1853 - val_accuracy: 0.8433\n",
      "Epoch 93/100\n",
      "443/443 - 15s - loss: 0.1726 - accuracy: 0.8711 - val_loss: 0.1857 - val_accuracy: 0.8445\n",
      "Epoch 94/100\n",
      "443/443 - 15s - loss: 0.1727 - accuracy: 0.8758 - val_loss: 0.1865 - val_accuracy: 0.8309\n",
      "Epoch 95/100\n",
      "443/443 - 14s - loss: 0.1727 - accuracy: 0.8719 - val_loss: 0.1863 - val_accuracy: 0.8335\n",
      "Epoch 96/100\n",
      "443/443 - 14s - loss: 0.1721 - accuracy: 0.8756 - val_loss: 0.1864 - val_accuracy: 0.8363\n",
      "Epoch 97/100\n",
      "443/443 - 14s - loss: 0.1723 - accuracy: 0.8739 - val_loss: 0.1872 - val_accuracy: 0.8338\n",
      "Epoch 98/100\n",
      "443/443 - 15s - loss: 0.1717 - accuracy: 0.8760 - val_loss: 0.1872 - val_accuracy: 0.8298\n",
      "Epoch 99/100\n",
      "443/443 - 15s - loss: 0.1720 - accuracy: 0.8750 - val_loss: 0.1862 - val_accuracy: 0.8354\n",
      "Epoch 100/100\n",
      "443/443 - 15s - loss: 0.1717 - accuracy: 0.8759 - val_loss: 0.1860 - val_accuracy: 0.8346\n"
     ]
    }
   ],
   "source": [
    "history = fit_model(model2, 64, 100, True, datagen, x_train, y_train, x_val, y_val, x_test)"
   ]
  },
  {
   "cell_type": "markdown",
   "metadata": {},
   "source": [
    "Now we're going to test our model using the test set for the model."
   ]
  },
  {
   "cell_type": "code",
   "execution_count": 24,
   "metadata": {},
   "outputs": [
    {
     "name": "stdout",
     "output_type": "stream",
     "text": [
      "56/56 [==============================] - 1s 10ms/step - loss: 0.1864 - accuracy: 0.8307\n"
     ]
    }
   ],
   "source": [
    "test_loss, test_acc = evaluate_model(model2, x_test, y_test,  64)"
   ]
  },
  {
   "cell_type": "code",
   "execution_count": 25,
   "metadata": {},
   "outputs": [
    {
     "name": "stdout",
     "output_type": "stream",
     "text": [
      "Test loss: 0.1864\n",
      "Test accuracy: 0.8307\n"
     ]
    }
   ],
   "source": [
    "print(f\"Test loss: {test_loss:.4f}\")\n",
    "print(f\"Test accuracy: {test_acc:.4f}\")"
   ]
  },
  {
   "cell_type": "code",
   "execution_count": 26,
   "metadata": {},
   "outputs": [
    {
     "data": {
      "image/png": "[encoded data removed]",
      "text/plain": [
       "<Figure size 432x288 with 1 Axes>"
      ]
     },
     "metadata": {
      "needs_background": "light"
     },
     "output_type": "display_data"
    },
    {
     "data": {
      "image/png": "[encoded data removed]",
      "text/plain": [
       "<Figure size 432x288 with 1 Axes>"
      ]
     },
     "metadata": {
      "needs_background": "light"
     },
     "output_type": "display_data"
    }
   ],
   "source": [
    "plot_acc_loss(history)"
   ]
  },
  {
   "cell_type": "code",
   "execution_count": 28,
   "metadata": {},
   "outputs": [
    {
     "name": "stdout",
     "output_type": "stream",
     "text": [
      "INFO:tensorflow:Assets written to: saved_all_model8306\\assets\n",
      "Model is saved in a file.\n"
     ]
    }
   ],
   "source": [
    "save_all_model(model2, test_acc)"
   ]
  },
  {
   "cell_type": "code",
   "execution_count": 27,
   "metadata": {},
   "outputs": [],
   "source": [
    "## bespreek de resultaten van deze train"
   ]
  },
  {
   "cell_type": "markdown",
   "metadata": {},
   "source": [
    "## Conclusion\n"
   ]
  },
  {
   "cell_type": "markdown",
   "metadata": {},
   "source": []
  }
 ],
 "metadata": {
  "kernelspec": {
   "display_name": "Python 3",
   "language": "python",
   "name": "python3"
  },
  "language_info": {
   "codemirror_mode": {
    "name": "ipython",
    "version": 3
   },
   "file_extension": ".py",
   "mimetype": "text/x-python",
   "name": "python",
   "nbconvert_exporter": "python",
   "pygments_lexer": "ipython3",
   "version": "3.7.6"
  }
 },
 "nbformat": 4,
 "nbformat_minor": 4
}
