{
 "cells": [
  {
   "cell_type": "markdown",
   "metadata": {},
   "source": [
    "# Analyse and run models using FerPlus dataset"
   ]
  },
  {
   "cell_type": "markdown",
   "metadata": {},
   "source": [
    "In this notebook we are going to build, test, analyze and compare the model with the previous versions. This is followed by improvements to the model and the data. We run this cycle a few times until we achieve realistic and nice results.\n",
    "\n",
    "This model has been build in [this](https://github.com/BB8-2020/EmpathicRobot/tree/main/models/classification_model) file. \n",
    "\n",
    "If you have any quesentions about this notebook, you can send us a mail at maria.dukmak@student.hu.nl"
   ]
  },
  {
   "cell_type": "code",
   "execution_count": 1,
   "metadata": {},
   "outputs": [],
   "source": [
    "import sys\n",
    "# You need to change this path to your project path\n",
    "sys.path.append('/Users/storm/OneDrive/Documenten/HU/Jaar_2/BB8/EmpathicRobot')\n",
    "from conv_model import *\n",
    "from models.functions import *\n",
    "from tensorflow.keras import Sequential"
   ]
  },
  {
   "cell_type": "markdown",
   "metadata": {},
   "source": [
    "## Read data\n",
    "As we have done before, our data is ready to use. In this section we will use **ferPlus** to train the model. This data has already been read, prepared and stored in [this](https://github.com/BB8-2020/EmpathicRobot/tree/main/data) file.\n",
    "For now, our data is in a pickel file that we will read as follows:\n",
    "\n",
    "For simplicity, we set up the path to the data as follows, you can also set it to your own path."
   ]
  },
  {
   "cell_type": "code",
   "execution_count": 2,
   "metadata": {},
   "outputs": [],
   "source": [
    "os.chdir(os.getcwd() + '/data/')"
   ]
  },
  {
   "cell_type": "markdown",
   "metadata": {},
   "source": [
    "We immediately split the data into train, test and validation set."
   ]
  },
  {
   "cell_type": "code",
   "execution_count": 3,
   "metadata": {},
   "outputs": [],
   "source": [
    "x_train, y_train, x_val, y_val, x_test, y_test = read_data(str('ferPlus_processed'))"
   ]
  },
  {
   "cell_type": "markdown",
   "metadata": {},
   "source": [
    "As we see, the data consists of train set that contains 80% of the data. The validation and the test set are equal in size 20% and are used to subsequently test the model.\n",
    "\n",
    "This data has already been cleaned and normalized so we don't have to do anything with the data anymore."
   ]
  },
  {
   "cell_type": "code",
   "execution_count": 4,
   "metadata": {},
   "outputs": [
    {
     "name": "stdout",
     "output_type": "stream",
     "text": [
      "Train set: X_train shape:(28390, 48, 48, 1) Y_train shape:(28390, 7)\n",
      "Test set: X_test shape:(3549, 48, 48, 1) Y_test shape:(3549, 7)\n",
      "Validation set: X_val shape:(3549, 48, 48, 1) Y_val shape:(3549, 7)\n"
     ]
    }
   ],
   "source": [
    "print(f\"Train set: X_train shape:{x_train.shape} Y_train shape:{y_train.shape}\")\n",
    "\n",
    "print(f\"Test set: X_test shape:{x_test.shape} Y_test shape:{y_test.shape}\")\n",
    "\n",
    "print(f\"Validation set: X_val shape:{x_val.shape} Y_val shape:{y_val.shape}\")"
   ]
  },
  {
   "cell_type": "markdown",
   "metadata": {},
   "source": [
    "## Models"
   ]
  },
  {
   "cell_type": "code",
   "execution_count": 5,
   "metadata": {},
   "outputs": [],
   "source": [
    "# We create all the models that we got \n",
    "models = build_models(input_shape=(48, 48, 1), num_classes=7)"
   ]
  },
  {
   "cell_type": "markdown",
   "metadata": {},
   "source": [
    "### Model version 1 "
   ]
  },
  {
   "cell_type": "markdown",
   "metadata": {},
   "source": [
    "Now it is finally time to start working on the model. We are going to start with the following model:"
   ]
  },
  {
   "cell_type": "code",
   "execution_count": 6,
   "metadata": {},
   "outputs": [],
   "source": [
    "model1 = Sequential(models[0]['layers'], name = models[0]['name'])"
   ]
  },
  {
   "cell_type": "markdown",
   "metadata": {},
   "source": [
    "Let's check the summary out:"
   ]
  },
  {
   "cell_type": "code",
   "execution_count": 7,
   "metadata": {},
   "outputs": [
    {
     "name": "stdout",
     "output_type": "stream",
     "text": [
      "Model: \"Version_1\"\n",
      "_________________________________________________________________\n",
      "Layer (type)                 Output Shape              Param #   \n",
      "=================================================================\n",
      "conv2d (Conv2D)              (None, 46, 46, 64)        640       \n",
      "_________________________________________________________________\n",
      "batch_normalization (BatchNo (None, 46, 46, 64)        256       \n",
      "_________________________________________________________________\n",
      "dropout (Dropout)            (None, 46, 46, 64)        0         \n",
      "_________________________________________________________________\n",
      "conv2d_1 (Conv2D)            (None, 44, 44, 64)        36928     \n",
      "_________________________________________________________________\n",
      "max_pooling2d (MaxPooling2D) (None, 22, 22, 64)        0         \n",
      "_________________________________________________________________\n",
      "conv2d_2 (Conv2D)            (None, 20, 20, 128)       73856     \n",
      "_________________________________________________________________\n",
      "batch_normalization_1 (Batch (None, 20, 20, 128)       512       \n",
      "_________________________________________________________________\n",
      "conv2d_3 (Conv2D)            (None, 18, 18, 128)       147584    \n",
      "_________________________________________________________________\n",
      "max_pooling2d_1 (MaxPooling2 (None, 9, 9, 128)         0         \n",
      "_________________________________________________________________\n",
      "conv2d_4 (Conv2D)            (None, 7, 7, 256)         295168    \n",
      "_________________________________________________________________\n",
      "batch_normalization_2 (Batch (None, 7, 7, 256)         1024      \n",
      "_________________________________________________________________\n",
      "flatten (Flatten)            (None, 12544)             0         \n",
      "_________________________________________________________________\n",
      "dense (Dense)                (None, 1024)              12846080  \n",
      "_________________________________________________________________\n",
      "dropout_1 (Dropout)          (None, 1024)              0         \n",
      "_________________________________________________________________\n",
      "dense_1 (Dense)              (None, 1024)              1049600   \n",
      "_________________________________________________________________\n",
      "dropout_2 (Dropout)          (None, 1024)              0         \n",
      "_________________________________________________________________\n",
      "dense_2 (Dense)              (None, 7)                 7175      \n",
      "=================================================================\n",
      "Total params: 14,458,823\n",
      "Trainable params: 14,457,927\n",
      "Non-trainable params: 896\n",
      "_________________________________________________________________\n"
     ]
    }
   ],
   "source": [
    "model1.summary()"
   ]
  },
  {
   "cell_type": "markdown",
   "metadata": {},
   "source": [
    "Looks good, time to compile!"
   ]
  },
  {
   "cell_type": "markdown",
   "metadata": {},
   "source": [
    "### Compile and train"
   ]
  },
  {
   "cell_type": "markdown",
   "metadata": {},
   "source": [
    "To compile the model we use Adam optimaizer and binary crossentropy as los function. Let us now train the model."
   ]
  },
  {
   "cell_type": "code",
   "execution_count": 8,
   "metadata": {},
   "outputs": [],
   "source": [
    "compile_model(model1)"
   ]
  },
  {
   "cell_type": "code",
   "execution_count": 9,
   "metadata": {
    "scrolled": true
   },
   "outputs": [
    {
     "name": "stdout",
     "output_type": "stream",
     "text": [
      "Epoch 1/70\n",
      "443/443 - 14s - loss: 0.3207 - accuracy: 0.5202 - val_loss: 0.3386 - val_accuracy: 0.4534\n",
      "Epoch 2/70\n",
      "443/443 - 12s - loss: 0.2713 - accuracy: 0.6273 - val_loss: 0.2679 - val_accuracy: 0.6314\n",
      "Epoch 3/70\n",
      "443/443 - 11s - loss: 0.2468 - accuracy: 0.6911 - val_loss: 0.2452 - val_accuracy: 0.6901\n",
      "Epoch 4/70\n",
      "443/443 - 11s - loss: 0.2270 - accuracy: 0.7435 - val_loss: 0.2392 - val_accuracy: 0.7010\n",
      "Epoch 5/70\n",
      "443/443 - 11s - loss: 0.2117 - accuracy: 0.7837 - val_loss: 0.2343 - val_accuracy: 0.7160\n",
      "Epoch 6/70\n",
      "443/443 - 11s - loss: 0.1984 - accuracy: 0.8233 - val_loss: 0.2273 - val_accuracy: 0.7346\n",
      "Epoch 7/70\n",
      "443/443 - 11s - loss: 0.1871 - accuracy: 0.8553 - val_loss: 0.2266 - val_accuracy: 0.7402\n",
      "Epoch 8/70\n",
      "443/443 - 11s - loss: 0.1783 - accuracy: 0.8733 - val_loss: 0.2221 - val_accuracy: 0.7554\n",
      "Epoch 9/70\n",
      "443/443 - 11s - loss: 0.1724 - accuracy: 0.8889 - val_loss: 0.2262 - val_accuracy: 0.7554\n",
      "Epoch 10/70\n",
      "443/443 - 11s - loss: 0.1675 - accuracy: 0.8993 - val_loss: 0.2203 - val_accuracy: 0.7613\n",
      "Epoch 11/70\n",
      "443/443 - 11s - loss: 0.1644 - accuracy: 0.9043 - val_loss: 0.2210 - val_accuracy: 0.7557\n",
      "Epoch 12/70\n",
      "443/443 - 11s - loss: 0.1614 - accuracy: 0.9075 - val_loss: 0.2211 - val_accuracy: 0.7554\n",
      "Epoch 13/70\n",
      "443/443 - 11s - loss: 0.1593 - accuracy: 0.9103 - val_loss: 0.2196 - val_accuracy: 0.7664\n",
      "Epoch 14/70\n",
      "443/443 - 11s - loss: 0.1575 - accuracy: 0.9131 - val_loss: 0.2245 - val_accuracy: 0.7611\n",
      "Epoch 15/70\n",
      "443/443 - 11s - loss: 0.1558 - accuracy: 0.9123 - val_loss: 0.2195 - val_accuracy: 0.7630\n",
      "Epoch 16/70\n",
      "443/443 - 11s - loss: 0.1543 - accuracy: 0.9172 - val_loss: 0.2218 - val_accuracy: 0.7622\n",
      "Epoch 17/70\n",
      "443/443 - 11s - loss: 0.1533 - accuracy: 0.9155 - val_loss: 0.2193 - val_accuracy: 0.7639\n",
      "Epoch 18/70\n",
      "443/443 - 11s - loss: 0.1522 - accuracy: 0.9163 - val_loss: 0.2194 - val_accuracy: 0.7805\n",
      "Epoch 19/70\n",
      "443/443 - 11s - loss: 0.1508 - accuracy: 0.9203 - val_loss: 0.2181 - val_accuracy: 0.7723\n",
      "Epoch 20/70\n",
      "443/443 - 11s - loss: 0.1500 - accuracy: 0.9204 - val_loss: 0.2189 - val_accuracy: 0.7678\n",
      "Epoch 21/70\n",
      "443/443 - 11s - loss: 0.1489 - accuracy: 0.9211 - val_loss: 0.2216 - val_accuracy: 0.7658\n",
      "Epoch 22/70\n",
      "443/443 - 11s - loss: 0.1484 - accuracy: 0.9255 - val_loss: 0.2190 - val_accuracy: 0.7723\n",
      "Epoch 23/70\n",
      "443/443 - 11s - loss: 0.1471 - accuracy: 0.9231 - val_loss: 0.2205 - val_accuracy: 0.7718\n",
      "Epoch 24/70\n",
      "443/443 - 11s - loss: 0.1470 - accuracy: 0.9275 - val_loss: 0.2206 - val_accuracy: 0.7749\n",
      "Epoch 25/70\n",
      "443/443 - 11s - loss: 0.1462 - accuracy: 0.9271 - val_loss: 0.2207 - val_accuracy: 0.7740\n",
      "Epoch 26/70\n",
      "443/443 - 11s - loss: 0.1458 - accuracy: 0.9281 - val_loss: 0.2209 - val_accuracy: 0.7664\n",
      "Epoch 27/70\n",
      "443/443 - 10s - loss: 0.1454 - accuracy: 0.9307 - val_loss: 0.2213 - val_accuracy: 0.7684\n",
      "Epoch 28/70\n",
      "443/443 - 10s - loss: 0.1447 - accuracy: 0.9292 - val_loss: 0.2210 - val_accuracy: 0.7777\n",
      "Epoch 29/70\n",
      "443/443 - 10s - loss: 0.1442 - accuracy: 0.9330 - val_loss: 0.2222 - val_accuracy: 0.7687\n",
      "Epoch 30/70\n",
      "443/443 - 10s - loss: 0.1435 - accuracy: 0.9329 - val_loss: 0.2223 - val_accuracy: 0.7723\n",
      "Epoch 31/70\n",
      "443/443 - 10s - loss: 0.1432 - accuracy: 0.9361 - val_loss: 0.2222 - val_accuracy: 0.7684\n",
      "Epoch 32/70\n",
      "443/443 - 11s - loss: 0.1431 - accuracy: 0.9356 - val_loss: 0.2218 - val_accuracy: 0.7720\n",
      "Epoch 33/70\n",
      "443/443 - 11s - loss: 0.1420 - accuracy: 0.9384 - val_loss: 0.2216 - val_accuracy: 0.7726\n",
      "Epoch 34/70\n",
      "443/443 - 11s - loss: 0.1422 - accuracy: 0.9395 - val_loss: 0.2226 - val_accuracy: 0.7757\n",
      "Epoch 35/70\n",
      "443/443 - 11s - loss: 0.1418 - accuracy: 0.9403 - val_loss: 0.2231 - val_accuracy: 0.7757\n",
      "Epoch 36/70\n",
      "443/443 - 11s - loss: 0.1412 - accuracy: 0.9427 - val_loss: 0.2223 - val_accuracy: 0.7670\n",
      "Epoch 37/70\n",
      "443/443 - 10s - loss: 0.1412 - accuracy: 0.9427 - val_loss: 0.2221 - val_accuracy: 0.7715\n",
      "Epoch 38/70\n",
      "443/443 - 11s - loss: 0.1413 - accuracy: 0.9420 - val_loss: 0.2282 - val_accuracy: 0.7771\n",
      "Epoch 39/70\n",
      "443/443 - 11s - loss: 0.1407 - accuracy: 0.9449 - val_loss: 0.2276 - val_accuracy: 0.7701\n",
      "Epoch 40/70\n",
      "443/443 - 11s - loss: 0.1404 - accuracy: 0.9452 - val_loss: 0.2223 - val_accuracy: 0.7746\n",
      "Epoch 41/70\n",
      "443/443 - 11s - loss: 0.1403 - accuracy: 0.9478 - val_loss: 0.2274 - val_accuracy: 0.7723\n",
      "Epoch 42/70\n",
      "443/443 - 11s - loss: 0.1399 - accuracy: 0.9486 - val_loss: 0.2282 - val_accuracy: 0.7704\n",
      "Epoch 43/70\n",
      "443/443 - 11s - loss: 0.1396 - accuracy: 0.9487 - val_loss: 0.2260 - val_accuracy: 0.7780\n",
      "Epoch 44/70\n",
      "443/443 - 11s - loss: 0.1394 - accuracy: 0.9494 - val_loss: 0.2320 - val_accuracy: 0.7799\n",
      "Epoch 45/70\n",
      "443/443 - 10s - loss: 0.1394 - accuracy: 0.9496 - val_loss: 0.2253 - val_accuracy: 0.7791\n",
      "Epoch 46/70\n",
      "443/443 - 11s - loss: 0.1393 - accuracy: 0.9497 - val_loss: 0.2297 - val_accuracy: 0.7749\n",
      "Epoch 47/70\n",
      "443/443 - 11s - loss: 0.1394 - accuracy: 0.9537 - val_loss: 0.2338 - val_accuracy: 0.7760\n",
      "Epoch 48/70\n",
      "443/443 - 11s - loss: 0.1384 - accuracy: 0.9509 - val_loss: 0.2299 - val_accuracy: 0.7780\n",
      "Epoch 49/70\n",
      "443/443 - 11s - loss: 0.1389 - accuracy: 0.9534 - val_loss: 0.2301 - val_accuracy: 0.7723\n",
      "Epoch 50/70\n",
      "443/443 - 11s - loss: 0.1385 - accuracy: 0.9544 - val_loss: 0.2314 - val_accuracy: 0.7819\n",
      "Epoch 51/70\n",
      "443/443 - 10s - loss: 0.1383 - accuracy: 0.9561 - val_loss: 0.2316 - val_accuracy: 0.7811\n",
      "Epoch 52/70\n",
      "443/443 - 11s - loss: 0.1382 - accuracy: 0.9546 - val_loss: 0.2316 - val_accuracy: 0.7735\n",
      "Epoch 53/70\n",
      "443/443 - 11s - loss: 0.1378 - accuracy: 0.9555 - val_loss: 0.2323 - val_accuracy: 0.7766\n",
      "Epoch 54/70\n",
      "443/443 - 11s - loss: 0.1383 - accuracy: 0.9556 - val_loss: 0.2366 - val_accuracy: 0.7797\n",
      "Epoch 55/70\n",
      "443/443 - 11s - loss: 0.1375 - accuracy: 0.9565 - val_loss: 0.2345 - val_accuracy: 0.7746\n",
      "Epoch 56/70\n",
      "443/443 - 11s - loss: 0.1377 - accuracy: 0.9545 - val_loss: 0.2379 - val_accuracy: 0.7732\n",
      "Epoch 57/70\n",
      "443/443 - 11s - loss: 0.1374 - accuracy: 0.9571 - val_loss: 0.2369 - val_accuracy: 0.7785\n",
      "Epoch 58/70\n",
      "443/443 - 11s - loss: 0.1374 - accuracy: 0.9597 - val_loss: 0.2373 - val_accuracy: 0.7822\n",
      "Epoch 59/70\n",
      "443/443 - 11s - loss: 0.1374 - accuracy: 0.9593 - val_loss: 0.2390 - val_accuracy: 0.7760\n",
      "Epoch 60/70\n",
      "443/443 - 11s - loss: 0.1367 - accuracy: 0.9572 - val_loss: 0.2404 - val_accuracy: 0.7774\n",
      "Epoch 61/70\n",
      "443/443 - 11s - loss: 0.1373 - accuracy: 0.9605 - val_loss: 0.2399 - val_accuracy: 0.7751\n",
      "Epoch 62/70\n",
      "443/443 - 11s - loss: 0.1369 - accuracy: 0.9584 - val_loss: 0.2432 - val_accuracy: 0.7788\n",
      "Epoch 63/70\n",
      "443/443 - 11s - loss: 0.1368 - accuracy: 0.9594 - val_loss: 0.2418 - val_accuracy: 0.7833\n",
      "Epoch 64/70\n",
      "443/443 - 11s - loss: 0.1369 - accuracy: 0.9595 - val_loss: 0.2422 - val_accuracy: 0.7819\n",
      "Epoch 65/70\n",
      "443/443 - 11s - loss: 0.1365 - accuracy: 0.9608 - val_loss: 0.2493 - val_accuracy: 0.7743\n",
      "Epoch 66/70\n",
      "443/443 - 11s - loss: 0.1369 - accuracy: 0.9598 - val_loss: 0.2437 - val_accuracy: 0.7749\n",
      "Epoch 67/70\n",
      "443/443 - 11s - loss: 0.1366 - accuracy: 0.9602 - val_loss: 0.2456 - val_accuracy: 0.7788\n",
      "Epoch 68/70\n",
      "443/443 - 11s - loss: 0.1362 - accuracy: 0.9625 - val_loss: 0.2451 - val_accuracy: 0.7768\n",
      "Epoch 69/70\n",
      "443/443 - 10s - loss: 0.1370 - accuracy: 0.9627 - val_loss: 0.2507 - val_accuracy: 0.7777\n",
      "Epoch 70/70\n",
      "443/443 - 10s - loss: 0.1361 - accuracy: 0.9623 - val_loss: 0.2525 - val_accuracy: 0.7754\n"
     ]
    }
   ],
   "source": [
    "history = fit_model(model1, 64, 70, False, x_train, y_train, x_val, y_val, x_test)"
   ]
  },
  {
   "cell_type": "markdown",
   "metadata": {},
   "source": [
    "Now we're going to test our model using the test set for the model."
   ]
  },
  {
   "cell_type": "code",
   "execution_count": 10,
   "metadata": {},
   "outputs": [
    {
     "name": "stdout",
     "output_type": "stream",
     "text": [
      "56/56 [==============================] - 1s 10ms/step - loss: 0.2489 - accuracy: 0.7760\n"
     ]
    }
   ],
   "source": [
    "test_loss, test_acc = evaluate_model(model1, x_test, y_test,  64)"
   ]
  },
  {
   "cell_type": "code",
   "execution_count": 11,
   "metadata": {},
   "outputs": [
    {
     "name": "stdout",
     "output_type": "stream",
     "text": [
      "Test loss: 0.2489\n",
      "Test accuracy: 0.7760\n"
     ]
    }
   ],
   "source": [
    "print(f\"Test loss: {test_loss:.4f}\")\n",
    "print(f\"Test accuracy: {test_acc:.4f}\")"
   ]
  },
  {
   "cell_type": "code",
   "execution_count": 12,
   "metadata": {},
   "outputs": [
    {
     "data": {
      "image/png": "[encoded data removed]",
      "text/plain": [
       "<Figure size 432x288 with 1 Axes>"
      ]
     },
     "metadata": {
      "needs_background": "light"
     },
     "output_type": "display_data"
    },
    {
     "data": {
      "image/png": "[encoded data removed]",
      "text/plain": [
       "<Figure size 432x288 with 1 Axes>"
      ]
     },
     "metadata": {
      "needs_background": "light"
     },
     "output_type": "display_data"
    }
   ],
   "source": [
    "plot_acc_loss(history)"
   ]
  },
  {
   "cell_type": "code",
   "execution_count": 14,
   "metadata": {},
   "outputs": [
    {
     "name": "stdout",
     "output_type": "stream",
     "text": [
      "INFO:tensorflow:Assets written to: C:\\Users\\storm\\AppData\\Local\\Temp\\tmpaj7c8hxu\\assets\n",
      "Model has been saved into a lite version!\n"
     ]
    }
   ],
   "source": [
    "# Save the model into a tenserflow lite version\n",
    "save_model_to_lite(model1, test_acc)"
   ]
  },
  {
   "cell_type": "markdown",
   "metadata": {},
   "source": [
    "On the basis of the graphs we see that the model is very overfitted. Which means the results of the model are not good. We can try to solve that by making the model deeper"
   ]
  },
  {
   "cell_type": "markdown",
   "metadata": {},
   "source": [
    "As we saw above, the results are not too great. Therefore we will now try to adjust the settings of the model ."
   ]
  },
  {
   "cell_type": "markdown",
   "metadata": {},
   "source": [
    "### Model version 2"
   ]
  },
  {
   "cell_type": "markdown",
   "metadata": {},
   "source": [
    "Now we are going the same as above. So we are going to creat the model, complie it and fit it."
   ]
  },
  {
   "cell_type": "code",
   "execution_count": 15,
   "metadata": {},
   "outputs": [],
   "source": [
    "model2 = Sequential(models[1]['layers'], name = models[1]['name'])"
   ]
  },
  {
   "cell_type": "code",
   "execution_count": 16,
   "metadata": {},
   "outputs": [
    {
     "name": "stdout",
     "output_type": "stream",
     "text": [
      "Model: \"Version_2\"\n",
      "_________________________________________________________________\n",
      "Layer (type)                 Output Shape              Param #   \n",
      "=================================================================\n",
      "conv2d_5 (Conv2D)            (None, 46, 46, 64)        640       \n",
      "_________________________________________________________________\n",
      "batch_normalization_3 (Batch (None, 46, 46, 64)        256       \n",
      "_________________________________________________________________\n",
      "conv2d_6 (Conv2D)            (None, 44, 44, 64)        36928     \n",
      "_________________________________________________________________\n",
      "batch_normalization_4 (Batch (None, 44, 44, 64)        256       \n",
      "_________________________________________________________________\n",
      "dropout_3 (Dropout)          (None, 44, 44, 64)        0         \n",
      "_________________________________________________________________\n",
      "conv2d_7 (Conv2D)            (None, 42, 42, 64)        36928     \n",
      "_________________________________________________________________\n",
      "conv2d_8 (Conv2D)            (None, 40, 40, 64)        36928     \n",
      "_________________________________________________________________\n",
      "max_pooling2d_2 (MaxPooling2 (None, 20, 20, 64)        0         \n",
      "_________________________________________________________________\n",
      "conv2d_9 (Conv2D)            (None, 18, 18, 128)       73856     \n",
      "_________________________________________________________________\n",
      "batch_normalization_5 (Batch (None, 18, 18, 128)       512       \n",
      "_________________________________________________________________\n",
      "conv2d_10 (Conv2D)           (None, 16, 16, 128)       147584    \n",
      "_________________________________________________________________\n",
      "batch_normalization_6 (Batch (None, 16, 16, 128)       512       \n",
      "_________________________________________________________________\n",
      "conv2d_11 (Conv2D)           (None, 14, 14, 128)       147584    \n",
      "_________________________________________________________________\n",
      "conv2d_12 (Conv2D)           (None, 12, 12, 128)       147584    \n",
      "_________________________________________________________________\n",
      "max_pooling2d_3 (MaxPooling2 (None, 6, 6, 128)         0         \n",
      "_________________________________________________________________\n",
      "conv2d_13 (Conv2D)           (None, 4, 4, 256)         295168    \n",
      "_________________________________________________________________\n",
      "batch_normalization_7 (Batch (None, 4, 4, 256)         1024      \n",
      "_________________________________________________________________\n",
      "conv2d_14 (Conv2D)           (None, 2, 2, 256)         590080    \n",
      "_________________________________________________________________\n",
      "batch_normalization_8 (Batch (None, 2, 2, 256)         1024      \n",
      "_________________________________________________________________\n",
      "flatten_1 (Flatten)          (None, 1024)              0         \n",
      "_________________________________________________________________\n",
      "dense_3 (Dense)              (None, 1024)              1049600   \n",
      "_________________________________________________________________\n",
      "dropout_4 (Dropout)          (None, 1024)              0         \n",
      "_________________________________________________________________\n",
      "dense_4 (Dense)              (None, 1024)              1049600   \n",
      "_________________________________________________________________\n",
      "dropout_5 (Dropout)          (None, 1024)              0         \n",
      "_________________________________________________________________\n",
      "dense_5 (Dense)              (None, 7)                 7175      \n",
      "=================================================================\n",
      "Total params: 3,623,239\n",
      "Trainable params: 3,621,447\n",
      "Non-trainable params: 1,792\n",
      "_________________________________________________________________\n"
     ]
    }
   ],
   "source": [
    "model2.summary()"
   ]
  },
  {
   "cell_type": "markdown",
   "metadata": {},
   "source": [
    "Perfect! Lets compile "
   ]
  },
  {
   "cell_type": "markdown",
   "metadata": {},
   "source": [
    "### Compile and train"
   ]
  },
  {
   "cell_type": "code",
   "execution_count": 17,
   "metadata": {},
   "outputs": [],
   "source": [
    "compile_model(model2)"
   ]
  },
  {
   "cell_type": "code",
   "execution_count": 18,
   "metadata": {},
   "outputs": [
    {
     "name": "stdout",
     "output_type": "stream",
     "text": [
      "Epoch 1/70\n",
      "443/443 - 19s - loss: 0.3351 - accuracy: 0.4705 - val_loss: 0.3819 - val_accuracy: 0.3826\n",
      "Epoch 2/70\n",
      "443/443 - 17s - loss: 0.2842 - accuracy: 0.5967 - val_loss: 0.2753 - val_accuracy: 0.6196\n",
      "Epoch 3/70\n",
      "443/443 - 16s - loss: 0.2607 - accuracy: 0.6504 - val_loss: 0.2650 - val_accuracy: 0.6399\n",
      "Epoch 4/70\n",
      "443/443 - 15s - loss: 0.2447 - accuracy: 0.6895 - val_loss: 0.2451 - val_accuracy: 0.6777\n",
      "Epoch 5/70\n",
      "443/443 - 16s - loss: 0.2329 - accuracy: 0.7210 - val_loss: 0.2445 - val_accuracy: 0.6855\n",
      "Epoch 6/70\n",
      "443/443 - 16s - loss: 0.2231 - accuracy: 0.7455 - val_loss: 0.2329 - val_accuracy: 0.7112\n",
      "Epoch 7/70\n",
      "443/443 - 16s - loss: 0.2150 - accuracy: 0.7656 - val_loss: 0.2261 - val_accuracy: 0.7380\n",
      "Epoch 8/70\n",
      "443/443 - 17s - loss: 0.2078 - accuracy: 0.7881 - val_loss: 0.2300 - val_accuracy: 0.7261\n",
      "Epoch 9/70\n",
      "443/443 - 17s - loss: 0.2005 - accuracy: 0.8043 - val_loss: 0.2273 - val_accuracy: 0.7411\n",
      "Epoch 10/70\n",
      "443/443 - 16s - loss: 0.1946 - accuracy: 0.8220 - val_loss: 0.2315 - val_accuracy: 0.7123\n",
      "Epoch 11/70\n",
      "443/443 - 16s - loss: 0.1884 - accuracy: 0.8401 - val_loss: 0.2278 - val_accuracy: 0.7470\n",
      "Epoch 12/70\n",
      "443/443 - 16s - loss: 0.1839 - accuracy: 0.8534 - val_loss: 0.2227 - val_accuracy: 0.7605\n",
      "Epoch 13/70\n",
      "443/443 - 16s - loss: 0.1786 - accuracy: 0.8682 - val_loss: 0.2291 - val_accuracy: 0.7427\n",
      "Epoch 14/70\n",
      "443/443 - 16s - loss: 0.1756 - accuracy: 0.8757 - val_loss: 0.2220 - val_accuracy: 0.7580\n",
      "Epoch 15/70\n",
      "443/443 - 15s - loss: 0.1716 - accuracy: 0.8849 - val_loss: 0.2225 - val_accuracy: 0.7492\n",
      "Epoch 16/70\n",
      "443/443 - 16s - loss: 0.1693 - accuracy: 0.8908 - val_loss: 0.2218 - val_accuracy: 0.7546\n",
      "Epoch 17/70\n",
      "443/443 - 16s - loss: 0.1669 - accuracy: 0.8970 - val_loss: 0.2245 - val_accuracy: 0.7588\n",
      "Epoch 18/70\n",
      "443/443 - 16s - loss: 0.1646 - accuracy: 0.9030 - val_loss: 0.2254 - val_accuracy: 0.7495\n",
      "Epoch 19/70\n",
      "443/443 - 16s - loss: 0.1630 - accuracy: 0.9061 - val_loss: 0.2256 - val_accuracy: 0.7509\n",
      "Epoch 20/70\n",
      "443/443 - 16s - loss: 0.1615 - accuracy: 0.9072 - val_loss: 0.2212 - val_accuracy: 0.7566\n",
      "Epoch 21/70\n",
      "443/443 - 16s - loss: 0.1603 - accuracy: 0.9088 - val_loss: 0.2218 - val_accuracy: 0.7591\n",
      "Epoch 22/70\n",
      "443/443 - 15s - loss: 0.1587 - accuracy: 0.9125 - val_loss: 0.2192 - val_accuracy: 0.7611\n",
      "Epoch 23/70\n",
      "443/443 - 16s - loss: 0.1579 - accuracy: 0.9126 - val_loss: 0.2227 - val_accuracy: 0.7391\n",
      "Epoch 24/70\n",
      "443/443 - 16s - loss: 0.1562 - accuracy: 0.9140 - val_loss: 0.2194 - val_accuracy: 0.7616\n",
      "Epoch 25/70\n",
      "443/443 - 16s - loss: 0.1551 - accuracy: 0.9196 - val_loss: 0.2206 - val_accuracy: 0.7577\n",
      "Epoch 26/70\n",
      "443/443 - 16s - loss: 0.1549 - accuracy: 0.9145 - val_loss: 0.2181 - val_accuracy: 0.7675\n",
      "Epoch 27/70\n",
      "443/443 - 17s - loss: 0.1538 - accuracy: 0.9148 - val_loss: 0.2205 - val_accuracy: 0.7574\n",
      "Epoch 28/70\n",
      "443/443 - 16s - loss: 0.1529 - accuracy: 0.9196 - val_loss: 0.2194 - val_accuracy: 0.7735\n",
      "Epoch 29/70\n",
      "443/443 - 16s - loss: 0.1518 - accuracy: 0.9177 - val_loss: 0.2223 - val_accuracy: 0.7695\n",
      "Epoch 30/70\n",
      "443/443 - 15s - loss: 0.1520 - accuracy: 0.9197 - val_loss: 0.2242 - val_accuracy: 0.7611\n",
      "Epoch 31/70\n",
      "443/443 - 16s - loss: 0.1504 - accuracy: 0.9183 - val_loss: 0.2232 - val_accuracy: 0.7591\n",
      "Epoch 32/70\n",
      "443/443 - 16s - loss: 0.1502 - accuracy: 0.9246 - val_loss: 0.2207 - val_accuracy: 0.7644\n",
      "Epoch 33/70\n",
      "443/443 - 16s - loss: 0.1491 - accuracy: 0.9251 - val_loss: 0.2195 - val_accuracy: 0.7656\n",
      "Epoch 34/70\n",
      "443/443 - 17s - loss: 0.1491 - accuracy: 0.9244 - val_loss: 0.2209 - val_accuracy: 0.7684\n",
      "Epoch 35/70\n",
      "443/443 - 17s - loss: 0.1481 - accuracy: 0.9263 - val_loss: 0.2251 - val_accuracy: 0.7628\n",
      "Epoch 36/70\n",
      "443/443 - 16s - loss: 0.1474 - accuracy: 0.9269 - val_loss: 0.2228 - val_accuracy: 0.7718\n",
      "Epoch 37/70\n",
      "443/443 - 16s - loss: 0.1469 - accuracy: 0.9258 - val_loss: 0.2216 - val_accuracy: 0.7695\n",
      "Epoch 38/70\n",
      "443/443 - 15s - loss: 0.1468 - accuracy: 0.9293 - val_loss: 0.2240 - val_accuracy: 0.7633\n",
      "Epoch 39/70\n",
      "443/443 - 15s - loss: 0.1461 - accuracy: 0.9316 - val_loss: 0.2226 - val_accuracy: 0.7737\n",
      "Epoch 40/70\n",
      "443/443 - 15s - loss: 0.1456 - accuracy: 0.9296 - val_loss: 0.2240 - val_accuracy: 0.7709\n",
      "Epoch 41/70\n",
      "443/443 - 15s - loss: 0.1460 - accuracy: 0.9298 - val_loss: 0.2249 - val_accuracy: 0.7644\n",
      "Epoch 42/70\n",
      "443/443 - 15s - loss: 0.1449 - accuracy: 0.9318 - val_loss: 0.2298 - val_accuracy: 0.7723\n",
      "Epoch 43/70\n",
      "443/443 - 15s - loss: 0.1447 - accuracy: 0.9339 - val_loss: 0.2251 - val_accuracy: 0.7698\n",
      "Epoch 44/70\n",
      "443/443 - 15s - loss: 0.1443 - accuracy: 0.9347 - val_loss: 0.2228 - val_accuracy: 0.7692\n",
      "Epoch 45/70\n",
      "443/443 - 14s - loss: 0.1443 - accuracy: 0.9319 - val_loss: 0.2251 - val_accuracy: 0.7706\n",
      "Epoch 46/70\n",
      "443/443 - 15s - loss: 0.1439 - accuracy: 0.9342 - val_loss: 0.2273 - val_accuracy: 0.7630\n",
      "Epoch 47/70\n",
      "443/443 - 15s - loss: 0.1430 - accuracy: 0.9351 - val_loss: 0.2262 - val_accuracy: 0.7740\n",
      "Epoch 48/70\n",
      "443/443 - 15s - loss: 0.1435 - accuracy: 0.9375 - val_loss: 0.2253 - val_accuracy: 0.7673\n",
      "Epoch 49/70\n",
      "443/443 - 16s - loss: 0.1435 - accuracy: 0.9368 - val_loss: 0.2288 - val_accuracy: 0.7768\n",
      "Epoch 50/70\n",
      "443/443 - 15s - loss: 0.1427 - accuracy: 0.9383 - val_loss: 0.2276 - val_accuracy: 0.7729\n",
      "Epoch 51/70\n",
      "443/443 - 15s - loss: 0.1424 - accuracy: 0.9369 - val_loss: 0.2284 - val_accuracy: 0.7687\n",
      "Epoch 52/70\n",
      "443/443 - 15s - loss: 0.1423 - accuracy: 0.9405 - val_loss: 0.2292 - val_accuracy: 0.7771\n",
      "Epoch 53/70\n",
      "443/443 - 15s - loss: 0.1421 - accuracy: 0.9405 - val_loss: 0.2288 - val_accuracy: 0.7704\n",
      "Epoch 54/70\n",
      "443/443 - 16s - loss: 0.1422 - accuracy: 0.9392 - val_loss: 0.2302 - val_accuracy: 0.7782\n",
      "Epoch 55/70\n",
      "443/443 - 15s - loss: 0.1416 - accuracy: 0.9415 - val_loss: 0.2287 - val_accuracy: 0.7771\n",
      "Epoch 56/70\n",
      "443/443 - 15s - loss: 0.1419 - accuracy: 0.9411 - val_loss: 0.2302 - val_accuracy: 0.7774\n",
      "Epoch 57/70\n",
      "443/443 - 15s - loss: 0.1411 - accuracy: 0.9432 - val_loss: 0.2346 - val_accuracy: 0.7799\n",
      "Epoch 58/70\n",
      "443/443 - 16s - loss: 0.1411 - accuracy: 0.9437 - val_loss: 0.2304 - val_accuracy: 0.7802\n",
      "Epoch 59/70\n",
      "443/443 - 16s - loss: 0.1410 - accuracy: 0.9466 - val_loss: 0.2332 - val_accuracy: 0.7822\n",
      "Epoch 60/70\n",
      "443/443 - 15s - loss: 0.1409 - accuracy: 0.9427 - val_loss: 0.2294 - val_accuracy: 0.7785\n",
      "Epoch 61/70\n",
      "443/443 - 14s - loss: 0.1406 - accuracy: 0.9445 - val_loss: 0.2318 - val_accuracy: 0.7850\n",
      "Epoch 62/70\n",
      "443/443 - 15s - loss: 0.1403 - accuracy: 0.9455 - val_loss: 0.2330 - val_accuracy: 0.7740\n",
      "Epoch 63/70\n",
      "443/443 - 15s - loss: 0.1402 - accuracy: 0.9464 - val_loss: 0.2316 - val_accuracy: 0.7819\n",
      "Epoch 64/70\n",
      "443/443 - 14s - loss: 0.1406 - accuracy: 0.9459 - val_loss: 0.2324 - val_accuracy: 0.7780\n",
      "Epoch 65/70\n",
      "443/443 - 14s - loss: 0.1398 - accuracy: 0.9448 - val_loss: 0.2372 - val_accuracy: 0.7799\n",
      "Epoch 66/70\n",
      "443/443 - 14s - loss: 0.1401 - accuracy: 0.9480 - val_loss: 0.2343 - val_accuracy: 0.7805\n",
      "Epoch 67/70\n",
      "443/443 - 16s - loss: 0.1396 - accuracy: 0.9492 - val_loss: 0.2361 - val_accuracy: 0.7805\n",
      "Epoch 68/70\n",
      "443/443 - 16s - loss: 0.1400 - accuracy: 0.9482 - val_loss: 0.2376 - val_accuracy: 0.7737\n",
      "Epoch 69/70\n",
      "443/443 - 13s - loss: 0.1392 - accuracy: 0.9466 - val_loss: 0.2359 - val_accuracy: 0.7771\n",
      "Epoch 70/70\n",
      "443/443 - 13s - loss: 0.1393 - accuracy: 0.9506 - val_loss: 0.2381 - val_accuracy: 0.7802\n"
     ]
    }
   ],
   "source": [
    "history = fit_model(model2, 64, 70, False, x_train, y_train, x_val, y_val, x_test)"
   ]
  },
  {
   "cell_type": "markdown",
   "metadata": {},
   "source": [
    "Now we're going to test our model using the test set for the model."
   ]
  },
  {
   "cell_type": "code",
   "execution_count": 19,
   "metadata": {},
   "outputs": [
    {
     "name": "stdout",
     "output_type": "stream",
     "text": [
      "56/56 [==============================] - 1s 9ms/step - loss: 0.2349 - accuracy: 0.7760\n"
     ]
    }
   ],
   "source": [
    "test_loss, test_acc = evaluate_model(model2, x_test, y_test,  64)"
   ]
  },
  {
   "cell_type": "code",
   "execution_count": 20,
   "metadata": {},
   "outputs": [
    {
     "name": "stdout",
     "output_type": "stream",
     "text": [
      "Test loss: 0.2349\n",
      "Test accuracy: 0.7760\n"
     ]
    }
   ],
   "source": [
    "print(f\"Test loss: {test_loss:.4f}\")\n",
    "print(f\"Test accuracy: {test_acc:.4f}\")"
   ]
  },
  {
   "cell_type": "code",
   "execution_count": 21,
   "metadata": {},
   "outputs": [
    {
     "data": {
      "image/png": "[encoded data removed]",
      "text/plain": [
       "<Figure size 432x288 with 1 Axes>"
      ]
     },
     "metadata": {
      "needs_background": "light"
     },
     "output_type": "display_data"
    },
    {
     "data": {
      "image/png": "[encoded data removed]",
      "text/plain": [
       "<Figure size 432x288 with 1 Axes>"
      ]
     },
     "metadata": {
      "needs_background": "light"
     },
     "output_type": "display_data"
    }
   ],
   "source": [
    "plot_acc_loss(history)"
   ]
  },
  {
   "cell_type": "code",
   "execution_count": 23,
   "metadata": {},
   "outputs": [
    {
     "name": "stdout",
     "output_type": "stream",
     "text": [
      "INFO:tensorflow:Assets written to: C:\\Users\\storm\\AppData\\Local\\Temp\\tmpb0of1y5b\\assets\n"
     ]
    },
    {
     "name": "stderr",
     "output_type": "stream",
     "text": [
      "INFO:tensorflow:Assets written to: C:\\Users\\storm\\AppData\\Local\\Temp\\tmpb0of1y5b\\assets\n"
     ]
    },
    {
     "name": "stdout",
     "output_type": "stream",
     "text": [
      "Model has been saved into a lite version!\n"
     ]
    }
   ],
   "source": [
    "save_model_to_lite(model2, test_acc)"
   ]
  },
  {
   "cell_type": "markdown",
   "metadata": {},
   "source": [
    "The results are going beter, next we are going to try to add some argumentation to the data. That could help our model to leren more. You can find the file where the data has been argumendated right [here](https://github.com/BB8-2020/EmpathicRobot/tree/main/data)."
   ]
  },
  {
   "cell_type": "markdown",
   "metadata": {},
   "source": [
    "## Augment data"
   ]
  },
  {
   "cell_type": "markdown",
   "metadata": {},
   "source": [
    "We split the data again:"
   ]
  },
  {
   "cell_type": "code",
   "execution_count": 24,
   "metadata": {},
   "outputs": [],
   "source": [
    "datagen,x_train_arg, y_train_arg, x_val_arg, y_val_arg, x_test_arg, y_test_arg = read_data('ferPlus_augment', True)"
   ]
  },
  {
   "cell_type": "markdown",
   "metadata": {},
   "source": [
    "Now we are going to just fit the model using this data."
   ]
  },
  {
   "cell_type": "code",
   "execution_count": 25,
   "metadata": {},
   "outputs": [
    {
     "name": "stdout",
     "output_type": "stream",
     "text": [
      "Epoch 1/100\n",
      "443/443 - 14s - loss: 0.2428 - accuracy: 0.7040 - val_loss: 0.2109 - val_accuracy: 0.7749\n",
      "Epoch 2/100\n",
      "443/443 - 13s - loss: 0.2246 - accuracy: 0.7369 - val_loss: 0.2091 - val_accuracy: 0.7718\n",
      "Epoch 3/100\n",
      "443/443 - 13s - loss: 0.2185 - accuracy: 0.7543 - val_loss: 0.2102 - val_accuracy: 0.7737\n",
      "Epoch 4/100\n",
      "443/443 - 13s - loss: 0.2147 - accuracy: 0.7619 - val_loss: 0.2057 - val_accuracy: 0.7853\n",
      "Epoch 5/100\n",
      "443/443 - 12s - loss: 0.2121 - accuracy: 0.7691 - val_loss: 0.2031 - val_accuracy: 0.7890\n",
      "Epoch 6/100\n",
      "443/443 - 12s - loss: 0.2097 - accuracy: 0.7747 - val_loss: 0.2096 - val_accuracy: 0.7720\n",
      "Epoch 7/100\n",
      "443/443 - 12s - loss: 0.2086 - accuracy: 0.7763 - val_loss: 0.2060 - val_accuracy: 0.7720\n",
      "Epoch 8/100\n",
      "443/443 - 13s - loss: 0.2061 - accuracy: 0.7831 - val_loss: 0.2008 - val_accuracy: 0.8005\n",
      "Epoch 9/100\n",
      "443/443 - 13s - loss: 0.2049 - accuracy: 0.7888 - val_loss: 0.2012 - val_accuracy: 0.7999\n",
      "Epoch 10/100\n",
      "443/443 - 13s - loss: 0.2039 - accuracy: 0.7882 - val_loss: 0.2019 - val_accuracy: 0.7881\n",
      "Epoch 11/100\n",
      "443/443 - 13s - loss: 0.2027 - accuracy: 0.7931 - val_loss: 0.1972 - val_accuracy: 0.8118\n",
      "Epoch 12/100\n",
      "443/443 - 13s - loss: 0.2010 - accuracy: 0.7969 - val_loss: 0.1972 - val_accuracy: 0.8061\n",
      "Epoch 13/100\n",
      "443/443 - 13s - loss: 0.1994 - accuracy: 0.7997 - val_loss: 0.2006 - val_accuracy: 0.8014\n",
      "Epoch 14/100\n",
      "443/443 - 13s - loss: 0.1987 - accuracy: 0.8025 - val_loss: 0.1974 - val_accuracy: 0.8104\n",
      "Epoch 15/100\n",
      "443/443 - 13s - loss: 0.1984 - accuracy: 0.8042 - val_loss: 0.1994 - val_accuracy: 0.7980\n",
      "Epoch 16/100\n",
      "443/443 - 13s - loss: 0.1974 - accuracy: 0.8050 - val_loss: 0.1952 - val_accuracy: 0.8112\n",
      "Epoch 17/100\n",
      "443/443 - 13s - loss: 0.1968 - accuracy: 0.8047 - val_loss: 0.1991 - val_accuracy: 0.7985\n",
      "Epoch 18/100\n",
      "443/443 - 13s - loss: 0.1959 - accuracy: 0.8111 - val_loss: 0.1961 - val_accuracy: 0.8115\n",
      "Epoch 19/100\n",
      "443/443 - 13s - loss: 0.1948 - accuracy: 0.8132 - val_loss: 0.1950 - val_accuracy: 0.8160\n",
      "Epoch 20/100\n",
      "443/443 - 13s - loss: 0.1942 - accuracy: 0.8137 - val_loss: 0.1943 - val_accuracy: 0.8112\n",
      "Epoch 21/100\n",
      "443/443 - 13s - loss: 0.1940 - accuracy: 0.8128 - val_loss: 0.1976 - val_accuracy: 0.8061\n",
      "Epoch 22/100\n",
      "443/443 - 13s - loss: 0.1928 - accuracy: 0.8180 - val_loss: 0.1937 - val_accuracy: 0.8177\n",
      "Epoch 23/100\n",
      "443/443 - 13s - loss: 0.1922 - accuracy: 0.8193 - val_loss: 0.1940 - val_accuracy: 0.8168\n",
      "Epoch 24/100\n",
      "443/443 - 13s - loss: 0.1918 - accuracy: 0.8173 - val_loss: 0.1920 - val_accuracy: 0.8230\n",
      "Epoch 25/100\n",
      "443/443 - 13s - loss: 0.1917 - accuracy: 0.8216 - val_loss: 0.1924 - val_accuracy: 0.8177\n",
      "Epoch 26/100\n",
      "443/443 - 13s - loss: 0.1908 - accuracy: 0.8247 - val_loss: 0.1938 - val_accuracy: 0.8197\n",
      "Epoch 27/100\n",
      "443/443 - 13s - loss: 0.1901 - accuracy: 0.8252 - val_loss: 0.1927 - val_accuracy: 0.8216\n",
      "Epoch 28/100\n",
      "443/443 - 13s - loss: 0.1895 - accuracy: 0.8245 - val_loss: 0.1970 - val_accuracy: 0.8090\n",
      "Epoch 29/100\n",
      "443/443 - 13s - loss: 0.1894 - accuracy: 0.8273 - val_loss: 0.1920 - val_accuracy: 0.8160\n",
      "Epoch 30/100\n",
      "443/443 - 13s - loss: 0.1885 - accuracy: 0.8238 - val_loss: 0.1912 - val_accuracy: 0.8292\n",
      "Epoch 31/100\n",
      "443/443 - 13s - loss: 0.1882 - accuracy: 0.8271 - val_loss: 0.1916 - val_accuracy: 0.8230\n",
      "Epoch 32/100\n",
      "443/443 - 13s - loss: 0.1879 - accuracy: 0.8308 - val_loss: 0.1904 - val_accuracy: 0.8264\n",
      "Epoch 33/100\n",
      "443/443 - 13s - loss: 0.1874 - accuracy: 0.8320 - val_loss: 0.1895 - val_accuracy: 0.8298\n",
      "Epoch 34/100\n",
      "443/443 - 13s - loss: 0.1870 - accuracy: 0.8325 - val_loss: 0.1955 - val_accuracy: 0.8036\n",
      "Epoch 35/100\n",
      "443/443 - 13s - loss: 0.1861 - accuracy: 0.8347 - val_loss: 0.1904 - val_accuracy: 0.8194\n",
      "Epoch 36/100\n",
      "443/443 - 13s - loss: 0.1867 - accuracy: 0.8337 - val_loss: 0.1948 - val_accuracy: 0.8112\n",
      "Epoch 37/100\n",
      "443/443 - 13s - loss: 0.1856 - accuracy: 0.8374 - val_loss: 0.1904 - val_accuracy: 0.8250\n",
      "Epoch 38/100\n",
      "443/443 - 13s - loss: 0.1850 - accuracy: 0.8392 - val_loss: 0.1896 - val_accuracy: 0.8323\n",
      "Epoch 39/100\n",
      "443/443 - 13s - loss: 0.1848 - accuracy: 0.8397 - val_loss: 0.1904 - val_accuracy: 0.8250\n",
      "Epoch 40/100\n",
      "443/443 - 13s - loss: 0.1849 - accuracy: 0.8390 - val_loss: 0.1902 - val_accuracy: 0.8256\n",
      "Epoch 41/100\n",
      "443/443 - 13s - loss: 0.1837 - accuracy: 0.8406 - val_loss: 0.1910 - val_accuracy: 0.8149\n",
      "Epoch 42/100\n",
      "443/443 - 12s - loss: 0.1838 - accuracy: 0.8412 - val_loss: 0.1898 - val_accuracy: 0.8256\n",
      "Epoch 43/100\n",
      "443/443 - 13s - loss: 0.1834 - accuracy: 0.8437 - val_loss: 0.1889 - val_accuracy: 0.8253\n",
      "Epoch 44/100\n",
      "443/443 - 13s - loss: 0.1833 - accuracy: 0.8436 - val_loss: 0.1893 - val_accuracy: 0.8270\n",
      "Epoch 45/100\n",
      "443/443 - 13s - loss: 0.1829 - accuracy: 0.8432 - val_loss: 0.1887 - val_accuracy: 0.8318\n",
      "Epoch 46/100\n",
      "443/443 - 13s - loss: 0.1828 - accuracy: 0.8453 - val_loss: 0.1885 - val_accuracy: 0.8307\n",
      "Epoch 47/100\n",
      "443/443 - 13s - loss: 0.1824 - accuracy: 0.8472 - val_loss: 0.1898 - val_accuracy: 0.8202\n",
      "Epoch 48/100\n",
      "443/443 - 13s - loss: 0.1815 - accuracy: 0.8486 - val_loss: 0.1894 - val_accuracy: 0.8267\n",
      "Epoch 49/100\n",
      "443/443 - 13s - loss: 0.1816 - accuracy: 0.8471 - val_loss: 0.1881 - val_accuracy: 0.8374\n",
      "Epoch 50/100\n",
      "443/443 - 13s - loss: 0.1812 - accuracy: 0.8508 - val_loss: 0.1893 - val_accuracy: 0.8259\n",
      "Epoch 51/100\n",
      "443/443 - 13s - loss: 0.1811 - accuracy: 0.8511 - val_loss: 0.1906 - val_accuracy: 0.8208\n",
      "Epoch 52/100\n",
      "443/443 - 13s - loss: 0.1807 - accuracy: 0.8521 - val_loss: 0.1895 - val_accuracy: 0.8236\n",
      "Epoch 53/100\n",
      "443/443 - 13s - loss: 0.1806 - accuracy: 0.8528 - val_loss: 0.1894 - val_accuracy: 0.8228\n",
      "Epoch 54/100\n",
      "443/443 - 13s - loss: 0.1802 - accuracy: 0.8535 - val_loss: 0.1880 - val_accuracy: 0.8329\n",
      "Epoch 55/100\n",
      "443/443 - 12s - loss: 0.1799 - accuracy: 0.8534 - val_loss: 0.1882 - val_accuracy: 0.8242\n",
      "Epoch 56/100\n",
      "443/443 - 12s - loss: 0.1797 - accuracy: 0.8532 - val_loss: 0.1884 - val_accuracy: 0.8245\n",
      "Epoch 57/100\n",
      "443/443 - 13s - loss: 0.1801 - accuracy: 0.8524 - val_loss: 0.1928 - val_accuracy: 0.8214\n",
      "Epoch 58/100\n",
      "443/443 - 13s - loss: 0.1793 - accuracy: 0.8548 - val_loss: 0.1881 - val_accuracy: 0.8318\n",
      "Epoch 59/100\n",
      "443/443 - 13s - loss: 0.1790 - accuracy: 0.8557 - val_loss: 0.1885 - val_accuracy: 0.8276\n",
      "Epoch 60/100\n",
      "443/443 - 13s - loss: 0.1788 - accuracy: 0.8555 - val_loss: 0.1892 - val_accuracy: 0.8270\n",
      "Epoch 61/100\n",
      "443/443 - 13s - loss: 0.1782 - accuracy: 0.8585 - val_loss: 0.1874 - val_accuracy: 0.8369\n",
      "Epoch 62/100\n",
      "443/443 - 13s - loss: 0.1782 - accuracy: 0.8576 - val_loss: 0.1881 - val_accuracy: 0.8273\n",
      "Epoch 63/100\n",
      "443/443 - 13s - loss: 0.1776 - accuracy: 0.8604 - val_loss: 0.1875 - val_accuracy: 0.8292\n",
      "Epoch 64/100\n",
      "443/443 - 13s - loss: 0.1776 - accuracy: 0.8583 - val_loss: 0.1887 - val_accuracy: 0.8284\n",
      "Epoch 65/100\n",
      "443/443 - 13s - loss: 0.1777 - accuracy: 0.8601 - val_loss: 0.1868 - val_accuracy: 0.8304\n",
      "Epoch 66/100\n",
      "443/443 - 13s - loss: 0.1771 - accuracy: 0.8613 - val_loss: 0.1897 - val_accuracy: 0.8278\n",
      "Epoch 67/100\n",
      "443/443 - 13s - loss: 0.1769 - accuracy: 0.8616 - val_loss: 0.1862 - val_accuracy: 0.8371\n",
      "Epoch 68/100\n",
      "443/443 - 13s - loss: 0.1768 - accuracy: 0.8616 - val_loss: 0.1875 - val_accuracy: 0.8366\n",
      "Epoch 69/100\n",
      "443/443 - 13s - loss: 0.1768 - accuracy: 0.8621 - val_loss: 0.1875 - val_accuracy: 0.8295\n",
      "Epoch 70/100\n",
      "443/443 - 13s - loss: 0.1767 - accuracy: 0.8617 - val_loss: 0.1910 - val_accuracy: 0.8230\n",
      "Epoch 71/100\n",
      "443/443 - 12s - loss: 0.1764 - accuracy: 0.8628 - val_loss: 0.1915 - val_accuracy: 0.8112\n",
      "Epoch 72/100\n",
      "443/443 - 13s - loss: 0.1761 - accuracy: 0.8624 - val_loss: 0.1898 - val_accuracy: 0.8284\n",
      "Epoch 73/100\n",
      "443/443 - 13s - loss: 0.1760 - accuracy: 0.8658 - val_loss: 0.1883 - val_accuracy: 0.8290\n",
      "Epoch 74/100\n",
      "443/443 - 13s - loss: 0.1760 - accuracy: 0.8639 - val_loss: 0.1867 - val_accuracy: 0.8315\n",
      "Epoch 75/100\n",
      "443/443 - 13s - loss: 0.1749 - accuracy: 0.8667 - val_loss: 0.1860 - val_accuracy: 0.8405\n",
      "Epoch 76/100\n",
      "443/443 - 13s - loss: 0.1755 - accuracy: 0.8649 - val_loss: 0.1871 - val_accuracy: 0.8377\n",
      "Epoch 77/100\n",
      "443/443 - 13s - loss: 0.1746 - accuracy: 0.8672 - val_loss: 0.1853 - val_accuracy: 0.8447\n",
      "Epoch 78/100\n",
      "443/443 - 13s - loss: 0.1750 - accuracy: 0.8672 - val_loss: 0.1869 - val_accuracy: 0.8357\n",
      "Epoch 79/100\n",
      "443/443 - 13s - loss: 0.1747 - accuracy: 0.8666 - val_loss: 0.1876 - val_accuracy: 0.8422\n",
      "Epoch 80/100\n",
      "443/443 - 13s - loss: 0.1748 - accuracy: 0.8685 - val_loss: 0.1875 - val_accuracy: 0.8329\n"
     ]
    },
    {
     "name": "stdout",
     "output_type": "stream",
     "text": [
      "Epoch 81/100\n",
      "443/443 - 13s - loss: 0.1743 - accuracy: 0.8702 - val_loss: 0.1881 - val_accuracy: 0.8318\n",
      "Epoch 82/100\n",
      "443/443 - 13s - loss: 0.1743 - accuracy: 0.8686 - val_loss: 0.1883 - val_accuracy: 0.8278\n",
      "Epoch 83/100\n",
      "443/443 - 13s - loss: 0.1745 - accuracy: 0.8699 - val_loss: 0.1880 - val_accuracy: 0.8388\n",
      "Epoch 84/100\n",
      "443/443 - 13s - loss: 0.1739 - accuracy: 0.8722 - val_loss: 0.1879 - val_accuracy: 0.8377\n",
      "Epoch 85/100\n",
      "443/443 - 13s - loss: 0.1736 - accuracy: 0.8680 - val_loss: 0.1867 - val_accuracy: 0.8377\n",
      "Epoch 86/100\n",
      "443/443 - 12s - loss: 0.1738 - accuracy: 0.8692 - val_loss: 0.1857 - val_accuracy: 0.8433\n",
      "Epoch 87/100\n",
      "443/443 - 13s - loss: 0.1737 - accuracy: 0.8705 - val_loss: 0.1890 - val_accuracy: 0.8346\n",
      "Epoch 88/100\n",
      "443/443 - 13s - loss: 0.1732 - accuracy: 0.8725 - val_loss: 0.1859 - val_accuracy: 0.8428\n",
      "Epoch 89/100\n",
      "443/443 - 13s - loss: 0.1735 - accuracy: 0.8711 - val_loss: 0.1873 - val_accuracy: 0.8371\n",
      "Epoch 90/100\n",
      "443/443 - 13s - loss: 0.1731 - accuracy: 0.8712 - val_loss: 0.1866 - val_accuracy: 0.8377\n",
      "Epoch 91/100\n",
      "443/443 - 13s - loss: 0.1726 - accuracy: 0.8739 - val_loss: 0.1881 - val_accuracy: 0.8323\n",
      "Epoch 92/100\n",
      "443/443 - 13s - loss: 0.1725 - accuracy: 0.8747 - val_loss: 0.1872 - val_accuracy: 0.8369\n",
      "Epoch 93/100\n",
      "443/443 - 13s - loss: 0.1722 - accuracy: 0.8765 - val_loss: 0.1878 - val_accuracy: 0.8385\n",
      "Epoch 94/100\n",
      "443/443 - 13s - loss: 0.1723 - accuracy: 0.8746 - val_loss: 0.1883 - val_accuracy: 0.8287\n",
      "Epoch 95/100\n",
      "443/443 - 13s - loss: 0.1723 - accuracy: 0.8731 - val_loss: 0.1890 - val_accuracy: 0.8312\n",
      "Epoch 96/100\n",
      "443/443 - 13s - loss: 0.1720 - accuracy: 0.8763 - val_loss: 0.1880 - val_accuracy: 0.8295\n",
      "Epoch 97/100\n",
      "443/443 - 13s - loss: 0.1717 - accuracy: 0.8777 - val_loss: 0.1873 - val_accuracy: 0.8340\n",
      "Epoch 98/100\n",
      "443/443 - 13s - loss: 0.1716 - accuracy: 0.8762 - val_loss: 0.1889 - val_accuracy: 0.8253\n",
      "Epoch 99/100\n",
      "443/443 - 13s - loss: 0.1717 - accuracy: 0.8758 - val_loss: 0.1858 - val_accuracy: 0.8343\n",
      "Epoch 100/100\n",
      "443/443 - 13s - loss: 0.1715 - accuracy: 0.8768 - val_loss: 0.1888 - val_accuracy: 0.8287\n"
     ]
    }
   ],
   "source": [
    "history = fit_model(model2, 64, 100, True, datagen, x_train, y_train, x_val, y_val, x_test)"
   ]
  },
  {
   "cell_type": "markdown",
   "metadata": {},
   "source": [
    "Now we're going to test our model using the test set for the model."
   ]
  },
  {
   "cell_type": "code",
   "execution_count": 26,
   "metadata": {},
   "outputs": [
    {
     "name": "stdout",
     "output_type": "stream",
     "text": [
      "56/56 [==============================] - 1s 9ms/step - loss: 0.1879 - accuracy: 0.8290\n"
     ]
    }
   ],
   "source": [
    "test_loss, test_acc = evaluate_model(model2, x_test, y_test,  64)"
   ]
  },
  {
   "cell_type": "code",
   "execution_count": 27,
   "metadata": {},
   "outputs": [
    {
     "name": "stdout",
     "output_type": "stream",
     "text": [
      "Test loss: 0.1879\n",
      "Test accuracy: 0.8290\n"
     ]
    }
   ],
   "source": [
    "print(f\"Test loss: {test_loss:.4f}\")\n",
    "print(f\"Test accuracy: {test_acc:.4f}\")"
   ]
  },
  {
   "cell_type": "code",
   "execution_count": 28,
   "metadata": {},
   "outputs": [
    {
     "data": {
      "image/png": "[encoded data removed]",
      "text/plain": [
       "<Figure size 432x288 with 1 Axes>"
      ]
     },
     "metadata": {
      "needs_background": "light"
     },
     "output_type": "display_data"
    },
    {
     "data": {
      "image/png": "[encoded data removed]",
      "text/plain": [
       "<Figure size 432x288 with 1 Axes>"
      ]
     },
     "metadata": {
      "needs_background": "light"
     },
     "output_type": "display_data"
    }
   ],
   "source": [
    "plot_acc_loss(history)"
   ]
  },
  {
   "cell_type": "markdown",
   "metadata": {},
   "source": [
    "Okay! We definitely see an improvement in the model! These results are good enough for now! Let's save the model"
   ]
  },
  {
   "cell_type": "code",
   "execution_count": 30,
   "metadata": {},
   "outputs": [
    {
     "name": "stdout",
     "output_type": "stream",
     "text": [
      "INFO:tensorflow:Assets written to: C:\\Users\\storm\\AppData\\Local\\Temp\\tmpzgx104e9\\assets\n"
     ]
    },
    {
     "name": "stderr",
     "output_type": "stream",
     "text": [
      "INFO:tensorflow:Assets written to: C:\\Users\\storm\\AppData\\Local\\Temp\\tmpzgx104e9\\assets\n"
     ]
    },
    {
     "name": "stdout",
     "output_type": "stream",
     "text": [
      "Model has been saved into a lite version!\n"
     ]
    }
   ],
   "source": [
    "save_model_to_lite(model2, test_acc)"
   ]
  },
  {
   "cell_type": "code",
   "execution_count": 31,
   "metadata": {},
   "outputs": [
    {
     "name": "stdout",
     "output_type": "stream",
     "text": [
      "INFO:tensorflow:Assets written to: saved_all_model8289\\assets\n"
     ]
    },
    {
     "name": "stderr",
     "output_type": "stream",
     "text": [
      "INFO:tensorflow:Assets written to: saved_all_model8289\\assets\n"
     ]
    },
    {
     "name": "stdout",
     "output_type": "stream",
     "text": [
      "Model is saved in a file.\n"
     ]
    }
   ],
   "source": [
    "save_all_model(model2, test_acc)"
   ]
  },
  {
   "cell_type": "markdown",
   "metadata": {},
   "source": [
    "## Conclusion\n"
   ]
  },
  {
   "cell_type": "markdown",
   "metadata": {},
   "source": [
    "As we have seen, we have saved the last model as `final model` for now. We will use this model in the final version for the project."
   ]
  }
 ],
 "metadata": {
  "kernelspec": {
   "display_name": "Python 3",
   "language": "python",
   "name": "python3"
  },
  "language_info": {
   "codemirror_mode": {
    "name": "ipython",
    "version": 3
   },
   "file_extension": ".py",
   "mimetype": "text/x-python",
   "name": "python",
   "nbconvert_exporter": "python",
   "pygments_lexer": "ipython3",
   "version": "3.8.5"
  }
 },
 "nbformat": 4,
 "nbformat_minor": 4
}