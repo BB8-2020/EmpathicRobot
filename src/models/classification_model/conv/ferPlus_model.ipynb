{
 "cells": [
  {
   "cell_type": "markdown",
   "metadata": {},
   "source": [
    "# Analyse and run models using FerPlus dataset"
   ]
  },
  {
   "cell_type": "markdown",
   "metadata": {},
   "source": [
    "In this notebook we are going to build, test, analyze and compare the model with the previous versions. This is followed by improvements to the model and the data. We run this cycle a few times until we achieve realistic and nice results.\n",
    "\n",
    "This model has been build in [this](https://github.com/BB8-2020/EmpathicRobot/tree/main/models/classification_model) file. \n",
    "\n",
    "If you have any quesentions about this notebook, you can send us a mail at maria.dukmak@student.hu.nl"
   ]
  },
  {
   "cell_type": "code",
   "execution_count": 1,
   "metadata": {},
   "outputs": [],
   "source": [
    "import sys\n",
    "# You need to change this path to your project path\n",
    "sys.path.append('/Users/storm/OneDrive/Documenten/HU/Jaar_2/BB8/EmpathicRobot')\n",
    "from conv_model import *\n",
    "from models.functions import *\n",
    "from models.classification_model.model_functions import *\n",
    "from tensorflow.keras import Sequential"
   ]
  },
  {
   "cell_type": "markdown",
   "metadata": {},
   "source": [
    "## Read data\n",
    "As we have done before, our data is ready to use. In this section we will use **ferPlus** to train the model. This data has already been read, prepared and stored in [this](https://github.com/BB8-2020/EmpathicRobot/tree/main/data) file.\n",
    "For now, our data is in a pickel file that we will read as follows:\n",
    "\n",
    "For simplicity, we set up the path to the data as follows, you can also set it to your own path."
   ]
  },
  {
   "cell_type": "code",
   "execution_count": 2,
   "metadata": {},
   "outputs": [],
   "source": [
    "os.chdir(os.getcwd() + '/data/')"
   ]
  },
  {
   "cell_type": "markdown",
   "metadata": {},
   "source": [
    "We immediately split the data into train, test and validation set."
   ]
  },
  {
   "cell_type": "code",
   "execution_count": 3,
   "metadata": {},
   "outputs": [],
   "source": [
    "x_train, y_train, x_val, y_val, x_test, y_test = read_data(str('ferPlus_processed'))"
   ]
  },
  {
   "cell_type": "markdown",
   "metadata": {},
   "source": [
    "As we see, the data consists of train set that contains 80% of the data. The validation and the test set are equal in size 20% and are used to subsequently test the model.\n",
    "\n",
    "This data has already been cleaned and normalized so we don't have to do anything with the data anymore."
   ]
  },
  {
   "cell_type": "code",
   "execution_count": 4,
   "metadata": {},
   "outputs": [
    {
     "name": "stdout",
     "output_type": "stream",
     "text": [
      "Train set: X_train shape:(28390, 48, 48, 1) Y_train shape:(28390, 7)\n",
      "Test set: X_test shape:(3549, 48, 48, 1) Y_test shape:(3549, 7)\n",
      "Validation set: X_val shape:(3549, 48, 48, 1) Y_val shape:(3549, 7)\n"
     ]
    }
   ],
   "source": [
    "print(f\"Train set: X_train shape:{x_train.shape} Y_train shape:{y_train.shape}\")\n",
    "\n",
    "print(f\"Test set: X_test shape:{x_test.shape} Y_test shape:{y_test.shape}\")\n",
    "\n",
    "print(f\"Validation set: X_val shape:{x_val.shape} Y_val shape:{y_val.shape}\")"
   ]
  },
  {
   "cell_type": "markdown",
   "metadata": {},
   "source": [
    "## Models"
   ]
  },
  {
   "cell_type": "code",
   "execution_count": 5,
   "metadata": {},
   "outputs": [],
   "source": [
    "# We create all the models that we got \n",
    "models = build_models(input_shape=(48, 48, 1), num_classes=7)"
   ]
  },
  {
   "cell_type": "markdown",
   "metadata": {},
   "source": [
    "### Model version 1 "
   ]
  },
  {
   "cell_type": "markdown",
   "metadata": {},
   "source": [
    "Now it is finally time to start working on the model. We are going to start with the following model:"
   ]
  },
  {
   "cell_type": "code",
   "execution_count": 6,
   "metadata": {},
   "outputs": [],
   "source": [
    "model1 = Sequential(models[0]['layers'], name = models[0]['name'])"
   ]
  },
  {
   "cell_type": "markdown",
   "metadata": {},
   "source": [
    "Let's check the summary out:"
   ]
  },
  {
   "cell_type": "code",
   "execution_count": 7,
   "metadata": {},
   "outputs": [
    {
     "name": "stdout",
     "output_type": "stream",
     "text": [
      "Model: \"Sequential_version_1\"\n",
      "_________________________________________________________________\n",
      "Layer (type)                 Output Shape              Param #   \n",
      "=================================================================\n",
      "conv2d (Conv2D)              (None, 46, 46, 64)        640       \n",
      "_________________________________________________________________\n",
      "batch_normalization (BatchNo (None, 46, 46, 64)        256       \n",
      "_________________________________________________________________\n",
      "dropout (Dropout)            (None, 46, 46, 64)        0         \n",
      "_________________________________________________________________\n",
      "conv2d_1 (Conv2D)            (None, 44, 44, 64)        36928     \n",
      "_________________________________________________________________\n",
      "max_pooling2d (MaxPooling2D) (None, 22, 22, 64)        0         \n",
      "_________________________________________________________________\n",
      "conv2d_2 (Conv2D)            (None, 20, 20, 128)       73856     \n",
      "_________________________________________________________________\n",
      "batch_normalization_1 (Batch (None, 20, 20, 128)       512       \n",
      "_________________________________________________________________\n",
      "conv2d_3 (Conv2D)            (None, 18, 18, 128)       147584    \n",
      "_________________________________________________________________\n",
      "max_pooling2d_1 (MaxPooling2 (None, 9, 9, 128)         0         \n",
      "_________________________________________________________________\n",
      "conv2d_4 (Conv2D)            (None, 7, 7, 256)         295168    \n",
      "_________________________________________________________________\n",
      "batch_normalization_2 (Batch (None, 7, 7, 256)         1024      \n",
      "_________________________________________________________________\n",
      "flatten (Flatten)            (None, 12544)             0         \n",
      "_________________________________________________________________\n",
      "dense (Dense)                (None, 1024)              12846080  \n",
      "_________________________________________________________________\n",
      "dropout_1 (Dropout)          (None, 1024)              0         \n",
      "_________________________________________________________________\n",
      "dense_1 (Dense)              (None, 1024)              1049600   \n",
      "_________________________________________________________________\n",
      "dropout_2 (Dropout)          (None, 1024)              0         \n",
      "_________________________________________________________________\n",
      "dense_2 (Dense)              (None, 7)                 7175      \n",
      "=================================================================\n",
      "Total params: 14,458,823\n",
      "Trainable params: 14,457,927\n",
      "Non-trainable params: 896\n",
      "_________________________________________________________________\n"
     ]
    }
   ],
   "source": [
    "model1.summary()"
   ]
  },
  {
   "cell_type": "markdown",
   "metadata": {},
   "source": [
    "Looks good, time to compile!"
   ]
  },
  {
   "cell_type": "markdown",
   "metadata": {},
   "source": [
    "### Compile and train"
   ]
  },
  {
   "cell_type": "markdown",
   "metadata": {},
   "source": [
    "To compile the model we use Adam optimaizer and binary crossentropy as los function. Let us now train the model."
   ]
  },
  {
   "cell_type": "code",
   "execution_count": 8,
   "metadata": {},
   "outputs": [],
   "source": [
    "compile_model(model1)"
   ]
  },
  {
   "cell_type": "code",
   "execution_count": 9,
   "metadata": {
    "scrolled": true
   },
   "outputs": [
    {
     "name": "stdout",
     "output_type": "stream",
     "text": [
      "Epoch 1/70\n",
      "443/443 - 12s - loss: 0.3202 - accuracy: 0.5207 - val_loss: 0.3368 - val_accuracy: 0.5032\n",
      "Epoch 2/70\n",
      "443/443 - 9s - loss: 0.2705 - accuracy: 0.6338 - val_loss: 0.2652 - val_accuracy: 0.6447\n",
      "Epoch 3/70\n",
      "443/443 - 9s - loss: 0.2460 - accuracy: 0.6937 - val_loss: 0.2584 - val_accuracy: 0.6627\n",
      "Epoch 4/70\n",
      "443/443 - 8s - loss: 0.2263 - accuracy: 0.7481 - val_loss: 0.2372 - val_accuracy: 0.7016\n",
      "Epoch 5/70\n",
      "443/443 - 9s - loss: 0.2117 - accuracy: 0.7891 - val_loss: 0.2511 - val_accuracy: 0.6971\n",
      "Epoch 6/70\n",
      "443/443 - 9s - loss: 0.1974 - accuracy: 0.8243 - val_loss: 0.2318 - val_accuracy: 0.7405\n",
      "Epoch 7/70\n",
      "443/443 - 10s - loss: 0.1869 - accuracy: 0.8516 - val_loss: 0.2282 - val_accuracy: 0.7444\n",
      "Epoch 8/70\n",
      "443/443 - 9s - loss: 0.1787 - accuracy: 0.8766 - val_loss: 0.2334 - val_accuracy: 0.7278\n",
      "Epoch 9/70\n",
      "443/443 - 9s - loss: 0.1722 - accuracy: 0.8899 - val_loss: 0.2309 - val_accuracy: 0.7461\n",
      "Epoch 10/70\n",
      "443/443 - 9s - loss: 0.1680 - accuracy: 0.9002 - val_loss: 0.2226 - val_accuracy: 0.7597\n",
      "Epoch 11/70\n",
      "443/443 - 9s - loss: 0.1640 - accuracy: 0.9049 - val_loss: 0.2245 - val_accuracy: 0.7523\n",
      "Epoch 12/70\n",
      "443/443 - 9s - loss: 0.1614 - accuracy: 0.9092 - val_loss: 0.2277 - val_accuracy: 0.7529\n",
      "Epoch 13/70\n",
      "443/443 - 9s - loss: 0.1591 - accuracy: 0.9091 - val_loss: 0.2201 - val_accuracy: 0.7616\n",
      "Epoch 14/70\n",
      "443/443 - 9s - loss: 0.1577 - accuracy: 0.9120 - val_loss: 0.2196 - val_accuracy: 0.7549\n",
      "Epoch 15/70\n",
      "443/443 - 9s - loss: 0.1560 - accuracy: 0.9141 - val_loss: 0.2200 - val_accuracy: 0.7628\n",
      "Epoch 16/70\n",
      "443/443 - 9s - loss: 0.1545 - accuracy: 0.9177 - val_loss: 0.2197 - val_accuracy: 0.7616\n",
      "Epoch 17/70\n",
      "443/443 - 9s - loss: 0.1528 - accuracy: 0.9159 - val_loss: 0.2207 - val_accuracy: 0.7642\n",
      "Epoch 18/70\n",
      "443/443 - 9s - loss: 0.1525 - accuracy: 0.9151 - val_loss: 0.2212 - val_accuracy: 0.7656\n",
      "Epoch 19/70\n",
      "443/443 - 9s - loss: 0.1512 - accuracy: 0.9183 - val_loss: 0.2215 - val_accuracy: 0.7591\n",
      "Epoch 20/70\n",
      "443/443 - 9s - loss: 0.1499 - accuracy: 0.9190 - val_loss: 0.2194 - val_accuracy: 0.7605\n",
      "Epoch 21/70\n",
      "443/443 - 8s - loss: 0.1489 - accuracy: 0.9234 - val_loss: 0.2193 - val_accuracy: 0.7687\n",
      "Epoch 22/70\n",
      "443/443 - 9s - loss: 0.1482 - accuracy: 0.9199 - val_loss: 0.2285 - val_accuracy: 0.7597\n",
      "Epoch 23/70\n",
      "443/443 - 9s - loss: 0.1477 - accuracy: 0.9245 - val_loss: 0.2206 - val_accuracy: 0.7647\n",
      "Epoch 24/70\n",
      "443/443 - 8s - loss: 0.1465 - accuracy: 0.9241 - val_loss: 0.2224 - val_accuracy: 0.7656\n",
      "Epoch 25/70\n",
      "443/443 - 9s - loss: 0.1462 - accuracy: 0.9281 - val_loss: 0.2235 - val_accuracy: 0.7678\n",
      "Epoch 26/70\n",
      "443/443 - 9s - loss: 0.1456 - accuracy: 0.9276 - val_loss: 0.2217 - val_accuracy: 0.7695\n",
      "Epoch 27/70\n",
      "443/443 - 9s - loss: 0.1450 - accuracy: 0.9306 - val_loss: 0.2209 - val_accuracy: 0.7715\n",
      "Epoch 28/70\n",
      "443/443 - 9s - loss: 0.1446 - accuracy: 0.9335 - val_loss: 0.2221 - val_accuracy: 0.7737\n",
      "Epoch 29/70\n",
      "443/443 - 9s - loss: 0.1441 - accuracy: 0.9334 - val_loss: 0.2208 - val_accuracy: 0.7746\n",
      "Epoch 30/70\n",
      "443/443 - 9s - loss: 0.1435 - accuracy: 0.9345 - val_loss: 0.2222 - val_accuracy: 0.7746\n",
      "Epoch 31/70\n",
      "443/443 - 9s - loss: 0.1432 - accuracy: 0.9348 - val_loss: 0.2218 - val_accuracy: 0.7794\n",
      "Epoch 32/70\n",
      "443/443 - 9s - loss: 0.1424 - accuracy: 0.9384 - val_loss: 0.2199 - val_accuracy: 0.7819\n",
      "Epoch 33/70\n",
      "443/443 - 9s - loss: 0.1424 - accuracy: 0.9371 - val_loss: 0.2222 - val_accuracy: 0.7743\n",
      "Epoch 34/70\n",
      "443/443 - 9s - loss: 0.1425 - accuracy: 0.9393 - val_loss: 0.2243 - val_accuracy: 0.7723\n",
      "Epoch 35/70\n",
      "443/443 - 9s - loss: 0.1413 - accuracy: 0.9421 - val_loss: 0.2233 - val_accuracy: 0.7718\n",
      "Epoch 36/70\n",
      "443/443 - 9s - loss: 0.1417 - accuracy: 0.9443 - val_loss: 0.2207 - val_accuracy: 0.7684\n",
      "Epoch 37/70\n",
      "443/443 - 9s - loss: 0.1413 - accuracy: 0.9440 - val_loss: 0.2244 - val_accuracy: 0.7729\n",
      "Epoch 38/70\n",
      "443/443 - 9s - loss: 0.1409 - accuracy: 0.9433 - val_loss: 0.2275 - val_accuracy: 0.7816\n",
      "Epoch 39/70\n",
      "443/443 - 9s - loss: 0.1405 - accuracy: 0.9445 - val_loss: 0.2246 - val_accuracy: 0.7771\n",
      "Epoch 40/70\n",
      "443/443 - 8s - loss: 0.1406 - accuracy: 0.9463 - val_loss: 0.2245 - val_accuracy: 0.7802\n",
      "Epoch 41/70\n",
      "443/443 - 8s - loss: 0.1399 - accuracy: 0.9484 - val_loss: 0.2229 - val_accuracy: 0.7811\n",
      "Epoch 42/70\n",
      "443/443 - 8s - loss: 0.1400 - accuracy: 0.9472 - val_loss: 0.2274 - val_accuracy: 0.7681\n",
      "Epoch 43/70\n",
      "443/443 - 9s - loss: 0.1398 - accuracy: 0.9482 - val_loss: 0.2277 - val_accuracy: 0.7766\n",
      "Epoch 44/70\n",
      "443/443 - 9s - loss: 0.1395 - accuracy: 0.9465 - val_loss: 0.2261 - val_accuracy: 0.7816\n",
      "Epoch 45/70\n",
      "443/443 - 8s - loss: 0.1392 - accuracy: 0.9512 - val_loss: 0.2275 - val_accuracy: 0.7760\n",
      "Epoch 46/70\n",
      "443/443 - 8s - loss: 0.1391 - accuracy: 0.9497 - val_loss: 0.2315 - val_accuracy: 0.7760\n",
      "Epoch 47/70\n",
      "443/443 - 9s - loss: 0.1391 - accuracy: 0.9506 - val_loss: 0.2294 - val_accuracy: 0.7760\n",
      "Epoch 48/70\n",
      "443/443 - 9s - loss: 0.1385 - accuracy: 0.9513 - val_loss: 0.2299 - val_accuracy: 0.7774\n",
      "Epoch 49/70\n",
      "443/443 - 9s - loss: 0.1388 - accuracy: 0.9537 - val_loss: 0.2320 - val_accuracy: 0.7859\n",
      "Epoch 50/70\n",
      "443/443 - 9s - loss: 0.1382 - accuracy: 0.9538 - val_loss: 0.2290 - val_accuracy: 0.7788\n",
      "Epoch 51/70\n",
      "443/443 - 9s - loss: 0.1385 - accuracy: 0.9542 - val_loss: 0.2311 - val_accuracy: 0.7774\n",
      "Epoch 52/70\n",
      "443/443 - 9s - loss: 0.1379 - accuracy: 0.9559 - val_loss: 0.2327 - val_accuracy: 0.7797\n",
      "Epoch 53/70\n",
      "443/443 - 9s - loss: 0.1384 - accuracy: 0.9550 - val_loss: 0.2331 - val_accuracy: 0.7760\n",
      "Epoch 54/70\n",
      "443/443 - 9s - loss: 0.1375 - accuracy: 0.9572 - val_loss: 0.2393 - val_accuracy: 0.7760\n",
      "Epoch 55/70\n",
      "443/443 - 9s - loss: 0.1382 - accuracy: 0.9565 - val_loss: 0.2394 - val_accuracy: 0.7799\n",
      "Epoch 56/70\n",
      "443/443 - 9s - loss: 0.1370 - accuracy: 0.9565 - val_loss: 0.2334 - val_accuracy: 0.7822\n",
      "Epoch 57/70\n",
      "443/443 - 9s - loss: 0.1380 - accuracy: 0.9586 - val_loss: 0.2416 - val_accuracy: 0.7751\n",
      "Epoch 58/70\n",
      "443/443 - 9s - loss: 0.1375 - accuracy: 0.9576 - val_loss: 0.2394 - val_accuracy: 0.7828\n",
      "Epoch 59/70\n",
      "443/443 - 9s - loss: 0.1370 - accuracy: 0.9602 - val_loss: 0.2397 - val_accuracy: 0.7805\n",
      "Epoch 60/70\n",
      "443/443 - 9s - loss: 0.1366 - accuracy: 0.9599 - val_loss: 0.2456 - val_accuracy: 0.7782\n",
      "Epoch 61/70\n",
      "443/443 - 9s - loss: 0.1373 - accuracy: 0.9587 - val_loss: 0.2417 - val_accuracy: 0.7833\n",
      "Epoch 62/70\n",
      "443/443 - 9s - loss: 0.1371 - accuracy: 0.9598 - val_loss: 0.2447 - val_accuracy: 0.7743\n",
      "Epoch 63/70\n",
      "443/443 - 9s - loss: 0.1367 - accuracy: 0.9597 - val_loss: 0.2416 - val_accuracy: 0.7771\n",
      "Epoch 64/70\n",
      "443/443 - 8s - loss: 0.1374 - accuracy: 0.9586 - val_loss: 0.2448 - val_accuracy: 0.7805\n",
      "Epoch 65/70\n",
      "443/443 - 9s - loss: 0.1362 - accuracy: 0.9607 - val_loss: 0.2472 - val_accuracy: 0.7737\n",
      "Epoch 66/70\n",
      "443/443 - 9s - loss: 0.1363 - accuracy: 0.9593 - val_loss: 0.2437 - val_accuracy: 0.7836\n",
      "Epoch 67/70\n",
      "443/443 - 9s - loss: 0.1368 - accuracy: 0.9607 - val_loss: 0.2518 - val_accuracy: 0.7791\n",
      "Epoch 68/70\n",
      "443/443 - 8s - loss: 0.1362 - accuracy: 0.9605 - val_loss: 0.2524 - val_accuracy: 0.7844\n",
      "Epoch 69/70\n",
      "443/443 - 9s - loss: 0.1362 - accuracy: 0.9601 - val_loss: 0.2519 - val_accuracy: 0.7709\n",
      "Epoch 70/70\n",
      "443/443 - 9s - loss: 0.1364 - accuracy: 0.9629 - val_loss: 0.2537 - val_accuracy: 0.7822\n"
     ]
    }
   ],
   "source": [
    "history = fit_model(model1, 64, 70, False, x_train, y_train, x_val, y_val, x_test)"
   ]
  },
  {
   "cell_type": "markdown",
   "metadata": {},
   "source": [
    "Now we're going to test our model using the test set for the model."
   ]
  },
  {
   "cell_type": "code",
   "execution_count": 10,
   "metadata": {},
   "outputs": [
    {
     "name": "stdout",
     "output_type": "stream",
     "text": [
      "56/56 [==============================] - 0s 6ms/step - loss: 0.2502 - accuracy: 0.7704\n"
     ]
    }
   ],
   "source": [
    "test_loss, test_acc = evaluate_model(model1, x_test, y_test,  64)"
   ]
  },
  {
   "cell_type": "code",
   "execution_count": 11,
   "metadata": {},
   "outputs": [
    {
     "name": "stdout",
     "output_type": "stream",
     "text": [
      "Test loss: 0.2502\n",
      "Test accuracy: 0.7704\n"
     ]
    }
   ],
   "source": [
    "print(f\"Test loss: {test_loss:.4f}\")\n",
    "print(f\"Test accuracy: {test_acc:.4f}\")"
   ]
  },
  {
   "cell_type": "code",
   "execution_count": 12,
   "metadata": {},
   "outputs": [
    {
     "data": {
      "image/png": "[encoded data removed]",
      "text/plain": [
       "<Figure size 432x288 with 1 Axes>"
      ]
     },
     "metadata": {
      "needs_background": "light"
     },
     "output_type": "display_data"
    },
    {
     "data": {
      "image/png": "[encoded data removed]",
      "text/plain": [
       "<Figure size 432x288 with 1 Axes>"
      ]
     },
     "metadata": {
      "needs_background": "light"
     },
     "output_type": "display_data"
    }
   ],
   "source": [
    "plot_acc_loss(history)"
   ]
  },
  {
   "cell_type": "code",
   "execution_count": 13,
   "metadata": {},
   "outputs": [
    {
     "name": "stdout",
     "output_type": "stream",
     "text": [
      "INFO:tensorflow:Assets written to: C:\\Users\\storm\\AppData\\Local\\Temp\\tmpqpj26lqo\\assets\n"
     ]
    }
   ],
   "source": [
    "# Save the model into a tenserflow lite version\n",
    "save_model_to_lite(model1, test_acc)"
   ]
  },
  {
   "cell_type": "markdown",
   "metadata": {},
   "source": [
    "On the basis of the graphs we see that the model is very overfitted. Which means the results of the model are not good. We can try to solve that by making the model deeper"
   ]
  },
  {
   "cell_type": "markdown",
   "metadata": {},
   "source": [
    "As we saw above, the results are not too great. Therefore we will now try to adjust the settings of the model ."
   ]
  },
  {
   "cell_type": "markdown",
   "metadata": {},
   "source": [
    "### Model version 2"
   ]
  },
  {
   "cell_type": "markdown",
   "metadata": {},
   "source": [
    "Now we are going the same as above. So we are going to creat the model, complie it and fit it."
   ]
  },
  {
   "cell_type": "code",
   "execution_count": 14,
   "metadata": {},
   "outputs": [],
   "source": [
    "model2 = Sequential(models[1]['layers'], name = models[1]['name'])"
   ]
  },
  {
   "cell_type": "code",
   "execution_count": 15,
   "metadata": {},
   "outputs": [
    {
     "name": "stdout",
     "output_type": "stream",
     "text": [
      "Model: \"Sequential_version_2\"\n",
      "_________________________________________________________________\n",
      "Layer (type)                 Output Shape              Param #   \n",
      "=================================================================\n",
      "conv2d_5 (Conv2D)            (None, 46, 46, 64)        640       \n",
      "_________________________________________________________________\n",
      "batch_normalization_3 (Batch (None, 46, 46, 64)        256       \n",
      "_________________________________________________________________\n",
      "conv2d_6 (Conv2D)            (None, 44, 44, 64)        36928     \n",
      "_________________________________________________________________\n",
      "batch_normalization_4 (Batch (None, 44, 44, 64)        256       \n",
      "_________________________________________________________________\n",
      "dropout_3 (Dropout)          (None, 44, 44, 64)        0         \n",
      "_________________________________________________________________\n",
      "conv2d_7 (Conv2D)            (None, 42, 42, 64)        36928     \n",
      "_________________________________________________________________\n",
      "conv2d_8 (Conv2D)            (None, 40, 40, 64)        36928     \n",
      "_________________________________________________________________\n",
      "max_pooling2d_2 (MaxPooling2 (None, 20, 20, 64)        0         \n",
      "_________________________________________________________________\n",
      "conv2d_9 (Conv2D)            (None, 18, 18, 128)       73856     \n",
      "_________________________________________________________________\n",
      "batch_normalization_5 (Batch (None, 18, 18, 128)       512       \n",
      "_________________________________________________________________\n",
      "conv2d_10 (Conv2D)           (None, 16, 16, 128)       147584    \n",
      "_________________________________________________________________\n",
      "batch_normalization_6 (Batch (None, 16, 16, 128)       512       \n",
      "_________________________________________________________________\n",
      "conv2d_11 (Conv2D)           (None, 14, 14, 128)       147584    \n",
      "_________________________________________________________________\n",
      "conv2d_12 (Conv2D)           (None, 12, 12, 128)       147584    \n",
      "_________________________________________________________________\n",
      "max_pooling2d_3 (MaxPooling2 (None, 6, 6, 128)         0         \n",
      "_________________________________________________________________\n",
      "conv2d_13 (Conv2D)           (None, 4, 4, 256)         295168    \n",
      "_________________________________________________________________\n",
      "batch_normalization_7 (Batch (None, 4, 4, 256)         1024      \n",
      "_________________________________________________________________\n",
      "conv2d_14 (Conv2D)           (None, 2, 2, 256)         590080    \n",
      "_________________________________________________________________\n",
      "batch_normalization_8 (Batch (None, 2, 2, 256)         1024      \n",
      "_________________________________________________________________\n",
      "flatten_1 (Flatten)          (None, 1024)              0         \n",
      "_________________________________________________________________\n",
      "dense_3 (Dense)              (None, 1024)              1049600   \n",
      "_________________________________________________________________\n",
      "dropout_4 (Dropout)          (None, 1024)              0         \n",
      "_________________________________________________________________\n",
      "dense_4 (Dense)              (None, 1024)              1049600   \n",
      "_________________________________________________________________\n",
      "dropout_5 (Dropout)          (None, 1024)              0         \n",
      "_________________________________________________________________\n",
      "dense_5 (Dense)              (None, 7)                 7175      \n",
      "=================================================================\n",
      "Total params: 3,623,239\n",
      "Trainable params: 3,621,447\n",
      "Non-trainable params: 1,792\n",
      "_________________________________________________________________\n"
     ]
    }
   ],
   "source": [
    "model2.summary()"
   ]
  },
  {
   "cell_type": "markdown",
   "metadata": {},
   "source": [
    "Perfect! Lets compile "
   ]
  },
  {
   "cell_type": "markdown",
   "metadata": {},
   "source": [
    "### Compile and train"
   ]
  },
  {
   "cell_type": "code",
   "execution_count": 16,
   "metadata": {},
   "outputs": [],
   "source": [
    "compile_model(model2)"
   ]
  },
  {
   "cell_type": "code",
   "execution_count": 17,
   "metadata": {},
   "outputs": [
    {
     "name": "stdout",
     "output_type": "stream",
     "text": [
      "Epoch 1/70\n",
      "443/443 - 14s - loss: 0.3351 - accuracy: 0.4739 - val_loss: 0.3561 - val_accuracy: 0.4018\n",
      "Epoch 2/70\n",
      "443/443 - 13s - loss: 0.2821 - accuracy: 0.6016 - val_loss: 0.2775 - val_accuracy: 0.6205\n",
      "Epoch 3/70\n",
      "443/443 - 12s - loss: 0.2597 - accuracy: 0.6536 - val_loss: 0.2520 - val_accuracy: 0.6777\n",
      "Epoch 4/70\n",
      "443/443 - 13s - loss: 0.2436 - accuracy: 0.6929 - val_loss: 0.2457 - val_accuracy: 0.6833\n",
      "Epoch 5/70\n",
      "443/443 - 13s - loss: 0.2319 - accuracy: 0.7257 - val_loss: 0.2408 - val_accuracy: 0.7061\n",
      "Epoch 6/70\n",
      "443/443 - 12s - loss: 0.2228 - accuracy: 0.7465 - val_loss: 0.2311 - val_accuracy: 0.7143\n",
      "Epoch 7/70\n",
      "443/443 - 13s - loss: 0.2145 - accuracy: 0.7666 - val_loss: 0.2339 - val_accuracy: 0.7278\n",
      "Epoch 8/70\n",
      "443/443 - 13s - loss: 0.2073 - accuracy: 0.7860 - val_loss: 0.2303 - val_accuracy: 0.7318\n",
      "Epoch 9/70\n",
      "443/443 - 13s - loss: 0.2008 - accuracy: 0.8033 - val_loss: 0.2208 - val_accuracy: 0.7416\n",
      "Epoch 10/70\n",
      "443/443 - 13s - loss: 0.1945 - accuracy: 0.8222 - val_loss: 0.2248 - val_accuracy: 0.7540\n",
      "Epoch 11/70\n",
      "443/443 - 13s - loss: 0.1886 - accuracy: 0.8400 - val_loss: 0.2197 - val_accuracy: 0.7537\n",
      "Epoch 12/70\n",
      "443/443 - 13s - loss: 0.1838 - accuracy: 0.8532 - val_loss: 0.2319 - val_accuracy: 0.7413\n",
      "Epoch 13/70\n",
      "443/443 - 13s - loss: 0.1794 - accuracy: 0.8632 - val_loss: 0.2209 - val_accuracy: 0.7675\n",
      "Epoch 14/70\n",
      "443/443 - 13s - loss: 0.1752 - accuracy: 0.8773 - val_loss: 0.2171 - val_accuracy: 0.7639\n",
      "Epoch 15/70\n",
      "443/443 - 12s - loss: 0.1726 - accuracy: 0.8818 - val_loss: 0.2208 - val_accuracy: 0.7391\n",
      "Epoch 16/70\n",
      "443/443 - 12s - loss: 0.1697 - accuracy: 0.8903 - val_loss: 0.2213 - val_accuracy: 0.7597\n",
      "Epoch 17/70\n",
      "443/443 - 13s - loss: 0.1672 - accuracy: 0.8957 - val_loss: 0.2214 - val_accuracy: 0.7771\n",
      "Epoch 18/70\n",
      "443/443 - 12s - loss: 0.1650 - accuracy: 0.9031 - val_loss: 0.2201 - val_accuracy: 0.7636\n",
      "Epoch 19/70\n",
      "443/443 - 12s - loss: 0.1632 - accuracy: 0.9055 - val_loss: 0.2207 - val_accuracy: 0.7489\n",
      "Epoch 20/70\n",
      "443/443 - 13s - loss: 0.1613 - accuracy: 0.9070 - val_loss: 0.2249 - val_accuracy: 0.7529\n",
      "Epoch 21/70\n",
      "443/443 - 13s - loss: 0.1608 - accuracy: 0.9066 - val_loss: 0.2208 - val_accuracy: 0.7622\n",
      "Epoch 22/70\n",
      "443/443 - 13s - loss: 0.1587 - accuracy: 0.9116 - val_loss: 0.2231 - val_accuracy: 0.7675\n",
      "Epoch 23/70\n",
      "443/443 - 13s - loss: 0.1577 - accuracy: 0.9133 - val_loss: 0.2247 - val_accuracy: 0.7605\n",
      "Epoch 24/70\n",
      "443/443 - 12s - loss: 0.1569 - accuracy: 0.9118 - val_loss: 0.2190 - val_accuracy: 0.7751\n",
      "Epoch 25/70\n",
      "443/443 - 13s - loss: 0.1561 - accuracy: 0.9142 - val_loss: 0.2183 - val_accuracy: 0.7712\n",
      "Epoch 26/70\n",
      "443/443 - 13s - loss: 0.1551 - accuracy: 0.9143 - val_loss: 0.2212 - val_accuracy: 0.7670\n",
      "Epoch 27/70\n",
      "443/443 - 13s - loss: 0.1541 - accuracy: 0.9172 - val_loss: 0.2196 - val_accuracy: 0.7616\n",
      "Epoch 28/70\n",
      "443/443 - 13s - loss: 0.1530 - accuracy: 0.9172 - val_loss: 0.2205 - val_accuracy: 0.7687\n",
      "Epoch 29/70\n",
      "443/443 - 13s - loss: 0.1523 - accuracy: 0.9197 - val_loss: 0.2222 - val_accuracy: 0.7650\n",
      "Epoch 30/70\n",
      "443/443 - 13s - loss: 0.1519 - accuracy: 0.9186 - val_loss: 0.2230 - val_accuracy: 0.7740\n",
      "Epoch 31/70\n",
      "443/443 - 13s - loss: 0.1512 - accuracy: 0.9222 - val_loss: 0.2223 - val_accuracy: 0.7670\n",
      "Epoch 32/70\n",
      "443/443 - 13s - loss: 0.1501 - accuracy: 0.9217 - val_loss: 0.2190 - val_accuracy: 0.7684\n",
      "Epoch 33/70\n",
      "443/443 - 13s - loss: 0.1495 - accuracy: 0.9235 - val_loss: 0.2230 - val_accuracy: 0.7681\n",
      "Epoch 34/70\n",
      "443/443 - 12s - loss: 0.1486 - accuracy: 0.9235 - val_loss: 0.2207 - val_accuracy: 0.7737\n",
      "Epoch 35/70\n",
      "443/443 - 13s - loss: 0.1487 - accuracy: 0.9257 - val_loss: 0.2206 - val_accuracy: 0.7760\n",
      "Epoch 36/70\n",
      "443/443 - 12s - loss: 0.1480 - accuracy: 0.9241 - val_loss: 0.2209 - val_accuracy: 0.7670\n",
      "Epoch 37/70\n",
      "443/443 - 12s - loss: 0.1475 - accuracy: 0.9259 - val_loss: 0.2218 - val_accuracy: 0.7695\n",
      "Epoch 38/70\n",
      "443/443 - 12s - loss: 0.1473 - accuracy: 0.9271 - val_loss: 0.2223 - val_accuracy: 0.7763\n",
      "Epoch 39/70\n",
      "443/443 - 12s - loss: 0.1468 - accuracy: 0.9281 - val_loss: 0.2245 - val_accuracy: 0.7628\n",
      "Epoch 40/70\n",
      "443/443 - 12s - loss: 0.1458 - accuracy: 0.9297 - val_loss: 0.2212 - val_accuracy: 0.7760\n",
      "Epoch 41/70\n",
      "443/443 - 12s - loss: 0.1456 - accuracy: 0.9307 - val_loss: 0.2232 - val_accuracy: 0.7647\n",
      "Epoch 42/70\n",
      "443/443 - 13s - loss: 0.1452 - accuracy: 0.9323 - val_loss: 0.2233 - val_accuracy: 0.7754\n",
      "Epoch 43/70\n",
      "443/443 - 13s - loss: 0.1449 - accuracy: 0.9328 - val_loss: 0.2253 - val_accuracy: 0.7802\n",
      "Epoch 44/70\n",
      "443/443 - 13s - loss: 0.1442 - accuracy: 0.9321 - val_loss: 0.2259 - val_accuracy: 0.7782\n",
      "Epoch 45/70\n",
      "443/443 - 13s - loss: 0.1445 - accuracy: 0.9311 - val_loss: 0.2250 - val_accuracy: 0.7751\n",
      "Epoch 46/70\n",
      "443/443 - 13s - loss: 0.1438 - accuracy: 0.9337 - val_loss: 0.2269 - val_accuracy: 0.7726\n",
      "Epoch 47/70\n",
      "443/443 - 13s - loss: 0.1441 - accuracy: 0.9351 - val_loss: 0.2282 - val_accuracy: 0.7794\n",
      "Epoch 48/70\n",
      "443/443 - 13s - loss: 0.1430 - accuracy: 0.9380 - val_loss: 0.2225 - val_accuracy: 0.7760\n",
      "Epoch 49/70\n",
      "443/443 - 13s - loss: 0.1430 - accuracy: 0.9380 - val_loss: 0.2263 - val_accuracy: 0.7760\n",
      "Epoch 50/70\n",
      "443/443 - 13s - loss: 0.1425 - accuracy: 0.9369 - val_loss: 0.2273 - val_accuracy: 0.7839\n",
      "Epoch 51/70\n",
      "443/443 - 13s - loss: 0.1431 - accuracy: 0.9368 - val_loss: 0.2252 - val_accuracy: 0.7830\n",
      "Epoch 52/70\n",
      "443/443 - 13s - loss: 0.1420 - accuracy: 0.9395 - val_loss: 0.2255 - val_accuracy: 0.7802\n",
      "Epoch 53/70\n",
      "443/443 - 12s - loss: 0.1422 - accuracy: 0.9391 - val_loss: 0.2289 - val_accuracy: 0.7774\n",
      "Epoch 54/70\n",
      "443/443 - 12s - loss: 0.1423 - accuracy: 0.9401 - val_loss: 0.2268 - val_accuracy: 0.7771\n",
      "Epoch 55/70\n",
      "443/443 - 12s - loss: 0.1419 - accuracy: 0.9408 - val_loss: 0.2273 - val_accuracy: 0.7830\n",
      "Epoch 56/70\n",
      "443/443 - 12s - loss: 0.1414 - accuracy: 0.9426 - val_loss: 0.2287 - val_accuracy: 0.7811\n",
      "Epoch 57/70\n",
      "443/443 - 12s - loss: 0.1410 - accuracy: 0.9429 - val_loss: 0.2277 - val_accuracy: 0.7771\n",
      "Epoch 58/70\n",
      "443/443 - 12s - loss: 0.1411 - accuracy: 0.9427 - val_loss: 0.2290 - val_accuracy: 0.7788\n",
      "Epoch 59/70\n",
      "443/443 - 12s - loss: 0.1416 - accuracy: 0.9417 - val_loss: 0.2359 - val_accuracy: 0.7802\n",
      "Epoch 60/70\n",
      "443/443 - 12s - loss: 0.1402 - accuracy: 0.9465 - val_loss: 0.2305 - val_accuracy: 0.7805\n",
      "Epoch 61/70\n",
      "443/443 - 13s - loss: 0.1410 - accuracy: 0.9443 - val_loss: 0.2316 - val_accuracy: 0.7830\n",
      "Epoch 62/70\n",
      "443/443 - 13s - loss: 0.1403 - accuracy: 0.9450 - val_loss: 0.2329 - val_accuracy: 0.7870\n",
      "Epoch 63/70\n",
      "443/443 - 13s - loss: 0.1403 - accuracy: 0.9466 - val_loss: 0.2327 - val_accuracy: 0.7842\n",
      "Epoch 64/70\n",
      "443/443 - 13s - loss: 0.1400 - accuracy: 0.9460 - val_loss: 0.2351 - val_accuracy: 0.7766\n",
      "Epoch 65/70\n",
      "443/443 - 12s - loss: 0.1402 - accuracy: 0.9446 - val_loss: 0.2362 - val_accuracy: 0.7782\n",
      "Epoch 66/70\n",
      "443/443 - 12s - loss: 0.1396 - accuracy: 0.9463 - val_loss: 0.2397 - val_accuracy: 0.7766\n",
      "Epoch 67/70\n",
      "443/443 - 12s - loss: 0.1399 - accuracy: 0.9477 - val_loss: 0.2366 - val_accuracy: 0.7850\n",
      "Epoch 68/70\n",
      "443/443 - 13s - loss: 0.1398 - accuracy: 0.9482 - val_loss: 0.2362 - val_accuracy: 0.7729\n",
      "Epoch 69/70\n",
      "443/443 - 13s - loss: 0.1390 - accuracy: 0.9485 - val_loss: 0.2394 - val_accuracy: 0.7875\n",
      "Epoch 70/70\n",
      "443/443 - 13s - loss: 0.1397 - accuracy: 0.9500 - val_loss: 0.2426 - val_accuracy: 0.7915\n"
     ]
    }
   ],
   "source": [
    "history = fit_model(model2, 64, 70, False, x_train, y_train, x_val, y_val, x_test)"
   ]
  },
  {
   "cell_type": "markdown",
   "metadata": {},
   "source": [
    "Now we're going to test our model using the test set for the model."
   ]
  },
  {
   "cell_type": "code",
   "execution_count": 18,
   "metadata": {},
   "outputs": [
    {
     "name": "stdout",
     "output_type": "stream",
     "text": [
      "56/56 [==============================] - 1s 9ms/step - loss: 0.2384 - accuracy: 0.7819\n"
     ]
    }
   ],
   "source": [
    "test_loss, test_acc = evaluate_model(model2, x_test, y_test,  64)"
   ]
  },
  {
   "cell_type": "code",
   "execution_count": 19,
   "metadata": {},
   "outputs": [
    {
     "name": "stdout",
     "output_type": "stream",
     "text": [
      "Test loss: 0.2384\n",
      "Test accuracy: 0.7819\n"
     ]
    }
   ],
   "source": [
    "print(f\"Test loss: {test_loss:.4f}\")\n",
    "print(f\"Test accuracy: {test_acc:.4f}\")"
   ]
  },
  {
   "cell_type": "code",
   "execution_count": 20,
   "metadata": {},
   "outputs": [
    {
     "data": {
      "image/png": "[encoded data removed]",
      "text/plain": [
       "<Figure size 432x288 with 1 Axes>"
      ]
     },
     "metadata": {
      "needs_background": "light"
     },
     "output_type": "display_data"
    },
    {
     "data": {
      "image/png": "[encoded data removed]",
      "text/plain": [
       "<Figure size 432x288 with 1 Axes>"
      ]
     },
     "metadata": {
      "needs_background": "light"
     },
     "output_type": "display_data"
    }
   ],
   "source": [
    "plot_acc_loss(history)"
   ]
  },
  {
   "cell_type": "code",
   "execution_count": 21,
   "metadata": {},
   "outputs": [
    {
     "name": "stdout",
     "output_type": "stream",
     "text": [
      "INFO:tensorflow:Assets written to: C:\\Users\\storm\\AppData\\Local\\Temp\\tmps9bkwqsf\\assets\n"
     ]
    },
    {
     "name": "stderr",
     "output_type": "stream",
     "text": [
      "INFO:tensorflow:Assets written to: C:\\Users\\storm\\AppData\\Local\\Temp\\tmps9bkwqsf\\assets\n"
     ]
    }
   ],
   "source": [
    "save_model_to_lite(model2, test_acc)"
   ]
  },
  {
   "cell_type": "markdown",
   "metadata": {},
   "source": [
    "The results are going beter, next we are going to try to add some argumentation to the data. That could help our model to leren more. You can find the file where the data has been argumendated right [here](https://github.com/BB8-2020/EmpathicRobot/tree/main/data)."
   ]
  },
  {
   "cell_type": "markdown",
   "metadata": {},
   "source": [
    "## Augment data"
   ]
  },
  {
   "cell_type": "markdown",
   "metadata": {},
   "source": [
    "We split the data again:"
   ]
  },
  {
   "cell_type": "code",
   "execution_count": 22,
   "metadata": {},
   "outputs": [],
   "source": [
    "datagen, x_train_arg, y_train_arg, x_val_arg, y_val_arg, x_test_arg, y_test_arg = read_data('ferPlus_augment', True)"
   ]
  },
  {
   "cell_type": "markdown",
   "metadata": {},
   "source": [
    "Now we are going to just fit the model using this data."
   ]
  },
  {
   "cell_type": "code",
   "execution_count": 23,
   "metadata": {
    "scrolled": true
   },
   "outputs": [
    {
     "name": "stdout",
     "output_type": "stream",
     "text": [
      "Epoch 1/100\n",
      "443/443 - 13s - loss: 0.2422 - accuracy: 0.7045 - val_loss: 0.2130 - val_accuracy: 0.7658\n",
      "Epoch 2/100\n",
      "443/443 - 13s - loss: 0.2240 - accuracy: 0.7418 - val_loss: 0.2069 - val_accuracy: 0.7768\n",
      "Epoch 3/100\n",
      "443/443 - 13s - loss: 0.2170 - accuracy: 0.7567 - val_loss: 0.2061 - val_accuracy: 0.7878\n",
      "Epoch 4/100\n",
      "443/443 - 13s - loss: 0.2129 - accuracy: 0.7629 - val_loss: 0.2048 - val_accuracy: 0.7887\n",
      "Epoch 5/100\n",
      "443/443 - 13s - loss: 0.2111 - accuracy: 0.7692 - val_loss: 0.2059 - val_accuracy: 0.7822\n",
      "Epoch 6/100\n",
      "443/443 - 13s - loss: 0.2080 - accuracy: 0.7798 - val_loss: 0.2023 - val_accuracy: 0.7937\n",
      "Epoch 7/100\n",
      "443/443 - 13s - loss: 0.2068 - accuracy: 0.7820 - val_loss: 0.1984 - val_accuracy: 0.8005\n",
      "Epoch 8/100\n",
      "443/443 - 13s - loss: 0.2047 - accuracy: 0.7873 - val_loss: 0.1987 - val_accuracy: 0.8045\n",
      "Epoch 9/100\n",
      "443/443 - 13s - loss: 0.2036 - accuracy: 0.7897 - val_loss: 0.1999 - val_accuracy: 0.7926\n",
      "Epoch 10/100\n",
      "443/443 - 13s - loss: 0.2024 - accuracy: 0.7923 - val_loss: 0.1995 - val_accuracy: 0.8028\n",
      "Epoch 11/100\n",
      "443/443 - 12s - loss: 0.2016 - accuracy: 0.7928 - val_loss: 0.1973 - val_accuracy: 0.7966\n",
      "Epoch 12/100\n",
      "443/443 - 12s - loss: 0.2007 - accuracy: 0.7971 - val_loss: 0.1965 - val_accuracy: 0.8047\n",
      "Epoch 13/100\n",
      "443/443 - 12s - loss: 0.1994 - accuracy: 0.7994 - val_loss: 0.1962 - val_accuracy: 0.8084\n",
      "Epoch 14/100\n",
      "443/443 - 12s - loss: 0.1980 - accuracy: 0.8035 - val_loss: 0.1969 - val_accuracy: 0.8022\n",
      "Epoch 15/100\n",
      "443/443 - 12s - loss: 0.1971 - accuracy: 0.8037 - val_loss: 0.1975 - val_accuracy: 0.7991\n",
      "Epoch 16/100\n",
      "443/443 - 13s - loss: 0.1965 - accuracy: 0.8075 - val_loss: 0.1968 - val_accuracy: 0.8005\n",
      "Epoch 17/100\n",
      "443/443 - 12s - loss: 0.1957 - accuracy: 0.8091 - val_loss: 0.1953 - val_accuracy: 0.8118\n",
      "Epoch 18/100\n",
      "443/443 - 12s - loss: 0.1952 - accuracy: 0.8091 - val_loss: 0.1935 - val_accuracy: 0.8183\n",
      "Epoch 19/100\n",
      "443/443 - 12s - loss: 0.1938 - accuracy: 0.8152 - val_loss: 0.1928 - val_accuracy: 0.8183\n",
      "Epoch 20/100\n",
      "443/443 - 13s - loss: 0.1942 - accuracy: 0.8128 - val_loss: 0.1946 - val_accuracy: 0.8047\n",
      "Epoch 21/100\n",
      "443/443 - 13s - loss: 0.1932 - accuracy: 0.8158 - val_loss: 0.1990 - val_accuracy: 0.7918\n",
      "Epoch 22/100\n",
      "443/443 - 13s - loss: 0.1922 - accuracy: 0.8168 - val_loss: 0.1926 - val_accuracy: 0.8140\n",
      "Epoch 23/100\n",
      "443/443 - 13s - loss: 0.1915 - accuracy: 0.8206 - val_loss: 0.1942 - val_accuracy: 0.8118\n",
      "Epoch 24/100\n",
      "443/443 - 13s - loss: 0.1915 - accuracy: 0.8198 - val_loss: 0.1928 - val_accuracy: 0.8216\n",
      "Epoch 25/100\n",
      "443/443 - 13s - loss: 0.1907 - accuracy: 0.8214 - val_loss: 0.1944 - val_accuracy: 0.8064\n",
      "Epoch 26/100\n",
      "443/443 - 13s - loss: 0.1904 - accuracy: 0.8226 - val_loss: 0.1908 - val_accuracy: 0.8191\n",
      "Epoch 27/100\n",
      "443/443 - 13s - loss: 0.1897 - accuracy: 0.8254 - val_loss: 0.1900 - val_accuracy: 0.8180\n",
      "Epoch 28/100\n",
      "443/443 - 13s - loss: 0.1893 - accuracy: 0.8268 - val_loss: 0.1905 - val_accuracy: 0.8140\n",
      "Epoch 29/100\n",
      "443/443 - 13s - loss: 0.1889 - accuracy: 0.8271 - val_loss: 0.1943 - val_accuracy: 0.8047\n",
      "Epoch 30/100\n",
      "443/443 - 13s - loss: 0.1884 - accuracy: 0.8288 - val_loss: 0.1917 - val_accuracy: 0.8185\n",
      "Epoch 31/100\n",
      "443/443 - 13s - loss: 0.1877 - accuracy: 0.8356 - val_loss: 0.1903 - val_accuracy: 0.8256\n",
      "Epoch 32/100\n",
      "443/443 - 13s - loss: 0.1873 - accuracy: 0.8305 - val_loss: 0.1900 - val_accuracy: 0.8236\n",
      "Epoch 33/100\n",
      "443/443 - 12s - loss: 0.1869 - accuracy: 0.8328 - val_loss: 0.1932 - val_accuracy: 0.8140\n",
      "Epoch 34/100\n",
      "443/443 - 13s - loss: 0.1866 - accuracy: 0.8340 - val_loss: 0.1923 - val_accuracy: 0.8056\n",
      "Epoch 35/100\n",
      "443/443 - 13s - loss: 0.1863 - accuracy: 0.8351 - val_loss: 0.1910 - val_accuracy: 0.8168\n",
      "Epoch 36/100\n",
      "443/443 - 13s - loss: 0.1858 - accuracy: 0.8369 - val_loss: 0.1898 - val_accuracy: 0.8194\n",
      "Epoch 37/100\n",
      "443/443 - 13s - loss: 0.1858 - accuracy: 0.8359 - val_loss: 0.1891 - val_accuracy: 0.8236\n",
      "Epoch 38/100\n",
      "443/443 - 13s - loss: 0.1854 - accuracy: 0.8387 - val_loss: 0.1900 - val_accuracy: 0.8166\n",
      "Epoch 39/100\n",
      "443/443 - 13s - loss: 0.1847 - accuracy: 0.8400 - val_loss: 0.1909 - val_accuracy: 0.8129\n",
      "Epoch 40/100\n",
      "443/443 - 13s - loss: 0.1845 - accuracy: 0.8403 - val_loss: 0.1881 - val_accuracy: 0.8256\n",
      "Epoch 41/100\n",
      "443/443 - 13s - loss: 0.1841 - accuracy: 0.8402 - val_loss: 0.1901 - val_accuracy: 0.8163\n",
      "Epoch 42/100\n",
      "443/443 - 13s - loss: 0.1839 - accuracy: 0.8401 - val_loss: 0.1888 - val_accuracy: 0.8298\n",
      "Epoch 43/100\n",
      "443/443 - 13s - loss: 0.1830 - accuracy: 0.8431 - val_loss: 0.1884 - val_accuracy: 0.8233\n",
      "Epoch 44/100\n",
      "443/443 - 12s - loss: 0.1830 - accuracy: 0.8430 - val_loss: 0.1886 - val_accuracy: 0.8267\n",
      "Epoch 45/100\n",
      "443/443 - 13s - loss: 0.1830 - accuracy: 0.8452 - val_loss: 0.1887 - val_accuracy: 0.8236\n",
      "Epoch 46/100\n",
      "443/443 - 13s - loss: 0.1824 - accuracy: 0.8468 - val_loss: 0.1887 - val_accuracy: 0.8197\n",
      "Epoch 47/100\n",
      "443/443 - 13s - loss: 0.1817 - accuracy: 0.8456 - val_loss: 0.1873 - val_accuracy: 0.8363\n",
      "Epoch 48/100\n",
      "443/443 - 13s - loss: 0.1814 - accuracy: 0.8475 - val_loss: 0.1867 - val_accuracy: 0.8383\n",
      "Epoch 49/100\n",
      "443/443 - 13s - loss: 0.1818 - accuracy: 0.8481 - val_loss: 0.1874 - val_accuracy: 0.8307\n",
      "Epoch 50/100\n",
      "443/443 - 13s - loss: 0.1819 - accuracy: 0.8472 - val_loss: 0.1875 - val_accuracy: 0.8292\n",
      "Epoch 51/100\n",
      "443/443 - 13s - loss: 0.1813 - accuracy: 0.8493 - val_loss: 0.1898 - val_accuracy: 0.8194\n",
      "Epoch 52/100\n",
      "443/443 - 14s - loss: 0.1807 - accuracy: 0.8484 - val_loss: 0.1884 - val_accuracy: 0.8281\n",
      "Epoch 53/100\n",
      "443/443 - 13s - loss: 0.1803 - accuracy: 0.8487 - val_loss: 0.1870 - val_accuracy: 0.8312\n",
      "Epoch 54/100\n",
      "443/443 - 13s - loss: 0.1801 - accuracy: 0.8530 - val_loss: 0.1879 - val_accuracy: 0.8295\n",
      "Epoch 55/100\n",
      "443/443 - 13s - loss: 0.1803 - accuracy: 0.8508 - val_loss: 0.1889 - val_accuracy: 0.8309\n",
      "Epoch 56/100\n",
      "443/443 - 12s - loss: 0.1797 - accuracy: 0.8520 - val_loss: 0.1859 - val_accuracy: 0.8394\n",
      "Epoch 57/100\n",
      "443/443 - 13s - loss: 0.1791 - accuracy: 0.8556 - val_loss: 0.1855 - val_accuracy: 0.8380\n",
      "Epoch 58/100\n",
      "443/443 - 13s - loss: 0.1791 - accuracy: 0.8542 - val_loss: 0.1885 - val_accuracy: 0.8183\n",
      "Epoch 59/100\n",
      "443/443 - 13s - loss: 0.1787 - accuracy: 0.8569 - val_loss: 0.1870 - val_accuracy: 0.8290\n",
      "Epoch 60/100\n",
      "443/443 - 13s - loss: 0.1784 - accuracy: 0.8555 - val_loss: 0.1867 - val_accuracy: 0.8228\n",
      "Epoch 61/100\n",
      "443/443 - 13s - loss: 0.1787 - accuracy: 0.8566 - val_loss: 0.1858 - val_accuracy: 0.8315\n",
      "Epoch 62/100\n",
      "443/443 - 13s - loss: 0.1778 - accuracy: 0.8604 - val_loss: 0.1871 - val_accuracy: 0.8292\n",
      "Epoch 63/100\n",
      "443/443 - 12s - loss: 0.1780 - accuracy: 0.8565 - val_loss: 0.1860 - val_accuracy: 0.8385\n",
      "Epoch 64/100\n",
      "443/443 - 12s - loss: 0.1775 - accuracy: 0.8601 - val_loss: 0.1867 - val_accuracy: 0.8349\n",
      "Epoch 65/100\n",
      "443/443 - 13s - loss: 0.1779 - accuracy: 0.8578 - val_loss: 0.1863 - val_accuracy: 0.8411\n",
      "Epoch 66/100\n",
      "443/443 - 13s - loss: 0.1772 - accuracy: 0.8592 - val_loss: 0.1871 - val_accuracy: 0.8419\n",
      "Epoch 67/100\n",
      "443/443 - 13s - loss: 0.1773 - accuracy: 0.8603 - val_loss: 0.1860 - val_accuracy: 0.8380\n",
      "Epoch 68/100\n",
      "443/443 - 13s - loss: 0.1768 - accuracy: 0.8609 - val_loss: 0.1875 - val_accuracy: 0.8321\n",
      "Epoch 69/100\n",
      "443/443 - 13s - loss: 0.1767 - accuracy: 0.8621 - val_loss: 0.1868 - val_accuracy: 0.8363\n",
      "Epoch 70/100\n",
      "443/443 - 13s - loss: 0.1763 - accuracy: 0.8631 - val_loss: 0.1850 - val_accuracy: 0.8408\n",
      "Epoch 71/100\n",
      "443/443 - 13s - loss: 0.1761 - accuracy: 0.8628 - val_loss: 0.1885 - val_accuracy: 0.8281\n",
      "Epoch 72/100\n",
      "443/443 - 13s - loss: 0.1762 - accuracy: 0.8663 - val_loss: 0.1856 - val_accuracy: 0.8335\n",
      "Epoch 73/100\n",
      "443/443 - 13s - loss: 0.1761 - accuracy: 0.8640 - val_loss: 0.1858 - val_accuracy: 0.8377\n",
      "Epoch 74/100\n",
      "443/443 - 13s - loss: 0.1759 - accuracy: 0.8641 - val_loss: 0.1859 - val_accuracy: 0.8411\n",
      "Epoch 75/100\n",
      "443/443 - 13s - loss: 0.1760 - accuracy: 0.8629 - val_loss: 0.1869 - val_accuracy: 0.8284\n",
      "Epoch 76/100\n",
      "443/443 - 13s - loss: 0.1756 - accuracy: 0.8641 - val_loss: 0.1877 - val_accuracy: 0.8245\n",
      "Epoch 77/100\n",
      "443/443 - 13s - loss: 0.1751 - accuracy: 0.8654 - val_loss: 0.1860 - val_accuracy: 0.8439\n",
      "Epoch 78/100\n",
      "443/443 - 13s - loss: 0.1750 - accuracy: 0.8677 - val_loss: 0.1849 - val_accuracy: 0.8411\n",
      "Epoch 79/100\n",
      "443/443 - 13s - loss: 0.1748 - accuracy: 0.8666 - val_loss: 0.1858 - val_accuracy: 0.8405\n",
      "Epoch 80/100\n",
      "443/443 - 13s - loss: 0.1748 - accuracy: 0.8676 - val_loss: 0.1875 - val_accuracy: 0.8357\n"
     ]
    },
    {
     "name": "stdout",
     "output_type": "stream",
     "text": [
      "Epoch 81/100\n",
      "443/443 - 13s - loss: 0.1746 - accuracy: 0.8651 - val_loss: 0.1865 - val_accuracy: 0.8326\n",
      "Epoch 82/100\n",
      "443/443 - 14s - loss: 0.1743 - accuracy: 0.8691 - val_loss: 0.1860 - val_accuracy: 0.8340\n",
      "Epoch 83/100\n",
      "443/443 - 13s - loss: 0.1738 - accuracy: 0.8716 - val_loss: 0.1874 - val_accuracy: 0.8323\n",
      "Epoch 84/100\n",
      "443/443 - 13s - loss: 0.1740 - accuracy: 0.8698 - val_loss: 0.1859 - val_accuracy: 0.8405\n",
      "Epoch 85/100\n",
      "443/443 - 14s - loss: 0.1739 - accuracy: 0.8708 - val_loss: 0.1869 - val_accuracy: 0.8346\n",
      "Epoch 86/100\n",
      "443/443 - 15s - loss: 0.1739 - accuracy: 0.8678 - val_loss: 0.1860 - val_accuracy: 0.8346\n",
      "Epoch 87/100\n",
      "443/443 - 14s - loss: 0.1740 - accuracy: 0.8691 - val_loss: 0.1842 - val_accuracy: 0.8462\n",
      "Epoch 88/100\n",
      "443/443 - 13s - loss: 0.1735 - accuracy: 0.8692 - val_loss: 0.1865 - val_accuracy: 0.8366\n",
      "Epoch 89/100\n",
      "443/443 - 13s - loss: 0.1732 - accuracy: 0.8709 - val_loss: 0.1852 - val_accuracy: 0.8391\n",
      "Epoch 90/100\n",
      "443/443 - 13s - loss: 0.1730 - accuracy: 0.8724 - val_loss: 0.1867 - val_accuracy: 0.8354\n",
      "Epoch 91/100\n",
      "443/443 - 13s - loss: 0.1729 - accuracy: 0.8723 - val_loss: 0.1858 - val_accuracy: 0.8354\n",
      "Epoch 92/100\n",
      "443/443 - 13s - loss: 0.1727 - accuracy: 0.8718 - val_loss: 0.1856 - val_accuracy: 0.8400\n",
      "Epoch 93/100\n",
      "443/443 - 12s - loss: 0.1725 - accuracy: 0.8739 - val_loss: 0.1875 - val_accuracy: 0.8309\n",
      "Epoch 94/100\n",
      "443/443 - 13s - loss: 0.1725 - accuracy: 0.8708 - val_loss: 0.1867 - val_accuracy: 0.8371\n",
      "Epoch 95/100\n",
      "443/443 - 13s - loss: 0.1723 - accuracy: 0.8748 - val_loss: 0.1843 - val_accuracy: 0.8422\n",
      "Epoch 96/100\n",
      "443/443 - 13s - loss: 0.1723 - accuracy: 0.8739 - val_loss: 0.1860 - val_accuracy: 0.8323\n",
      "Epoch 97/100\n",
      "443/443 - 13s - loss: 0.1722 - accuracy: 0.8736 - val_loss: 0.1851 - val_accuracy: 0.8385\n",
      "Epoch 98/100\n",
      "443/443 - 13s - loss: 0.1721 - accuracy: 0.8721 - val_loss: 0.1890 - val_accuracy: 0.8230\n",
      "Epoch 99/100\n",
      "443/443 - 13s - loss: 0.1717 - accuracy: 0.8755 - val_loss: 0.1855 - val_accuracy: 0.8397\n",
      "Epoch 100/100\n",
      "443/443 - 13s - loss: 0.1714 - accuracy: 0.8759 - val_loss: 0.1859 - val_accuracy: 0.8388\n"
     ]
    }
   ],
   "source": [
    "history = fit_model(model2, 64, 100, True, datagen, x_train_arg, y_train_arg, x_val_arg, y_val_arg, x_test_arg)"
   ]
  },
  {
   "cell_type": "markdown",
   "metadata": {},
   "source": [
    "Now we're going to test our model using the test set for the model."
   ]
  },
  {
   "cell_type": "code",
   "execution_count": 24,
   "metadata": {},
   "outputs": [
    {
     "name": "stdout",
     "output_type": "stream",
     "text": [
      "56/56 [==============================] - 1s 9ms/step - loss: 0.1871 - accuracy: 0.8338\n"
     ]
    }
   ],
   "source": [
    "test_loss, test_acc = evaluate_model(model2, x_test_arg, y_test_arg, 64)"
   ]
  },
  {
   "cell_type": "code",
   "execution_count": 25,
   "metadata": {},
   "outputs": [
    {
     "name": "stdout",
     "output_type": "stream",
     "text": [
      "Test loss: 0.1871\n",
      "Test accuracy: 0.8338\n"
     ]
    }
   ],
   "source": [
    "print(f\"Test loss: {test_loss:.4f}\")\n",
    "print(f\"Test accuracy: {test_acc:.4f}\")"
   ]
  },
  {
   "cell_type": "code",
   "execution_count": 26,
   "metadata": {},
   "outputs": [
    {
     "data": {
      "image/png": "[encoded data removed]",
      "text/plain": [
       "<Figure size 432x288 with 1 Axes>"
      ]
     },
     "metadata": {
      "needs_background": "light"
     },
     "output_type": "display_data"
    },
    {
     "data": {
      "image/png": "[encoded data removed]",
      "text/plain": [
       "<Figure size 432x288 with 1 Axes>"
      ]
     },
     "metadata": {
      "needs_background": "light"
     },
     "output_type": "display_data"
    }
   ],
   "source": [
    "plot_acc_loss(history)"
   ]
  },
  {
   "cell_type": "markdown",
   "metadata": {},
   "source": [
    "Okay! We definitely see an improvement in the model! These results are good enough for now! Let's save the model"
   ]
  },
  {
   "cell_type": "code",
   "execution_count": 27,
   "metadata": {},
   "outputs": [
    {
     "name": "stdout",
     "output_type": "stream",
     "text": [
      "INFO:tensorflow:Assets written to: C:\\Users\\storm\\AppData\\Local\\Temp\\tmp4tmums1m\\assets\n"
     ]
    },
    {
     "name": "stderr",
     "output_type": "stream",
     "text": [
      "INFO:tensorflow:Assets written to: C:\\Users\\storm\\AppData\\Local\\Temp\\tmp4tmums1m\\assets\n"
     ]
    }
   ],
   "source": [
    "save_model_to_lite(model2, test_acc)"
   ]
  },
  {
   "cell_type": "code",
   "execution_count": 28,
   "metadata": {},
   "outputs": [
    {
     "name": "stdout",
     "output_type": "stream",
     "text": [
      "INFO:tensorflow:Assets written to: saved_all_model8337\\assets\n"
     ]
    },
    {
     "name": "stderr",
     "output_type": "stream",
     "text": [
      "INFO:tensorflow:Assets written to: saved_all_model8337\\assets\n"
     ]
    },
    {
     "name": "stdout",
     "output_type": "stream",
     "text": [
      "Model is saved in a file.\n"
     ]
    }
   ],
   "source": [
    "save_all_model(model2, test_acc)"
   ]
  },
  {
   "cell_type": "markdown",
   "metadata": {},
   "source": [
    "## Conclusion\n"
   ]
  },
  {
   "cell_type": "markdown",
   "metadata": {},
   "source": [
    "As we have seen, we have saved the last model as `final model` for now. We will use this model in the final version for the project."
   ]
  }
 ],
 "metadata": {
  "kernelspec": {
   "display_name": "Python 3",
   "language": "python",
   "name": "python3"
  },
  "language_info": {
   "codemirror_mode": {
    "name": "ipython",
    "version": 3
   },
   "file_extension": ".py",
   "mimetype": "text/x-python",
   "name": "python",
   "nbconvert_exporter": "python",
   "pygments_lexer": "ipython3",
   "version": "3.7.6"
  }
 },
 "nbformat": 4,
 "nbformat_minor": 4
}
