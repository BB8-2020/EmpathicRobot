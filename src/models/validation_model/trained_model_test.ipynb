{
 "cells": [
  {
   "cell_type": "markdown",
   "metadata": {},
   "source": [
    "# Validation set validation\n",
    "\n",
    "We want to import our photo's from our json file and calculate how good our photo's are. We will do this by running al our photo's in an already trained model and see how many times the model can guess the correct emotion.\n",
    " \n",
    "\n",
    "And one more thing. In the cell underneath this one, we have set a path. You need to change this path to where you saved the 'EmpathicRobot' on your pc. "
   ]
  },
  {
   "cell_type": "code",
   "execution_count": null,
   "metadata": {},
   "outputs": [],
   "source": [
    "import os\n",
    "# Change path to the correct directory. \n",
    "os.chdir(\"/Users/Charlie/Desktop/School/Jaar_2/BB8/EmpathicRobot\")\n",
    "\n",
    "import numpy as np\n",
    "import pandas as pd\n",
    "from detector_accuracy import calculate_accuracy"
   ]
  },
  {
   "cell_type": "markdown",
   "metadata": {},
   "source": [
    "### Preparation \n",
    "To prepare for the calculations, we first need to grab our validationset (which we stored as a json file). We will go to the directory we stored it and will read it in. Put the path to the .json file, that was made in the validation_set_main notebook, below."
   ]
  },
  {
   "cell_type": "code",
   "execution_count": null,
   "metadata": {},
   "outputs": [],
   "source": [
    "validationset = pd.read_json('/models/validation_model/data/validation_set.json')"
   ]
  },
  {
   "cell_type": "code",
   "execution_count": null,
   "metadata": {},
   "outputs": [],
   "source": [
    "# Get the right data in the right variables.\n",
    "photos = np.array(validationset['Photo'].values.tolist())\n",
    "emotions = validationset['Correct_emotion'].values.tolist()"
   ]
  },
  {
   "cell_type": "markdown",
   "metadata": {},
   "source": [
    "### Calculations\n",
    "We imported a function named 'calculate_accuracy'. We are going to put our photo's and emotions into this function and it will calculate the accuracy of the emotion detector on our photo's."
   ]
  },
  {
   "cell_type": "code",
   "execution_count": null,
   "metadata": {},
   "outputs": [],
   "source": [
    "correct = calculate_accuracy(photos, emotions)"
   ]
  },
  {
   "cell_type": "markdown",
   "metadata": {},
   "source": [
    "The purpose of this file was to find out whether or not the photo's in the validation set are of good quality. We have run our photo's through a pre-trained emotion detector and we have calculated it's accuracy on our validation set. By 'accuracy' I mean, the percentage of photo's that the detector has correctly guessed the emotion that is depicted by the person in the image. The cell below will show you the accuracy."
   ]
  },
  {
   "cell_type": "code",
   "execution_count": null,
   "metadata": {},
   "outputs": [],
   "source": [
    "f'{correct}% of guesses by the emotion detector were correct.'"
   ]
  }
 ],
 "metadata": {
  "kernelspec": {
   "display_name": "Python 3",
   "language": "python",
   "name": "python3"
  },
  "language_info": {
   "codemirror_mode": {
    "name": "ipython",
    "version": 3
   },
   "file_extension": ".py",
   "mimetype": "text/x-python",
   "name": "python",
   "nbconvert_exporter": "python",
   "pygments_lexer": "ipython3",
   "version": "3.8.5"
  }
 },
 "nbformat": 4,
 "nbformat_minor": 4
}
