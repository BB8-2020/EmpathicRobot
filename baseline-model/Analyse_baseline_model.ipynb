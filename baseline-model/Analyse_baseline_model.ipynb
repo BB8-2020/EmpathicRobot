{
 "cells": [
  {
   "cell_type": "markdown",
   "metadata": {},
   "source": [
    "# Analyse baseline model "
   ]
  },
  {
   "cell_type": "markdown",
   "metadata": {},
   "source": [
    "In this document we will create a baseline model that is the simplest solution for us.\n",
    "This baseline model was created with a CNN network. The structure of the model can be found in [this](https://github.com/BB8-2020/EmpathicRobot/blob/baseline-model/baseline-model/baseline_model.py) file. "
   ]
  },
  {
   "cell_type": "code",
   "execution_count": 1,
   "metadata": {},
   "outputs": [],
   "source": [
    "# import the model python code \n",
    "import baseline_model as ml\n",
    "import matplotlib.pyplot as plt"
   ]
  },
  {
   "cell_type": "markdown",
   "metadata": {},
   "source": [
    "Lets us start with creating the model:"
   ]
  },
  {
   "cell_type": "code",
   "execution_count": 2,
   "metadata": {},
   "outputs": [],
   "source": [
    "baseline_model = ml.create_model()"
   ]
  },
  {
   "cell_type": "markdown",
   "metadata": {},
   "source": [
    "The model summary looks as here below:"
   ]
  },
  {
   "cell_type": "markdown",
   "metadata": {},
   "source": [
    "### Build model \n",
    "__1. Conv Layer__\n",
    "\n",
    "The first layer consists of 32 3x3 filters with ReLU. We set the input of this layer equal to the shape of the train data, which is (48, 48, 1).\n",
    "\n",
    "We leave the stride and padding at the default value. In the next model we are going to play with this but for now we keep it at 1 and \"vaild\".\n",
    "\n",
    "We do add a Batch normalization. The output of this layer (the activation map) is (46, 46, 32).\n",
    "\n",
    "__2. Conv Layer__\n",
    "\n",
    "The second layer consists of 64 filters of 3x3 and here we apply batch normalization. The output of this layer woudld be (44, 44, 64) \n",
    "\n",
    "__3. Conv Layer__\n",
    "\n",
    "The last conv layer consists of 128 filters of 3x3 and we also apply a max pooling of (2,2) that produce output shape of (21, 21, 128). We also add a batch normalization to this layer. \n",
    "\n",
    "To this layer we add a flatten option, that means the output shape of this layer would be (56448) \n",
    "\n",
    "__4. fully connected layer__\n",
    "\n",
    "This layer takes (56448) as input. The output shape of this layer is the probability of 2 classes. "
   ]
  },
  {
   "cell_type": "code",
   "execution_count": 3,
   "metadata": {},
   "outputs": [
    {
     "name": "stdout",
     "output_type": "stream",
     "text": [
      "Model: \"sequential\"\n",
      "_________________________________________________________________\n",
      "Layer (type)                 Output Shape              Param #   \n",
      "=================================================================\n",
      "conv1 (Conv2D)               (None, 46, 46, 32)        320       \n",
      "_________________________________________________________________\n",
      "batch_normalization (BatchNo (None, 46, 46, 32)        128       \n",
      "_________________________________________________________________\n",
      "conv2 (Conv2D)               (None, 44, 44, 64)        18496     \n",
      "_________________________________________________________________\n",
      "batch_normalization_1 (Batch (None, 44, 44, 64)        256       \n",
      "_________________________________________________________________\n",
      "max_pooling2d (MaxPooling2D) (None, 22, 22, 64)        0         \n",
      "_________________________________________________________________\n",
      "flatten (Flatten)            (None, 30976)             0         \n",
      "_________________________________________________________________\n",
      "dense (Dense)                (None, 2)                 61954     \n",
      "=================================================================\n",
      "Total params: 81,154\n",
      "Trainable params: 80,962\n",
      "Non-trainable params: 192\n",
      "_________________________________________________________________\n"
     ]
    }
   ],
   "source": [
    "baseline_model.summary()"
   ]
  },
  {
   "cell_type": "markdown",
   "metadata": {},
   "source": [
    "Looks good, time to compile!"
   ]
  },
  {
   "cell_type": "markdown",
   "metadata": {},
   "source": [
    "## Model compile and train"
   ]
  },
  {
   "cell_type": "markdown",
   "metadata": {},
   "source": [
    "To compile the model we use Adam optimaizer and categorical_crossentropy as los function. Let us now train the model. We start by reading the correct json dataset."
   ]
  },
  {
   "cell_type": "code",
   "execution_count": 4,
   "metadata": {},
   "outputs": [],
   "source": [
    "# parameter is the correct path to the json file.\n",
    "train_frame = ml.read_data(\"../../test_data_lead/ferPlus_final_data_json/train_happy_frame.json\")"
   ]
  },
  {
   "cell_type": "markdown",
   "metadata": {},
   "source": [
    "Now we create the trainsets and use these to train our model."
   ]
  },
  {
   "cell_type": "code",
   "execution_count": 5,
   "metadata": {},
   "outputs": [
    {
     "name": "stdout",
     "output_type": "stream",
     "text": [
      "Epoch 1/10\n",
      "353/353 [==============================] - 6s 12ms/step - loss: 1.5168 - accuracy: 0.4296 - val_loss: 3.7577 - val_accuracy: 0.5810\n",
      "Epoch 2/10\n",
      "353/353 [==============================] - 4s 10ms/step - loss: 1.8715 - accuracy: 0.4294 - val_loss: 1.1048 - val_accuracy: 0.3516\n",
      "Epoch 3/10\n",
      "353/353 [==============================] - 4s 10ms/step - loss: 1.3263 - accuracy: 0.4080 - val_loss: 1.5580 - val_accuracy: 0.4266\n",
      "Epoch 4/10\n",
      "353/353 [==============================] - 4s 10ms/step - loss: 1.3485 - accuracy: 0.3955 - val_loss: 2.7683 - val_accuracy: 0.3449\n",
      "Epoch 5/10\n",
      "353/353 [==============================] - 4s 11ms/step - loss: 1.9475 - accuracy: 0.4198 - val_loss: 0.9944 - val_accuracy: 0.4478\n",
      "Epoch 6/10\n",
      "353/353 [==============================] - 4s 11ms/step - loss: 1.2350 - accuracy: 0.5808 - val_loss: 1.0695 - val_accuracy: 0.5339\n",
      "Epoch 7/10\n",
      "353/353 [==============================] - 4s 11ms/step - loss: 1.1884 - accuracy: 0.5499 - val_loss: 1.2095 - val_accuracy: 0.5185\n",
      "Epoch 8/10\n",
      "353/353 [==============================] - 4s 10ms/step - loss: 1.7943 - accuracy: 0.4940 - val_loss: 1.7055 - val_accuracy: 0.4792\n",
      "Epoch 9/10\n",
      "353/353 [==============================] - 4s 10ms/step - loss: 1.2872 - accuracy: 0.5173 - val_loss: 0.9617 - val_accuracy: 0.5548\n",
      "Epoch 10/10\n",
      "353/353 [==============================] - 4s 11ms/step - loss: 1.0148 - accuracy: 0.4981 - val_loss: 1.0187 - val_accuracy: 0.4292\n"
     ]
    }
   ],
   "source": [
    "# the trainsets are created when calling the train function.\n",
    "history = ml.train_model(model= baseline_model, frame= train_frame, batch_size= 64, epochs= 10, vs= 0.2)"
   ]
  },
  {
   "cell_type": "code",
   "execution_count": 6,
   "metadata": {},
   "outputs": [],
   "source": [
    "# hier beschrijf je het resultaat van het model, teken hierbij een mooi plot van de acc en loss fucntie "
   ]
  },
  {
   "cell_type": "markdown",
   "metadata": {},
   "source": [
    "Now we're going to test our model using the testfile for the baseline model."
   ]
  },
  {
   "cell_type": "code",
   "execution_count": 7,
   "metadata": {},
   "outputs": [],
   "source": [
    "test_frame = ml.read_data(\"../../test_data_lead/ferPlus_final_data_json/test_happy_frame.json\")"
   ]
  },
  {
   "cell_type": "code",
   "execution_count": 8,
   "metadata": {},
   "outputs": [
    {
     "name": "stdout",
     "output_type": "stream",
     "text": [
      "28/28 [==============================] - 1s 13ms/step - loss: 0.9994 - accuracy: 0.4193\n",
      "Test loss: 0.9994\n",
      "Test accuracy: 0.4193\n"
     ]
    }
   ],
   "source": [
    "loss, accuracy = ml.evaluate_model(model = baseline_model, frame= test_frame, batch_size=256)\n",
    "print(f\"Test loss: {loss:.4f}\")\n",
    "print(f\"Test accuracy: {accuracy:.4f}\")"
   ]
  },
  {
   "cell_type": "markdown",
   "metadata": {},
   "source": [
    "## Results"
   ]
  },
  {
   "cell_type": "code",
   "execution_count": 9,
   "metadata": {},
   "outputs": [],
   "source": [
    "#Deze functie mag je ergens anders platsen + docuemteren \n",
    "def plot_results(history):\n",
    "    \"\"\"Plot the results of the fit function of the model.\n",
    "       takes history: A nummpy array as input.\"\"\"\n",
    "    \n",
    "    plt.plot(history.history['accuracy'])\n",
    "    plt.plot(history.history['val_accuracy'])\n",
    "    plt.title('model accuracy')\n",
    "    plt.ylabel('accuracy')\n",
    "    plt.xlabel('epoch')\n",
    "    plt.legend(['train', 'test'], loc='upper left')\n",
    "    plt.show()\n",
    "    \n",
    "    plt.plot(history.history['loss'])\n",
    "    plt.plot(history.history['val_loss'])\n",
    "    plt.title('model loss')\n",
    "    plt.ylabel('loss')\n",
    "    plt.xlabel('epoch')\n",
    "    plt.legend(['train', 'test'], loc='upper left')\n",
    "    plt.show()"
   ]
  },
  {
   "cell_type": "code",
   "execution_count": 10,
   "metadata": {},
   "outputs": [
    {
     "data": {
      "image/png": "[encoded data removed]",
      "text/plain": [
       "<Figure size 432x288 with 1 Axes>"
      ]
     },
     "metadata": {
      "needs_background": "light"
     },
     "output_type": "display_data"
    },
    {
     "data": {
      "image/png": "[encoded data removed]",
      "text/plain": [
       "<Figure size 432x288 with 1 Axes>"
      ]
     },
     "metadata": {
      "needs_background": "light"
     },
     "output_type": "display_data"
    }
   ],
   "source": [
    "plot_results(history)"
   ]
  },
  {
   "cell_type": "markdown",
   "metadata": {},
   "source": [
    "## Conclusion "
   ]
  },
  {
   "cell_type": "code",
   "execution_count": 11,
   "metadata": {},
   "outputs": [],
   "source": [
    "# hier zeg we wat de resultaten van het model betekennen en waarvoor we deze resultaten precies gaan gebruiken. "
   ]
  },
  {
   "cell_type": "code",
   "execution_count": null,
   "metadata": {},
   "outputs": [],
   "source": []
  }
 ],
 "metadata": {
  "kernelspec": {
   "display_name": "Python 3",
   "language": "python",
   "name": "python3"
  },
  "language_info": {
   "codemirror_mode": {
    "name": "ipython",
    "version": 3
   },
   "file_extension": ".py",
   "mimetype": "text/x-python",
   "name": "python",
   "nbconvert_exporter": "python",
   "pygments_lexer": "ipython3",
   "version": "3.7.6"
  }
 },
 "nbformat": 4,
 "nbformat_minor": 2
}
