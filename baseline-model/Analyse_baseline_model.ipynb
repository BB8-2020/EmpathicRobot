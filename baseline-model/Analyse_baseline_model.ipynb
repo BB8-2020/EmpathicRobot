{
 "cells": [
  {
   "cell_type": "markdown",
   "metadata": {},
   "source": [
    "# Analyse baseline model "
   ]
  },
  {
   "cell_type": "markdown",
   "metadata": {},
   "source": [
    "In this document we will create a baseline model that is the simplest solution for us.\n",
    "This baseline model was created with a CNN network. The structure of the model can be found in [this](https://github.com/BB8-2020/EmpathicRobot/blob/baseline-model/baseline-model/baseline_model.py) file. "
   ]
  },
  {
   "cell_type": "code",
   "execution_count": 1,
   "metadata": {},
   "outputs": [],
   "source": [
    "# import the model python code \n",
    "import baseline_model as ml\n",
    "import matplotlib.pyplot as plt\n",
    "import tensorflow as tf"
   ]
  },
  {
   "cell_type": "markdown",
   "metadata": {},
   "source": [
    "Lets us start with creating the model:"
   ]
  },
  {
   "cell_type": "code",
   "execution_count": 2,
   "metadata": {},
   "outputs": [],
   "source": [
    "baseline_model = ml.create_model()"
   ]
  },
  {
   "cell_type": "markdown",
   "metadata": {},
   "source": [
    "The model summary looks as here below:"
   ]
  },
  {
   "cell_type": "markdown",
   "metadata": {},
   "source": [
    "### Build model \n",
    "__1. Conv Layer__\n",
    "\n",
    "The first layer consists of 32 3x3 filters with ReLU. We set the input of this layer equal to the shape of the train data, which is (48, 48, 1).\n",
    "\n",
    "We leave the stride and padding at the default value. In the next model we are going to play with this but for now we keep it at 1 and \"vaild\".\n",
    "\n",
    "We do add a Batch normalization. The output of this layer (the activation map) is (46, 46, 32).\n",
    "\n",
    "__2. Conv Layer__\n",
    "\n",
    "The second layer consists of 64 filters of 3x3 and here we apply batch normalization and relu as well. The output of this layer woudld be (44, 44, 64). we also apply a max pooling of (2,2) that produces an output shape of (22, 22, 64).\n",
    "\n",
    "To this layer we add a flatten option, that means the output shape of this layer would be (30976) \n",
    "\n",
    "__3. fully connected layer__\n",
    "\n",
    "This layer takes (30976) as input. The output shape of this layer is the probability of 2 classes. "
   ]
  },
  {
   "cell_type": "code",
   "execution_count": 3,
   "metadata": {},
   "outputs": [
    {
     "name": "stdout",
     "output_type": "stream",
     "text": [
      "Model: \"sequential\"\n",
      "_________________________________________________________________\n",
      "Layer (type)                 Output Shape              Param #   \n",
      "=================================================================\n",
      "conv1 (Conv2D)               (None, 46, 46, 32)        320       \n",
      "_________________________________________________________________\n",
      "batch_normalization (BatchNo (None, 46, 46, 32)        128       \n",
      "_________________________________________________________________\n",
      "conv2 (Conv2D)               (None, 44, 44, 64)        18496     \n",
      "_________________________________________________________________\n",
      "batch_normalization_1 (Batch (None, 44, 44, 64)        256       \n",
      "_________________________________________________________________\n",
      "max_pooling2d (MaxPooling2D) (None, 22, 22, 64)        0         \n",
      "_________________________________________________________________\n",
      "flatten (Flatten)            (None, 30976)             0         \n",
      "_________________________________________________________________\n",
      "dense (Dense)                (None, 2)                 61954     \n",
      "=================================================================\n",
      "Total params: 81,154\n",
      "Trainable params: 80,962\n",
      "Non-trainable params: 192\n",
      "_________________________________________________________________\n"
     ]
    }
   ],
   "source": [
    "baseline_model.summary()"
   ]
  },
  {
   "cell_type": "markdown",
   "metadata": {},
   "source": [
    "Looks good, time to compile!"
   ]
  },
  {
   "cell_type": "markdown",
   "metadata": {},
   "source": [
    "## Model compile and train"
   ]
  },
  {
   "cell_type": "markdown",
   "metadata": {},
   "source": [
    "To compile the model we use Adam optimaizer and categorical_crossentropy as los function. Let us now train the model. We start by reading the correct json dataset."
   ]
  },
  {
   "cell_type": "code",
   "execution_count": 4,
   "metadata": {},
   "outputs": [],
   "source": [
    "# parameter is the correct path to the json file.\n",
    "train_frame = ml.read_data(\"train_happy_frame.json\")"
   ]
  },
  {
   "cell_type": "markdown",
   "metadata": {},
   "source": [
    "Now we create the trainsets and use these to compile and train our model."
   ]
  },
  {
   "cell_type": "code",
   "execution_count": 5,
   "metadata": {},
   "outputs": [],
   "source": [
    "# compile the model\n",
    "ml.compile_model(model=baseline_model)"
   ]
  },
  {
   "cell_type": "code",
   "execution_count": 6,
   "metadata": {},
   "outputs": [
    {
     "name": "stdout",
     "output_type": "stream",
     "text": [
      "Epoch 1/10\n",
      "353/353 [==============================] - 49s 137ms/step - loss: 2.0717 - accuracy: 0.4133 - val_loss: 0.8821 - val_accuracy: 0.3114\n",
      "Epoch 2/10\n",
      "353/353 [==============================] - 47s 133ms/step - loss: 1.5227 - accuracy: 0.4576 - val_loss: 1.0061 - val_accuracy: 0.5908\n",
      "Epoch 3/10\n",
      "353/353 [==============================] - 47s 134ms/step - loss: 0.9891 - accuracy: 0.5809 - val_loss: 0.8567 - val_accuracy: 0.5881\n",
      "Epoch 4/10\n",
      "353/353 [==============================] - 47s 133ms/step - loss: 1.3785 - accuracy: 0.5072 - val_loss: 1.0573 - val_accuracy: 0.2696\n",
      "Epoch 5/10\n",
      "353/353 [==============================] - 47s 132ms/step - loss: 1.0687 - accuracy: 0.4468 - val_loss: 1.5852 - val_accuracy: 0.4703\n",
      "Epoch 6/10\n",
      "353/353 [==============================] - 47s 132ms/step - loss: 1.6091 - accuracy: 0.5268 - val_loss: 1.1052 - val_accuracy: 0.4804\n",
      "Epoch 7/10\n",
      "353/353 [==============================] - 48s 136ms/step - loss: 1.3726 - accuracy: 0.5099 - val_loss: 1.1308 - val_accuracy: 0.4461\n",
      "Epoch 8/10\n",
      "353/353 [==============================] - 47s 133ms/step - loss: 1.2115 - accuracy: 0.5211 - val_loss: 5.3319 - val_accuracy: 0.7059\n",
      "Epoch 9/10\n",
      "353/353 [==============================] - 46s 131ms/step - loss: 2.0904 - accuracy: 0.4540 - val_loss: 2.0771 - val_accuracy: 0.7095\n",
      "Epoch 10/10\n",
      "353/353 [==============================] - 47s 132ms/step - loss: 1.2973 - accuracy: 0.5989 - val_loss: 1.4019 - val_accuracy: 0.5750\n"
     ]
    }
   ],
   "source": [
    "# the trainsets are created when calling the train function.\n",
    "history = ml.train_model(model= baseline_model, frame= train_frame, batch_size= 64, epochs= 10, vs= 0.2, save= False)"
   ]
  },
  {
   "cell_type": "markdown",
   "metadata": {},
   "source": [
    "Now we're going to test our model using the testfile for the baseline model."
   ]
  },
  {
   "cell_type": "code",
   "execution_count": 7,
   "metadata": {},
   "outputs": [],
   "source": [
    "# parameter is the correct path to the json file.\n",
    "test_frame = ml.read_data(\"test_happy_frame.json\")"
   ]
  },
  {
   "cell_type": "code",
   "execution_count": 8,
   "metadata": {},
   "outputs": [
    {
     "name": "stdout",
     "output_type": "stream",
     "text": [
      "28/28 [==============================] - 3s 112ms/step - loss: 1.4174 - accuracy: 0.5878\n",
      "Test loss: 1.4174\n",
      "Test accuracy: 0.5878\n"
     ]
    }
   ],
   "source": [
    "loss, accuracy = ml.evaluate_model(model = baseline_model, frame= test_frame, batch_size=256)\n",
    "print(f\"Test loss: {loss:.4f}\")\n",
    "print(f\"Test accuracy: {accuracy:.4f}\")"
   ]
  },
  {
   "cell_type": "markdown",
   "metadata": {},
   "source": [
    "## Results"
   ]
  },
  {
   "cell_type": "markdown",
   "metadata": {},
   "source": [
    "Looking at the results we can say that our model isn't overfit. \n",
    "\n",
    "The accuracy from our training isn't to high or to low. Which is good since this model is a really simple one which only consists of 3 layers. It shouldn't have a high accuracy else it would have been overfitted. We are now going to compare our train and test results with the plot below."
   ]
  },
  {
   "cell_type": "code",
   "execution_count": 9,
   "metadata": {},
   "outputs": [],
   "source": [
    "#Deze functie mag je ergens anders platsen + docuemteren \n",
    "def plot_results(history):\n",
    "    \"\"\"Plot the results of the fit function of the model.\n",
    "       takes history: A nummpy array as input.\"\"\"\n",
    "    \n",
    "    plt.plot(history.history['accuracy'])\n",
    "    plt.plot(history.history['val_accuracy'])\n",
    "    plt.title('model accuracy')\n",
    "    plt.ylabel('accuracy')\n",
    "    plt.xlabel('epoch')\n",
    "    plt.legend(['train', 'test'], loc='upper left')\n",
    "    plt.show()\n",
    "    \n",
    "    plt.plot(history.history['loss'])\n",
    "    plt.plot(history.history['val_loss'])\n",
    "    plt.title('model loss')\n",
    "    plt.ylabel('loss')\n",
    "    plt.xlabel('epoch')\n",
    "    plt.legend(['train', 'test'], loc='upper left')\n",
    "    plt.show()"
   ]
  },
  {
   "cell_type": "code",
   "execution_count": 10,
   "metadata": {},
   "outputs": [
    {
     "data": {
      "image/png": "[encoded data removed]",
      "text/plain": [
       "<Figure size 432x288 with 1 Axes>"
      ]
     },
     "metadata": {
      "needs_background": "light"
     },
     "output_type": "display_data"
    },
    {
     "data": {
      "image/png": "[encoded data removed]",
      "text/plain": [
       "<Figure size 432x288 with 1 Axes>"
      ]
     },
     "metadata": {
      "needs_background": "light"
     },
     "output_type": "display_data"
    }
   ],
   "source": [
    "plot_results(history)"
   ]
  },
  {
   "cell_type": "markdown",
   "metadata": {},
   "source": [
    "As you can see. The accuracy and loss of our test result are pretty similair to that of the train result (except for some points at the beginning). This proves that our model isn't overfitted, because if that was the case the train result would keep getting better as the test result would get worse at some point. Here the points keep close to each other. If one result improves the other one improves as well."
   ]
  },
  {
   "cell_type": "markdown",
   "metadata": {},
   "source": [
    "## Save Model"
   ]
  },
  {
   "cell_type": "markdown",
   "metadata": {},
   "source": [
    "Now we need to save the model that we could use in the application. "
   ]
  },
  {
   "cell_type": "code",
   "execution_count": 11,
   "metadata": {},
   "outputs": [
    {
     "name": "stdout",
     "output_type": "stream",
     "text": [
      "INFO:tensorflow:Assets written to: training/baseline/assets\n"
     ]
    }
   ],
   "source": [
    "# Save modelas pb model\n",
    "baseline_model.save('training/baseline')"
   ]
  },
  {
   "cell_type": "markdown",
   "metadata": {},
   "source": [
    "Now we can make a lite tenserflow model of the baseline. This model could be used in the application! "
   ]
  },
  {
   "cell_type": "code",
   "execution_count": 12,
   "metadata": {},
   "outputs": [],
   "source": [
    "# Convert the model\n",
    "converter = tf.lite.TFLiteConverter.from_saved_model('training_1/my_model') # path to the SavedModel directory\n",
    "tflite_model = converter.convert()\n",
    "\n",
    "# Save the model.\n",
    "with open('baseline.tflite', 'wb') as f:\n",
    "  f.write(tflite_model)"
   ]
  },
  {
   "cell_type": "markdown",
   "metadata": {},
   "source": [
    "## Conclusion "
   ]
  },
  {
   "cell_type": "markdown",
   "metadata": {},
   "source": [
    "Given these results. We can see that a simpel model is almost enough to answer small questions like \"is someone happy or not\". Even tough our final model is of course more complicated than this one and it will need to check on more emotions than just happy. It can be used as an basis and example for the final model. Using these results we can compare them to the results of future models to see if our more complicated models are actually improving or not. Since that is one of our goals. To make an more complicated model that can recognize more emotions and scores better than the baseline model."
   ]
  }
 ],
 "metadata": {
  "kernelspec": {
   "display_name": "Python 3.7 (Data Science)",
   "language": "python",
   "name": "py3.7-ds"
  },
  "language_info": {
   "codemirror_mode": {
    "name": "ipython",
    "version": 3
   },
   "file_extension": ".py",
   "mimetype": "text/x-python",
   "name": "python",
   "nbconvert_exporter": "python",
   "pygments_lexer": "ipython3",
   "version": "3.7.10"
  }
 },
 "nbformat": 4,
 "nbformat_minor": 4
}
